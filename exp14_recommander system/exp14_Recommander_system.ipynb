{
 "cells": [
  {
   "cell_type": "markdown",
   "metadata": {},
   "source": [
    "# EXP 14. Movielens 영화 추천"
   ]
  },
  {
   "cell_type": "markdown",
   "metadata": {},
   "source": [
    "## 0. 들어가며\n",
    "\n",
    "이전 스텝에서 배운 MF 모델 학습 방법을 토대로, 내가 좋아할 만한 영화 추천 시스템을 제작해 보겠습니다.\n",
    "\n",
    "이번에 활용할 데이터셋은 추천 시스템의 MNIST라고 부를만한 Movielens 데이터입니다.\n",
    "\n",
    "* 유저가 영화에 대해 평점을 매긴 데이터가 데이터 크기 별로 있습니다. MovieLens 1M Dataset 사용을 권장합니다.\n",
    "* 별점 데이터는 대표적인 explicit 데이터입니다. 하지만 implicit 데이터로 간주하고 테스트해 볼 수 있습니다.\n",
    "* 별점을 시청횟수로 해석해서 생각하겠습니다.\n",
    "* 또한 유저가 3점 미만으로 준 데이터는 선호하지 않는다고 가정하고 제외하겠습니다.\n",
    "Cloud Storage에 미리 업로드된 ml-1m폴더 내 파일을 심볼릭 링크로 개인 storage에 연결해 줍니다.\n",
    "\n"
   ]
  },
  {
   "cell_type": "markdown",
   "metadata": {},
   "source": [
    "### 0.1 프로젝트 목표\n",
    "***\n",
    "* MF모델, AlternatingLeastSquares모델에 대해 이해하기\n",
    "* 아이템, 유저/유사도, 기여도에 대해 이해하기"
   ]
  },
  {
   "cell_type": "markdown",
   "metadata": {},
   "source": [
    "### 0.2 루브릭\n",
    "***\n",
    "\n",
    "|**평가문항**|**상세기준**|\n",
    "|------------|-------------|\n",
    "|1. CSR matrix가 정상적으로 만들어졌다.|사용자와 아이템 개수를 바탕으로 정확한 사이즈로 만들었다.|\n",
    "|2. MF 모델이 정상적으로 훈련되어 그럴듯한 추천이 이루어졌다.|사용자와 아이템 벡터 내적수치가 의미있게 형성되었다.|\n",
    "|3. 비슷한 영화 찾기와 유저에게 추천하기의 과정이 정상적으로 진행되었다.|MF모델이 예측한 유저 선호도 및 아이템간 유사도, 기여도가 의미있게 측정되었다.|"
   ]
  },
  {
   "cell_type": "markdown",
   "metadata": {},
   "source": [
    "### 0.2 Import package"
   ]
  },
  {
   "cell_type": "code",
   "execution_count": 1,
   "metadata": {},
   "outputs": [],
   "source": [
    "# 커널정보 3.7\n",
    "import pandas as pd\n",
    "import numpy as np\n",
    "from scipy.sparse import csr_matrix\n",
    "from implicit.als import AlternatingLeastSquares"
   ]
  },
  {
   "cell_type": "markdown",
   "metadata": {},
   "source": [
    "## 1. 데이터 준비와 전처리\n",
    "***\n",
    "Movielens 데이터는 `rating.dat` 안에 이미 인덱싱까지 완료된 사용자-영화-평점 데이터가 깔끔하게 정리되어 있습니다."
   ]
  },
  {
   "cell_type": "code",
   "execution_count": 2,
   "metadata": {},
   "outputs": [
    {
     "data": {
      "text/html": [
       "<div>\n",
       "<style scoped>\n",
       "    .dataframe tbody tr th:only-of-type {\n",
       "        vertical-align: middle;\n",
       "    }\n",
       "\n",
       "    .dataframe tbody tr th {\n",
       "        vertical-align: top;\n",
       "    }\n",
       "\n",
       "    .dataframe thead th {\n",
       "        text-align: right;\n",
       "    }\n",
       "</style>\n",
       "<table border=\"1\" class=\"dataframe\">\n",
       "  <thead>\n",
       "    <tr style=\"text-align: right;\">\n",
       "      <th></th>\n",
       "      <th>user_id</th>\n",
       "      <th>movie_id</th>\n",
       "      <th>ratings</th>\n",
       "      <th>timestamp</th>\n",
       "    </tr>\n",
       "  </thead>\n",
       "  <tbody>\n",
       "    <tr>\n",
       "      <th>0</th>\n",
       "      <td>1</td>\n",
       "      <td>1193</td>\n",
       "      <td>5</td>\n",
       "      <td>978300760</td>\n",
       "    </tr>\n",
       "    <tr>\n",
       "      <th>1</th>\n",
       "      <td>1</td>\n",
       "      <td>661</td>\n",
       "      <td>3</td>\n",
       "      <td>978302109</td>\n",
       "    </tr>\n",
       "    <tr>\n",
       "      <th>2</th>\n",
       "      <td>1</td>\n",
       "      <td>914</td>\n",
       "      <td>3</td>\n",
       "      <td>978301968</td>\n",
       "    </tr>\n",
       "    <tr>\n",
       "      <th>3</th>\n",
       "      <td>1</td>\n",
       "      <td>3408</td>\n",
       "      <td>4</td>\n",
       "      <td>978300275</td>\n",
       "    </tr>\n",
       "    <tr>\n",
       "      <th>4</th>\n",
       "      <td>1</td>\n",
       "      <td>2355</td>\n",
       "      <td>5</td>\n",
       "      <td>978824291</td>\n",
       "    </tr>\n",
       "  </tbody>\n",
       "</table>\n",
       "</div>"
      ],
      "text/plain": [
       "   user_id  movie_id  ratings  timestamp\n",
       "0        1      1193        5  978300760\n",
       "1        1       661        3  978302109\n",
       "2        1       914        3  978301968\n",
       "3        1      3408        4  978300275\n",
       "4        1      2355        5  978824291"
      ]
     },
     "execution_count": 2,
     "metadata": {},
     "output_type": "execute_result"
    }
   ],
   "source": [
    "rating_file_path = 'D:/project/aiffel_exp/data/exp14/project/ratings.dat'\n",
    "ratings_cols = ['user_id', 'movie_id', 'ratings', 'timestamp']\n",
    "ratings = pd.read_csv(rating_file_path, sep='::',\n",
    "                      names=ratings_cols, engine='python', encoding=\"ISO-8859-1\")\n",
    "orginal_data_size = len(ratings)\n",
    "ratings.head()"
   ]
  },
  {
   "cell_type": "code",
   "execution_count": 3,
   "metadata": {},
   "outputs": [
    {
     "name": "stdout",
     "output_type": "stream",
     "text": [
      "orginal_data_size: 1000209, filtered_data_size: 836478\n",
      "Ratio of Remaining Data is 83.63%\n"
     ]
    }
   ],
   "source": [
    "# 3점 이상만 남깁니다.\n",
    "ratings = ratings[ratings['ratings']>=3]\n",
    "filtered_data_size = len(ratings)\n",
    "\n",
    "print(f'orginal_data_size: {orginal_data_size}, filtered_data_size: {filtered_data_size}')\n",
    "print(f'Ratio of Remaining Data is {filtered_data_size / orginal_data_size:.2%}')"
   ]
  },
  {
   "cell_type": "code",
   "execution_count": 4,
   "metadata": {},
   "outputs": [],
   "source": [
    "# ratings 컬럼의 이름을 counts로 바꿉니다.\n",
    "ratings.rename(columns={'ratings':'counts'}, inplace=True)"
   ]
  },
  {
   "cell_type": "code",
   "execution_count": 5,
   "metadata": {},
   "outputs": [
    {
     "data": {
      "text/plain": [
       "0          5\n",
       "1          3\n",
       "2          3\n",
       "3          4\n",
       "4          5\n",
       "          ..\n",
       "1000203    3\n",
       "1000205    5\n",
       "1000206    5\n",
       "1000207    4\n",
       "1000208    4\n",
       "Name: counts, Length: 836478, dtype: int64"
      ]
     },
     "execution_count": 5,
     "metadata": {},
     "output_type": "execute_result"
    }
   ],
   "source": [
    "ratings['counts']"
   ]
  },
  {
   "cell_type": "code",
   "execution_count": 6,
   "metadata": {},
   "outputs": [
    {
     "data": {
      "text/html": [
       "<div>\n",
       "<style scoped>\n",
       "    .dataframe tbody tr th:only-of-type {\n",
       "        vertical-align: middle;\n",
       "    }\n",
       "\n",
       "    .dataframe tbody tr th {\n",
       "        vertical-align: top;\n",
       "    }\n",
       "\n",
       "    .dataframe thead th {\n",
       "        text-align: right;\n",
       "    }\n",
       "</style>\n",
       "<table border=\"1\" class=\"dataframe\">\n",
       "  <thead>\n",
       "    <tr style=\"text-align: right;\">\n",
       "      <th></th>\n",
       "      <th>movie_id</th>\n",
       "      <th>title</th>\n",
       "      <th>genre</th>\n",
       "    </tr>\n",
       "  </thead>\n",
       "  <tbody>\n",
       "    <tr>\n",
       "      <th>0</th>\n",
       "      <td>1</td>\n",
       "      <td>Toy Story (1995)</td>\n",
       "      <td>Animation|Children's|Comedy</td>\n",
       "    </tr>\n",
       "    <tr>\n",
       "      <th>1</th>\n",
       "      <td>2</td>\n",
       "      <td>Jumanji (1995)</td>\n",
       "      <td>Adventure|Children's|Fantasy</td>\n",
       "    </tr>\n",
       "    <tr>\n",
       "      <th>2</th>\n",
       "      <td>3</td>\n",
       "      <td>Grumpier Old Men (1995)</td>\n",
       "      <td>Comedy|Romance</td>\n",
       "    </tr>\n",
       "    <tr>\n",
       "      <th>3</th>\n",
       "      <td>4</td>\n",
       "      <td>Waiting to Exhale (1995)</td>\n",
       "      <td>Comedy|Drama</td>\n",
       "    </tr>\n",
       "    <tr>\n",
       "      <th>4</th>\n",
       "      <td>5</td>\n",
       "      <td>Father of the Bride Part II (1995)</td>\n",
       "      <td>Comedy</td>\n",
       "    </tr>\n",
       "  </tbody>\n",
       "</table>\n",
       "</div>"
      ],
      "text/plain": [
       "   movie_id                               title                         genre\n",
       "0         1                    Toy Story (1995)   Animation|Children's|Comedy\n",
       "1         2                      Jumanji (1995)  Adventure|Children's|Fantasy\n",
       "2         3             Grumpier Old Men (1995)                Comedy|Romance\n",
       "3         4            Waiting to Exhale (1995)                  Comedy|Drama\n",
       "4         5  Father of the Bride Part II (1995)                        Comedy"
      ]
     },
     "execution_count": 6,
     "metadata": {},
     "output_type": "execute_result"
    }
   ],
   "source": [
    "# 영화 제목을 보기 위해 메타 데이터를 읽어옵니다.\n",
    "movie_file_path='D:/project/aiffel_exp/data/exp14/project/movies.dat'\n",
    "cols = ['movie_id', 'title', 'genre'] \n",
    "movies = pd.read_csv(movie_file_path, sep='::', names=cols, engine='python', encoding='ISO-8859-1')\n",
    "movies.head()"
   ]
  },
  {
   "cell_type": "markdown",
   "metadata": {},
   "source": [
    "여기까지가 전처리입니다. 이후에는 이전 스텝에 소개했던 것과 동일한 방식으로 MF model을 구성하여 내가 좋아할 만한 영화를 추천해 볼 수 있습니다."
   ]
  },
  {
   "cell_type": "code",
   "execution_count": null,
   "metadata": {},
   "outputs": [],
   "source": []
  },
  {
   "cell_type": "code",
   "execution_count": 7,
   "metadata": {},
   "outputs": [
    {
     "data": {
      "text/html": [
       "<div>\n",
       "<style scoped>\n",
       "    .dataframe tbody tr th:only-of-type {\n",
       "        vertical-align: middle;\n",
       "    }\n",
       "\n",
       "    .dataframe tbody tr th {\n",
       "        vertical-align: top;\n",
       "    }\n",
       "\n",
       "    .dataframe thead th {\n",
       "        text-align: right;\n",
       "    }\n",
       "</style>\n",
       "<table border=\"1\" class=\"dataframe\">\n",
       "  <thead>\n",
       "    <tr style=\"text-align: right;\">\n",
       "      <th></th>\n",
       "      <th>movie_id</th>\n",
       "      <th>title</th>\n",
       "      <th>genre</th>\n",
       "      <th>user_id</th>\n",
       "      <th>counts</th>\n",
       "      <th>timestamp</th>\n",
       "    </tr>\n",
       "  </thead>\n",
       "  <tbody>\n",
       "    <tr>\n",
       "      <th>0</th>\n",
       "      <td>1</td>\n",
       "      <td>Toy Story (1995)</td>\n",
       "      <td>Animation|Children's|Comedy</td>\n",
       "      <td>1</td>\n",
       "      <td>5</td>\n",
       "      <td>978824268</td>\n",
       "    </tr>\n",
       "    <tr>\n",
       "      <th>1</th>\n",
       "      <td>1</td>\n",
       "      <td>Toy Story (1995)</td>\n",
       "      <td>Animation|Children's|Comedy</td>\n",
       "      <td>6</td>\n",
       "      <td>4</td>\n",
       "      <td>978237008</td>\n",
       "    </tr>\n",
       "    <tr>\n",
       "      <th>2</th>\n",
       "      <td>1</td>\n",
       "      <td>Toy Story (1995)</td>\n",
       "      <td>Animation|Children's|Comedy</td>\n",
       "      <td>8</td>\n",
       "      <td>4</td>\n",
       "      <td>978233496</td>\n",
       "    </tr>\n",
       "    <tr>\n",
       "      <th>3</th>\n",
       "      <td>1</td>\n",
       "      <td>Toy Story (1995)</td>\n",
       "      <td>Animation|Children's|Comedy</td>\n",
       "      <td>9</td>\n",
       "      <td>5</td>\n",
       "      <td>978225952</td>\n",
       "    </tr>\n",
       "    <tr>\n",
       "      <th>4</th>\n",
       "      <td>1</td>\n",
       "      <td>Toy Story (1995)</td>\n",
       "      <td>Animation|Children's|Comedy</td>\n",
       "      <td>10</td>\n",
       "      <td>5</td>\n",
       "      <td>978226474</td>\n",
       "    </tr>\n",
       "  </tbody>\n",
       "</table>\n",
       "</div>"
      ],
      "text/plain": [
       "   movie_id             title                        genre  user_id  counts  \\\n",
       "0         1  Toy Story (1995)  Animation|Children's|Comedy        1       5   \n",
       "1         1  Toy Story (1995)  Animation|Children's|Comedy        6       4   \n",
       "2         1  Toy Story (1995)  Animation|Children's|Comedy        8       4   \n",
       "3         1  Toy Story (1995)  Animation|Children's|Comedy        9       5   \n",
       "4         1  Toy Story (1995)  Animation|Children's|Comedy       10       5   \n",
       "\n",
       "   timestamp  \n",
       "0  978824268  \n",
       "1  978237008  \n",
       "2  978233496  \n",
       "3  978225952  \n",
       "4  978226474  "
      ]
     },
     "execution_count": 7,
     "metadata": {},
     "output_type": "execute_result"
    }
   ],
   "source": [
    "# movies와 ratings을 합침\n",
    "data = pd.merge(movies, ratings)\n",
    "cols = cols + ratings_cols \n",
    "data.head()"
   ]
  },
  {
   "cell_type": "code",
   "execution_count": 8,
   "metadata": {},
   "outputs": [
    {
     "data": {
      "text/html": [
       "<div>\n",
       "<style scoped>\n",
       "    .dataframe tbody tr th:only-of-type {\n",
       "        vertical-align: middle;\n",
       "    }\n",
       "\n",
       "    .dataframe tbody tr th {\n",
       "        vertical-align: top;\n",
       "    }\n",
       "\n",
       "    .dataframe thead th {\n",
       "        text-align: right;\n",
       "    }\n",
       "</style>\n",
       "<table border=\"1\" class=\"dataframe\">\n",
       "  <thead>\n",
       "    <tr style=\"text-align: right;\">\n",
       "      <th></th>\n",
       "      <th>movie_id</th>\n",
       "      <th>title</th>\n",
       "      <th>user_id</th>\n",
       "      <th>counts</th>\n",
       "    </tr>\n",
       "  </thead>\n",
       "  <tbody>\n",
       "    <tr>\n",
       "      <th>0</th>\n",
       "      <td>1</td>\n",
       "      <td>Toy Story (1995)</td>\n",
       "      <td>1</td>\n",
       "      <td>5</td>\n",
       "    </tr>\n",
       "    <tr>\n",
       "      <th>1</th>\n",
       "      <td>1</td>\n",
       "      <td>Toy Story (1995)</td>\n",
       "      <td>6</td>\n",
       "      <td>4</td>\n",
       "    </tr>\n",
       "    <tr>\n",
       "      <th>2</th>\n",
       "      <td>1</td>\n",
       "      <td>Toy Story (1995)</td>\n",
       "      <td>8</td>\n",
       "      <td>4</td>\n",
       "    </tr>\n",
       "    <tr>\n",
       "      <th>3</th>\n",
       "      <td>1</td>\n",
       "      <td>Toy Story (1995)</td>\n",
       "      <td>9</td>\n",
       "      <td>5</td>\n",
       "    </tr>\n",
       "    <tr>\n",
       "      <th>4</th>\n",
       "      <td>1</td>\n",
       "      <td>Toy Story (1995)</td>\n",
       "      <td>10</td>\n",
       "      <td>5</td>\n",
       "    </tr>\n",
       "  </tbody>\n",
       "</table>\n",
       "</div>"
      ],
      "text/plain": [
       "   movie_id             title  user_id  counts\n",
       "0         1  Toy Story (1995)        1       5\n",
       "1         1  Toy Story (1995)        6       4\n",
       "2         1  Toy Story (1995)        8       4\n",
       "3         1  Toy Story (1995)        9       5\n",
       "4         1  Toy Story (1995)       10       5"
      ]
     },
     "execution_count": 8,
     "metadata": {},
     "output_type": "execute_result"
    }
   ],
   "source": [
    "# 사용하는 컬럼만 남겨줍니다.\n",
    "using_cols = ['movie_id', 'title', 'user_id', 'counts']\n",
    "data = data[using_cols]\n",
    "data.head()"
   ]
  },
  {
   "cell_type": "code",
   "execution_count": 9,
   "metadata": {},
   "outputs": [
    {
     "data": {
      "text/html": [
       "<div>\n",
       "<style scoped>\n",
       "    .dataframe tbody tr th:only-of-type {\n",
       "        vertical-align: middle;\n",
       "    }\n",
       "\n",
       "    .dataframe tbody tr th {\n",
       "        vertical-align: top;\n",
       "    }\n",
       "\n",
       "    .dataframe thead th {\n",
       "        text-align: right;\n",
       "    }\n",
       "</style>\n",
       "<table border=\"1\" class=\"dataframe\">\n",
       "  <thead>\n",
       "    <tr style=\"text-align: right;\">\n",
       "      <th></th>\n",
       "      <th>movie_id</th>\n",
       "      <th>title</th>\n",
       "      <th>user_id</th>\n",
       "      <th>counts</th>\n",
       "    </tr>\n",
       "  </thead>\n",
       "  <tbody>\n",
       "    <tr>\n",
       "      <th>0</th>\n",
       "      <td>1</td>\n",
       "      <td>toy story (1995)</td>\n",
       "      <td>1</td>\n",
       "      <td>5</td>\n",
       "    </tr>\n",
       "    <tr>\n",
       "      <th>1</th>\n",
       "      <td>1</td>\n",
       "      <td>toy story (1995)</td>\n",
       "      <td>6</td>\n",
       "      <td>4</td>\n",
       "    </tr>\n",
       "    <tr>\n",
       "      <th>2</th>\n",
       "      <td>1</td>\n",
       "      <td>toy story (1995)</td>\n",
       "      <td>8</td>\n",
       "      <td>4</td>\n",
       "    </tr>\n",
       "    <tr>\n",
       "      <th>3</th>\n",
       "      <td>1</td>\n",
       "      <td>toy story (1995)</td>\n",
       "      <td>9</td>\n",
       "      <td>5</td>\n",
       "    </tr>\n",
       "    <tr>\n",
       "      <th>4</th>\n",
       "      <td>1</td>\n",
       "      <td>toy story (1995)</td>\n",
       "      <td>10</td>\n",
       "      <td>5</td>\n",
       "    </tr>\n",
       "  </tbody>\n",
       "</table>\n",
       "</div>"
      ],
      "text/plain": [
       "   movie_id             title  user_id  counts\n",
       "0         1  toy story (1995)        1       5\n",
       "1         1  toy story (1995)        6       4\n",
       "2         1  toy story (1995)        8       4\n",
       "3         1  toy story (1995)        9       5\n",
       "4         1  toy story (1995)       10       5"
      ]
     },
     "execution_count": 9,
     "metadata": {},
     "output_type": "execute_result"
    }
   ],
   "source": [
    "# 검색을 쉽게 하기 위해 타이틀 문자열을 소문자로 바꿔줍시다.\n",
    "data['title'] = data['title'].str.lower() \n",
    "data.head()"
   ]
  },
  {
   "cell_type": "code",
   "execution_count": 10,
   "metadata": {},
   "outputs": [
    {
     "data": {
      "text/html": [
       "<div>\n",
       "<style scoped>\n",
       "    .dataframe tbody tr th:only-of-type {\n",
       "        vertical-align: middle;\n",
       "    }\n",
       "\n",
       "    .dataframe tbody tr th {\n",
       "        vertical-align: top;\n",
       "    }\n",
       "\n",
       "    .dataframe thead th {\n",
       "        text-align: right;\n",
       "    }\n",
       "</style>\n",
       "<table border=\"1\" class=\"dataframe\">\n",
       "  <thead>\n",
       "    <tr style=\"text-align: right;\">\n",
       "      <th></th>\n",
       "      <th>movie_id</th>\n",
       "      <th>title</th>\n",
       "      <th>user_id</th>\n",
       "      <th>counts</th>\n",
       "    </tr>\n",
       "  </thead>\n",
       "  <tbody>\n",
       "    <tr>\n",
       "      <th>0</th>\n",
       "      <td>1</td>\n",
       "      <td>toy story (1995)</td>\n",
       "      <td>1</td>\n",
       "      <td>5</td>\n",
       "    </tr>\n",
       "    <tr>\n",
       "      <th>19773</th>\n",
       "      <td>48</td>\n",
       "      <td>pocahontas (1995)</td>\n",
       "      <td>1</td>\n",
       "      <td>5</td>\n",
       "    </tr>\n",
       "    <tr>\n",
       "      <th>35123</th>\n",
       "      <td>150</td>\n",
       "      <td>apollo 13 (1995)</td>\n",
       "      <td>1</td>\n",
       "      <td>5</td>\n",
       "    </tr>\n",
       "    <tr>\n",
       "      <th>54895</th>\n",
       "      <td>260</td>\n",
       "      <td>star wars: episode iv - a new hope (1977)</td>\n",
       "      <td>1</td>\n",
       "      <td>4</td>\n",
       "    </tr>\n",
       "    <tr>\n",
       "      <th>116019</th>\n",
       "      <td>527</td>\n",
       "      <td>schindler's list (1993)</td>\n",
       "      <td>1</td>\n",
       "      <td>5</td>\n",
       "    </tr>\n",
       "    <tr>\n",
       "      <th>119008</th>\n",
       "      <td>531</td>\n",
       "      <td>secret garden, the (1993)</td>\n",
       "      <td>1</td>\n",
       "      <td>4</td>\n",
       "    </tr>\n",
       "    <tr>\n",
       "      <th>130190</th>\n",
       "      <td>588</td>\n",
       "      <td>aladdin (1992)</td>\n",
       "      <td>1</td>\n",
       "      <td>4</td>\n",
       "    </tr>\n",
       "    <tr>\n",
       "      <th>138999</th>\n",
       "      <td>594</td>\n",
       "      <td>snow white and the seven dwarfs (1937)</td>\n",
       "      <td>1</td>\n",
       "      <td>4</td>\n",
       "    </tr>\n",
       "    <tr>\n",
       "      <th>139706</th>\n",
       "      <td>595</td>\n",
       "      <td>beauty and the beast (1991)</td>\n",
       "      <td>1</td>\n",
       "      <td>5</td>\n",
       "    </tr>\n",
       "    <tr>\n",
       "      <th>142605</th>\n",
       "      <td>608</td>\n",
       "      <td>fargo (1996)</td>\n",
       "      <td>1</td>\n",
       "      <td>4</td>\n",
       "    </tr>\n",
       "    <tr>\n",
       "      <th>149342</th>\n",
       "      <td>661</td>\n",
       "      <td>james and the giant peach (1996)</td>\n",
       "      <td>1</td>\n",
       "      <td>3</td>\n",
       "    </tr>\n",
       "    <tr>\n",
       "      <th>153599</th>\n",
       "      <td>720</td>\n",
       "      <td>wallace &amp; gromit: the best of aardman animatio...</td>\n",
       "      <td>1</td>\n",
       "      <td>3</td>\n",
       "    </tr>\n",
       "    <tr>\n",
       "      <th>157311</th>\n",
       "      <td>745</td>\n",
       "      <td>close shave, a (1995)</td>\n",
       "      <td>1</td>\n",
       "      <td>3</td>\n",
       "    </tr>\n",
       "    <tr>\n",
       "      <th>162564</th>\n",
       "      <td>783</td>\n",
       "      <td>hunchback of notre dame, the (1996)</td>\n",
       "      <td>1</td>\n",
       "      <td>4</td>\n",
       "    </tr>\n",
       "    <tr>\n",
       "      <th>184379</th>\n",
       "      <td>914</td>\n",
       "      <td>my fair lady (1964)</td>\n",
       "      <td>1</td>\n",
       "      <td>3</td>\n",
       "    </tr>\n",
       "    <tr>\n",
       "      <th>185984</th>\n",
       "      <td>919</td>\n",
       "      <td>wizard of oz, the (1939)</td>\n",
       "      <td>1</td>\n",
       "      <td>4</td>\n",
       "    </tr>\n",
       "    <tr>\n",
       "      <th>194770</th>\n",
       "      <td>938</td>\n",
       "      <td>gigi (1958)</td>\n",
       "      <td>1</td>\n",
       "      <td>4</td>\n",
       "    </tr>\n",
       "    <tr>\n",
       "      <th>206730</th>\n",
       "      <td>1022</td>\n",
       "      <td>cinderella (1950)</td>\n",
       "      <td>1</td>\n",
       "      <td>5</td>\n",
       "    </tr>\n",
       "    <tr>\n",
       "      <th>208099</th>\n",
       "      <td>1028</td>\n",
       "      <td>mary poppins (1964)</td>\n",
       "      <td>1</td>\n",
       "      <td>5</td>\n",
       "    </tr>\n",
       "    <tr>\n",
       "      <th>209016</th>\n",
       "      <td>1029</td>\n",
       "      <td>dumbo (1941)</td>\n",
       "      <td>1</td>\n",
       "      <td>5</td>\n",
       "    </tr>\n",
       "    <tr>\n",
       "      <th>210912</th>\n",
       "      <td>1035</td>\n",
       "      <td>sound of music, the (1965)</td>\n",
       "      <td>1</td>\n",
       "      <td>5</td>\n",
       "    </tr>\n",
       "    <tr>\n",
       "      <th>230314</th>\n",
       "      <td>1097</td>\n",
       "      <td>e.t. the extra-terrestrial (1982)</td>\n",
       "      <td>1</td>\n",
       "      <td>4</td>\n",
       "    </tr>\n",
       "    <tr>\n",
       "      <th>248714</th>\n",
       "      <td>1193</td>\n",
       "      <td>one flew over the cuckoo's nest (1975)</td>\n",
       "      <td>1</td>\n",
       "      <td>5</td>\n",
       "    </tr>\n",
       "    <tr>\n",
       "      <th>253451</th>\n",
       "      <td>1197</td>\n",
       "      <td>princess bride, the (1987)</td>\n",
       "      <td>1</td>\n",
       "      <td>3</td>\n",
       "    </tr>\n",
       "    <tr>\n",
       "      <th>264249</th>\n",
       "      <td>1207</td>\n",
       "      <td>to kill a mockingbird (1962)</td>\n",
       "      <td>1</td>\n",
       "      <td>4</td>\n",
       "    </tr>\n",
       "    <tr>\n",
       "      <th>293292</th>\n",
       "      <td>1246</td>\n",
       "      <td>dead poets society (1989)</td>\n",
       "      <td>1</td>\n",
       "      <td>4</td>\n",
       "    </tr>\n",
       "    <tr>\n",
       "      <th>310685</th>\n",
       "      <td>1270</td>\n",
       "      <td>back to the future (1985)</td>\n",
       "      <td>1</td>\n",
       "      <td>5</td>\n",
       "    </tr>\n",
       "    <tr>\n",
       "      <th>321302</th>\n",
       "      <td>1287</td>\n",
       "      <td>ben-hur (1959)</td>\n",
       "      <td>1</td>\n",
       "      <td>5</td>\n",
       "    </tr>\n",
       "    <tr>\n",
       "      <th>376764</th>\n",
       "      <td>1545</td>\n",
       "      <td>ponette (1996)</td>\n",
       "      <td>1</td>\n",
       "      <td>4</td>\n",
       "    </tr>\n",
       "    <tr>\n",
       "      <th>378252</th>\n",
       "      <td>1566</td>\n",
       "      <td>hercules (1997)</td>\n",
       "      <td>1</td>\n",
       "      <td>4</td>\n",
       "    </tr>\n",
       "    <tr>\n",
       "      <th>413443</th>\n",
       "      <td>1721</td>\n",
       "      <td>titanic (1997)</td>\n",
       "      <td>1</td>\n",
       "      <td>4</td>\n",
       "    </tr>\n",
       "    <tr>\n",
       "      <th>427854</th>\n",
       "      <td>1836</td>\n",
       "      <td>last days of disco, the (1998)</td>\n",
       "      <td>1</td>\n",
       "      <td>5</td>\n",
       "    </tr>\n",
       "    <tr>\n",
       "      <th>433771</th>\n",
       "      <td>1907</td>\n",
       "      <td>mulan (1998)</td>\n",
       "      <td>1</td>\n",
       "      <td>4</td>\n",
       "    </tr>\n",
       "    <tr>\n",
       "      <th>450533</th>\n",
       "      <td>1961</td>\n",
       "      <td>rain man (1988)</td>\n",
       "      <td>1</td>\n",
       "      <td>5</td>\n",
       "    </tr>\n",
       "    <tr>\n",
       "      <th>451817</th>\n",
       "      <td>1962</td>\n",
       "      <td>driving miss daisy (1989)</td>\n",
       "      <td>1</td>\n",
       "      <td>4</td>\n",
       "    </tr>\n",
       "    <tr>\n",
       "      <th>468578</th>\n",
       "      <td>2018</td>\n",
       "      <td>bambi (1942)</td>\n",
       "      <td>1</td>\n",
       "      <td>4</td>\n",
       "    </tr>\n",
       "    <tr>\n",
       "      <th>472333</th>\n",
       "      <td>2028</td>\n",
       "      <td>saving private ryan (1998)</td>\n",
       "      <td>1</td>\n",
       "      <td>5</td>\n",
       "    </tr>\n",
       "    <tr>\n",
       "      <th>525392</th>\n",
       "      <td>2294</td>\n",
       "      <td>antz (1998)</td>\n",
       "      <td>1</td>\n",
       "      <td>4</td>\n",
       "    </tr>\n",
       "    <tr>\n",
       "      <th>530676</th>\n",
       "      <td>2321</td>\n",
       "      <td>pleasantville (1998)</td>\n",
       "      <td>1</td>\n",
       "      <td>3</td>\n",
       "    </tr>\n",
       "    <tr>\n",
       "      <th>536358</th>\n",
       "      <td>2340</td>\n",
       "      <td>meet joe black (1998)</td>\n",
       "      <td>1</td>\n",
       "      <td>3</td>\n",
       "    </tr>\n",
       "    <tr>\n",
       "      <th>539498</th>\n",
       "      <td>2355</td>\n",
       "      <td>bug's life, a (1998)</td>\n",
       "      <td>1</td>\n",
       "      <td>5</td>\n",
       "    </tr>\n",
       "    <tr>\n",
       "      <th>552697</th>\n",
       "      <td>2398</td>\n",
       "      <td>miracle on 34th street (1947)</td>\n",
       "      <td>1</td>\n",
       "      <td>4</td>\n",
       "    </tr>\n",
       "    <tr>\n",
       "      <th>604667</th>\n",
       "      <td>2687</td>\n",
       "      <td>tarzan (1999)</td>\n",
       "      <td>1</td>\n",
       "      <td>3</td>\n",
       "    </tr>\n",
       "    <tr>\n",
       "      <th>605985</th>\n",
       "      <td>2692</td>\n",
       "      <td>run lola run (lola rennt) (1998)</td>\n",
       "      <td>1</td>\n",
       "      <td>4</td>\n",
       "    </tr>\n",
       "    <tr>\n",
       "      <th>624733</th>\n",
       "      <td>2762</td>\n",
       "      <td>sixth sense, the (1999)</td>\n",
       "      <td>1</td>\n",
       "      <td>4</td>\n",
       "    </tr>\n",
       "    <tr>\n",
       "      <th>630899</th>\n",
       "      <td>2791</td>\n",
       "      <td>airplane! (1980)</td>\n",
       "      <td>1</td>\n",
       "      <td>4</td>\n",
       "    </tr>\n",
       "    <tr>\n",
       "      <th>633946</th>\n",
       "      <td>2797</td>\n",
       "      <td>big (1988)</td>\n",
       "      <td>1</td>\n",
       "      <td>4</td>\n",
       "    </tr>\n",
       "    <tr>\n",
       "      <th>635999</th>\n",
       "      <td>2804</td>\n",
       "      <td>christmas story, a (1983)</td>\n",
       "      <td>1</td>\n",
       "      <td>5</td>\n",
       "    </tr>\n",
       "    <tr>\n",
       "      <th>656320</th>\n",
       "      <td>2918</td>\n",
       "      <td>ferris bueller's day off (1986)</td>\n",
       "      <td>1</td>\n",
       "      <td>4</td>\n",
       "    </tr>\n",
       "    <tr>\n",
       "      <th>698979</th>\n",
       "      <td>3105</td>\n",
       "      <td>awakenings (1990)</td>\n",
       "      <td>1</td>\n",
       "      <td>5</td>\n",
       "    </tr>\n",
       "    <tr>\n",
       "      <th>701857</th>\n",
       "      <td>3114</td>\n",
       "      <td>toy story 2 (1999)</td>\n",
       "      <td>1</td>\n",
       "      <td>4</td>\n",
       "    </tr>\n",
       "    <tr>\n",
       "      <th>716464</th>\n",
       "      <td>3186</td>\n",
       "      <td>girl, interrupted (1999)</td>\n",
       "      <td>1</td>\n",
       "      <td>4</td>\n",
       "    </tr>\n",
       "    <tr>\n",
       "      <th>748880</th>\n",
       "      <td>3408</td>\n",
       "      <td>erin brockovich (2000)</td>\n",
       "      <td>1</td>\n",
       "      <td>4</td>\n",
       "    </tr>\n",
       "  </tbody>\n",
       "</table>\n",
       "</div>"
      ],
      "text/plain": [
       "        movie_id                                              title  user_id  \\\n",
       "0              1                                   toy story (1995)        1   \n",
       "19773         48                                  pocahontas (1995)        1   \n",
       "35123        150                                   apollo 13 (1995)        1   \n",
       "54895        260          star wars: episode iv - a new hope (1977)        1   \n",
       "116019       527                            schindler's list (1993)        1   \n",
       "119008       531                          secret garden, the (1993)        1   \n",
       "130190       588                                     aladdin (1992)        1   \n",
       "138999       594             snow white and the seven dwarfs (1937)        1   \n",
       "139706       595                        beauty and the beast (1991)        1   \n",
       "142605       608                                       fargo (1996)        1   \n",
       "149342       661                   james and the giant peach (1996)        1   \n",
       "153599       720  wallace & gromit: the best of aardman animatio...        1   \n",
       "157311       745                              close shave, a (1995)        1   \n",
       "162564       783                hunchback of notre dame, the (1996)        1   \n",
       "184379       914                                my fair lady (1964)        1   \n",
       "185984       919                           wizard of oz, the (1939)        1   \n",
       "194770       938                                        gigi (1958)        1   \n",
       "206730      1022                                  cinderella (1950)        1   \n",
       "208099      1028                                mary poppins (1964)        1   \n",
       "209016      1029                                       dumbo (1941)        1   \n",
       "210912      1035                         sound of music, the (1965)        1   \n",
       "230314      1097                  e.t. the extra-terrestrial (1982)        1   \n",
       "248714      1193             one flew over the cuckoo's nest (1975)        1   \n",
       "253451      1197                         princess bride, the (1987)        1   \n",
       "264249      1207                       to kill a mockingbird (1962)        1   \n",
       "293292      1246                          dead poets society (1989)        1   \n",
       "310685      1270                          back to the future (1985)        1   \n",
       "321302      1287                                     ben-hur (1959)        1   \n",
       "376764      1545                                     ponette (1996)        1   \n",
       "378252      1566                                    hercules (1997)        1   \n",
       "413443      1721                                     titanic (1997)        1   \n",
       "427854      1836                     last days of disco, the (1998)        1   \n",
       "433771      1907                                       mulan (1998)        1   \n",
       "450533      1961                                    rain man (1988)        1   \n",
       "451817      1962                          driving miss daisy (1989)        1   \n",
       "468578      2018                                       bambi (1942)        1   \n",
       "472333      2028                         saving private ryan (1998)        1   \n",
       "525392      2294                                        antz (1998)        1   \n",
       "530676      2321                               pleasantville (1998)        1   \n",
       "536358      2340                              meet joe black (1998)        1   \n",
       "539498      2355                               bug's life, a (1998)        1   \n",
       "552697      2398                      miracle on 34th street (1947)        1   \n",
       "604667      2687                                      tarzan (1999)        1   \n",
       "605985      2692                   run lola run (lola rennt) (1998)        1   \n",
       "624733      2762                            sixth sense, the (1999)        1   \n",
       "630899      2791                                   airplane! (1980)        1   \n",
       "633946      2797                                         big (1988)        1   \n",
       "635999      2804                          christmas story, a (1983)        1   \n",
       "656320      2918                    ferris bueller's day off (1986)        1   \n",
       "698979      3105                                  awakenings (1990)        1   \n",
       "701857      3114                                 toy story 2 (1999)        1   \n",
       "716464      3186                           girl, interrupted (1999)        1   \n",
       "748880      3408                             erin brockovich (2000)        1   \n",
       "\n",
       "        counts  \n",
       "0            5  \n",
       "19773        5  \n",
       "35123        5  \n",
       "54895        4  \n",
       "116019       5  \n",
       "119008       4  \n",
       "130190       4  \n",
       "138999       4  \n",
       "139706       5  \n",
       "142605       4  \n",
       "149342       3  \n",
       "153599       3  \n",
       "157311       3  \n",
       "162564       4  \n",
       "184379       3  \n",
       "185984       4  \n",
       "194770       4  \n",
       "206730       5  \n",
       "208099       5  \n",
       "209016       5  \n",
       "210912       5  \n",
       "230314       4  \n",
       "248714       5  \n",
       "253451       3  \n",
       "264249       4  \n",
       "293292       4  \n",
       "310685       5  \n",
       "321302       5  \n",
       "376764       4  \n",
       "378252       4  \n",
       "413443       4  \n",
       "427854       5  \n",
       "433771       4  \n",
       "450533       5  \n",
       "451817       4  \n",
       "468578       4  \n",
       "472333       5  \n",
       "525392       4  \n",
       "530676       3  \n",
       "536358       3  \n",
       "539498       5  \n",
       "552697       4  \n",
       "604667       3  \n",
       "605985       4  \n",
       "624733       4  \n",
       "630899       4  \n",
       "633946       4  \n",
       "635999       5  \n",
       "656320       4  \n",
       "698979       5  \n",
       "701857       4  \n",
       "716464       4  \n",
       "748880       4  "
      ]
     },
     "execution_count": 10,
     "metadata": {},
     "output_type": "execute_result"
    }
   ],
   "source": [
    "# 첫 번째 유저가 어떤 아티스트의 노래를 듣는지 확인해 봅시다.\n",
    "condition = (data['user_id']== data.loc[0, 'user_id'])\n",
    "data.loc[condition]"
   ]
  },
  {
   "cell_type": "markdown",
   "metadata": {},
   "source": [
    "## 2. 분석해 봅시다.\n",
    "***\n",
    "* ratings에 있는 유니크한 영화 개수\n",
    "* ratings에 있는 유니크한 사용자 수\n",
    "* 가장 인기 있는 영화 30개(인기순)"
   ]
  },
  {
   "cell_type": "code",
   "execution_count": 11,
   "metadata": {},
   "outputs": [
    {
     "data": {
      "text/plain": [
       "3628"
      ]
     },
     "execution_count": 11,
     "metadata": {},
     "output_type": "execute_result"
    }
   ],
   "source": [
    "# 유니크한 영화 수\n",
    "data['movie_id'].nunique()"
   ]
  },
  {
   "cell_type": "code",
   "execution_count": 12,
   "metadata": {},
   "outputs": [
    {
     "data": {
      "text/plain": [
       "6039"
      ]
     },
     "execution_count": 12,
     "metadata": {},
     "output_type": "execute_result"
    }
   ],
   "source": [
    "# 유니크한 유저 수\n",
    "data['user_id'].nunique()"
   ]
  },
  {
   "cell_type": "code",
   "execution_count": 13,
   "metadata": {},
   "outputs": [
    {
     "data": {
      "text/plain": [
       "title\n",
       "american beauty (1999)                                   3211\n",
       "star wars: episode iv - a new hope (1977)                2910\n",
       "star wars: episode v - the empire strikes back (1980)    2885\n",
       "star wars: episode vi - return of the jedi (1983)        2716\n",
       "saving private ryan (1998)                               2561\n",
       "terminator 2: judgment day (1991)                        2509\n",
       "silence of the lambs, the (1991)                         2498\n",
       "raiders of the lost ark (1981)                           2473\n",
       "back to the future (1985)                                2460\n",
       "matrix, the (1999)                                       2434\n",
       "jurassic park (1993)                                     2413\n",
       "sixth sense, the (1999)                                  2385\n",
       "fargo (1996)                                             2371\n",
       "braveheart (1995)                                        2314\n",
       "men in black (1997)                                      2297\n",
       "schindler's list (1993)                                  2257\n",
       "princess bride, the (1987)                               2252\n",
       "shakespeare in love (1998)                               2213\n",
       "l.a. confidential (1997)                                 2210\n",
       "shawshank redemption, the (1994)                         2194\n",
       "Name: user_id, dtype: int64"
      ]
     },
     "execution_count": 13,
     "metadata": {},
     "output_type": "execute_result"
    }
   ],
   "source": [
    "movie_count = data.groupby('title')['user_id'].count()\n",
    "movie_count.sort_values(ascending=False).head(20)"
   ]
  },
  {
   "cell_type": "code",
   "execution_count": 14,
   "metadata": {},
   "outputs": [
    {
     "data": {
      "text/plain": [
       "count    6039.000000\n",
       "mean      138.512668\n",
       "std       156.241599\n",
       "min         1.000000\n",
       "25%        38.000000\n",
       "50%        81.000000\n",
       "75%       177.000000\n",
       "max      1968.000000\n",
       "Name: title, dtype: float64"
      ]
     },
     "execution_count": 14,
     "metadata": {},
     "output_type": "execute_result"
    }
   ],
   "source": [
    "# 유저별 몇 편의 영화를 봤는지에 대한 통계\n",
    "user_count = data.groupby('user_id')['title'].count()\n",
    "user_count.describe()"
   ]
  },
  {
   "cell_type": "markdown",
   "metadata": {},
   "source": [
    "와우, 1968편"
   ]
  },
  {
   "cell_type": "code",
   "execution_count": 15,
   "metadata": {},
   "outputs": [
    {
     "data": {
      "text/plain": [
       "count    6039.000000\n",
       "mean        4.055970\n",
       "std         0.432143\n",
       "min         3.000000\n",
       "25%         4.000000\n",
       "50%         4.000000\n",
       "75%         4.000000\n",
       "max         5.000000\n",
       "Name: counts, dtype: float64"
      ]
     },
     "execution_count": 15,
     "metadata": {},
     "output_type": "execute_result"
    }
   ],
   "source": [
    "# 유저별 play횟수 중앙값에 대한 통계\n",
    "user_median = data.groupby('user_id')['counts'].median()\n",
    "user_median.describe()"
   ]
  },
  {
   "cell_type": "markdown",
   "metadata": {},
   "source": [
    "## 3. 내가 선호하는 영화를 5가지 골라서 ratings에 추가해 줍시다."
   ]
  },
  {
   "cell_type": "code",
   "execution_count": 16,
   "metadata": {},
   "outputs": [
    {
     "data": {
      "text/html": [
       "<div>\n",
       "<style scoped>\n",
       "    .dataframe tbody tr th:only-of-type {\n",
       "        vertical-align: middle;\n",
       "    }\n",
       "\n",
       "    .dataframe tbody tr th {\n",
       "        vertical-align: top;\n",
       "    }\n",
       "\n",
       "    .dataframe thead th {\n",
       "        text-align: right;\n",
       "    }\n",
       "</style>\n",
       "<table border=\"1\" class=\"dataframe\">\n",
       "  <thead>\n",
       "    <tr style=\"text-align: right;\">\n",
       "      <th></th>\n",
       "      <th>movie_id</th>\n",
       "      <th>title</th>\n",
       "      <th>user_id</th>\n",
       "      <th>counts</th>\n",
       "    </tr>\n",
       "  </thead>\n",
       "  <tbody>\n",
       "    <tr>\n",
       "      <th>836473</th>\n",
       "      <td>3952.0</td>\n",
       "      <td>contender, the (2000)</td>\n",
       "      <td>5682</td>\n",
       "      <td>3</td>\n",
       "    </tr>\n",
       "    <tr>\n",
       "      <th>836474</th>\n",
       "      <td>3952.0</td>\n",
       "      <td>contender, the (2000)</td>\n",
       "      <td>5812</td>\n",
       "      <td>4</td>\n",
       "    </tr>\n",
       "    <tr>\n",
       "      <th>836475</th>\n",
       "      <td>3952.0</td>\n",
       "      <td>contender, the (2000)</td>\n",
       "      <td>5831</td>\n",
       "      <td>3</td>\n",
       "    </tr>\n",
       "    <tr>\n",
       "      <th>836476</th>\n",
       "      <td>3952.0</td>\n",
       "      <td>contender, the (2000)</td>\n",
       "      <td>5837</td>\n",
       "      <td>4</td>\n",
       "    </tr>\n",
       "    <tr>\n",
       "      <th>836477</th>\n",
       "      <td>3952.0</td>\n",
       "      <td>contender, the (2000)</td>\n",
       "      <td>5998</td>\n",
       "      <td>4</td>\n",
       "    </tr>\n",
       "    <tr>\n",
       "      <th>0</th>\n",
       "      <td>NaN</td>\n",
       "      <td>matrix, the (1999)</td>\n",
       "      <td>jby</td>\n",
       "      <td>5</td>\n",
       "    </tr>\n",
       "    <tr>\n",
       "      <th>1</th>\n",
       "      <td>NaN</td>\n",
       "      <td>jurassic park (1993)</td>\n",
       "      <td>jby</td>\n",
       "      <td>5</td>\n",
       "    </tr>\n",
       "    <tr>\n",
       "      <th>2</th>\n",
       "      <td>NaN</td>\n",
       "      <td>sixth sense, the (1999)</td>\n",
       "      <td>jby</td>\n",
       "      <td>5</td>\n",
       "    </tr>\n",
       "    <tr>\n",
       "      <th>3</th>\n",
       "      <td>NaN</td>\n",
       "      <td>fargo (1996)</td>\n",
       "      <td>jby</td>\n",
       "      <td>5</td>\n",
       "    </tr>\n",
       "    <tr>\n",
       "      <th>4</th>\n",
       "      <td>NaN</td>\n",
       "      <td>braveheart (1995)</td>\n",
       "      <td>jby</td>\n",
       "      <td>5</td>\n",
       "    </tr>\n",
       "  </tbody>\n",
       "</table>\n",
       "</div>"
      ],
      "text/plain": [
       "        movie_id                    title user_id  counts\n",
       "836473    3952.0    contender, the (2000)    5682       3\n",
       "836474    3952.0    contender, the (2000)    5812       4\n",
       "836475    3952.0    contender, the (2000)    5831       3\n",
       "836476    3952.0    contender, the (2000)    5837       4\n",
       "836477    3952.0    contender, the (2000)    5998       4\n",
       "0            NaN       matrix, the (1999)     jby       5\n",
       "1            NaN     jurassic park (1993)     jby       5\n",
       "2            NaN  sixth sense, the (1999)     jby       5\n",
       "3            NaN             fargo (1996)     jby       5\n",
       "4            NaN        braveheart (1995)     jby       5"
      ]
     },
     "execution_count": 16,
     "metadata": {},
     "output_type": "execute_result"
    }
   ],
   "source": [
    "# 본인이 좋아하시는 아티스트 데이터로 바꿔서 추가하셔도 됩니다! 단, 이름은 꼭 데이터셋에 있는 것과 동일하게 맞춰주세요. \n",
    "my_favorite = ['matrix, the (1999)',\n",
    "               'jurassic park (1993)',\n",
    "               'sixth sense, the (1999)',\n",
    "               'fargo (1996)',\n",
    "               'braveheart (1995)']\n",
    "\n",
    "# 'jby'이라는 user_id가 위 영화를 평점 5점씩 줬다고 가정\n",
    "my_playlist = pd.DataFrame({'user_id': ['jby']*5, 'title': my_favorite, 'counts':[5]*5})\n",
    "\n",
    "if not data.isin({'user_id':['jby']})['user_id'].any():  # user_id에 'jby'이라는 데이터가 없다면\n",
    "    data = data.append(my_playlist)                           # 위에 임의로 만든 my_favorite 데이터를 추가해 줍니다. \n",
    "\n",
    "data.tail(10)       # 잘 추가되었는지 확인해 봅시다."
   ]
  },
  {
   "cell_type": "code",
   "execution_count": 17,
   "metadata": {},
   "outputs": [],
   "source": [
    "# 고유한 유저, 아티스트를 찾아내는 코드\n",
    "user_unique = data['user_id'].unique()\n",
    "movie_unique = data['title'].unique()\n",
    "\n",
    "# 유저, 영화 indexing 하는 코드\n",
    "user_to_idx = {v:k for k,v in enumerate(user_unique)}\n",
    "movie_to_idx = {v:k for k,v in enumerate(movie_unique)}"
   ]
  },
  {
   "cell_type": "code",
   "execution_count": 18,
   "metadata": {},
   "outputs": [
    {
     "name": "stdout",
     "output_type": "stream",
     "text": [
      "6039\n"
     ]
    }
   ],
   "source": [
    "# 인덱싱이 잘 되었는지 확인해 봅니다. \n",
    "print(user_to_idx['jby'])    # 6038명의 유저 중 마지막으로 추가된 유저이니 6039가 나와야 합니다. "
   ]
  },
  {
   "cell_type": "code",
   "execution_count": 19,
   "metadata": {},
   "outputs": [
    {
     "name": "stdout",
     "output_type": "stream",
     "text": [
      "836483\n",
      "836483\n",
      "user_id column indexing OK!!\n",
      "836483\n",
      "836483\n",
      "title column indexing OK!!\n"
     ]
    },
    {
     "data": {
      "text/html": [
       "<div>\n",
       "<style scoped>\n",
       "    .dataframe tbody tr th:only-of-type {\n",
       "        vertical-align: middle;\n",
       "    }\n",
       "\n",
       "    .dataframe tbody tr th {\n",
       "        vertical-align: top;\n",
       "    }\n",
       "\n",
       "    .dataframe thead th {\n",
       "        text-align: right;\n",
       "    }\n",
       "</style>\n",
       "<table border=\"1\" class=\"dataframe\">\n",
       "  <thead>\n",
       "    <tr style=\"text-align: right;\">\n",
       "      <th></th>\n",
       "      <th>movie_id</th>\n",
       "      <th>title</th>\n",
       "      <th>user_id</th>\n",
       "      <th>counts</th>\n",
       "    </tr>\n",
       "  </thead>\n",
       "  <tbody>\n",
       "    <tr>\n",
       "      <th>0</th>\n",
       "      <td>1.0</td>\n",
       "      <td>0</td>\n",
       "      <td>0</td>\n",
       "      <td>5</td>\n",
       "    </tr>\n",
       "    <tr>\n",
       "      <th>1</th>\n",
       "      <td>1.0</td>\n",
       "      <td>0</td>\n",
       "      <td>1</td>\n",
       "      <td>4</td>\n",
       "    </tr>\n",
       "    <tr>\n",
       "      <th>2</th>\n",
       "      <td>1.0</td>\n",
       "      <td>0</td>\n",
       "      <td>2</td>\n",
       "      <td>4</td>\n",
       "    </tr>\n",
       "    <tr>\n",
       "      <th>3</th>\n",
       "      <td>1.0</td>\n",
       "      <td>0</td>\n",
       "      <td>3</td>\n",
       "      <td>5</td>\n",
       "    </tr>\n",
       "    <tr>\n",
       "      <th>4</th>\n",
       "      <td>1.0</td>\n",
       "      <td>0</td>\n",
       "      <td>4</td>\n",
       "      <td>5</td>\n",
       "    </tr>\n",
       "    <tr>\n",
       "      <th>...</th>\n",
       "      <td>...</td>\n",
       "      <td>...</td>\n",
       "      <td>...</td>\n",
       "      <td>...</td>\n",
       "    </tr>\n",
       "    <tr>\n",
       "      <th>0</th>\n",
       "      <td>NaN</td>\n",
       "      <td>2325</td>\n",
       "      <td>6039</td>\n",
       "      <td>5</td>\n",
       "    </tr>\n",
       "    <tr>\n",
       "      <th>1</th>\n",
       "      <td>NaN</td>\n",
       "      <td>462</td>\n",
       "      <td>6039</td>\n",
       "      <td>5</td>\n",
       "    </tr>\n",
       "    <tr>\n",
       "      <th>2</th>\n",
       "      <td>NaN</td>\n",
       "      <td>2507</td>\n",
       "      <td>6039</td>\n",
       "      <td>5</td>\n",
       "    </tr>\n",
       "    <tr>\n",
       "      <th>3</th>\n",
       "      <td>NaN</td>\n",
       "      <td>587</td>\n",
       "      <td>6039</td>\n",
       "      <td>5</td>\n",
       "    </tr>\n",
       "    <tr>\n",
       "      <th>4</th>\n",
       "      <td>NaN</td>\n",
       "      <td>106</td>\n",
       "      <td>6039</td>\n",
       "      <td>5</td>\n",
       "    </tr>\n",
       "  </tbody>\n",
       "</table>\n",
       "<p>836483 rows × 4 columns</p>\n",
       "</div>"
      ],
      "text/plain": [
       "    movie_id  title  user_id  counts\n",
       "0        1.0      0        0       5\n",
       "1        1.0      0        1       4\n",
       "2        1.0      0        2       4\n",
       "3        1.0      0        3       5\n",
       "4        1.0      0        4       5\n",
       "..       ...    ...      ...     ...\n",
       "0        NaN   2325     6039       5\n",
       "1        NaN    462     6039       5\n",
       "2        NaN   2507     6039       5\n",
       "3        NaN    587     6039       5\n",
       "4        NaN    106     6039       5\n",
       "\n",
       "[836483 rows x 4 columns]"
      ]
     },
     "execution_count": 19,
     "metadata": {},
     "output_type": "execute_result"
    }
   ],
   "source": [
    "# indexing을 통해 데이터 컬럼 내 값을 바꾸는 코드\n",
    "# dictionary 자료형의 get 함수는 https://wikidocs.net/16 을 참고하세요.\n",
    "\n",
    "# user_to_idx.get을 통해 user_id 컬럼의 모든 값을 인덱싱한 Series를 구해 봅시다. \n",
    "# 혹시 정상적으로 인덱싱되지 않은 row가 있다면 인덱스가 NaN이 될 테니 dropna()로 제거합니다. \n",
    "temp_user_data = data['user_id'].map(user_to_idx.get).dropna()\n",
    "print(len(temp_user_data))\n",
    "print(len(data))\n",
    "if len(temp_user_data) == len(data):   # 모든 row가 정상적으로 인덱싱되었다면\n",
    "    print('user_id column indexing OK!!')\n",
    "    data['user_id'] = temp_user_data   # data['user_id']을 인덱싱된 Series로 교체해 줍니다. \n",
    "else:\n",
    "    print('user_id column indexing Fail!!')\n",
    "\n",
    "# movie_to_idx을 통해 movie(title) 컬럼도 동일한 방식으로 인덱싱해 줍니다. \n",
    "temp_movie_data = data['title'].map(movie_to_idx.get).dropna()\n",
    "print(len(temp_user_data))\n",
    "print(len(data))\n",
    "if len(temp_movie_data) == len(data):\n",
    "    print('title column indexing OK!!')\n",
    "    data['title'] = temp_movie_data\n",
    "else:\n",
    "    print('title column indexing Fail!!')\n",
    "\n",
    "data"
   ]
  },
  {
   "cell_type": "markdown",
   "metadata": {},
   "source": [
    "## 4. CSR matrix를 직접 만들어 봅시다."
   ]
  },
  {
   "cell_type": "code",
   "execution_count": 20,
   "metadata": {},
   "outputs": [
    {
     "data": {
      "text/plain": [
       "<6040x3628 sparse matrix of type '<class 'numpy.int64'>'\n",
       "\twith 836483 stored elements in Compressed Sparse Row format>"
      ]
     },
     "execution_count": 20,
     "metadata": {},
     "output_type": "execute_result"
    }
   ],
   "source": [
    "# 실습 위에 설명보고 이해해서 만들어보기\n",
    "num_user = data['user_id'].nunique()\n",
    "num_title = data['title'].nunique()\n",
    "\n",
    "csr_data = csr_matrix((data.counts, (data.user_id, data.title)), shape= (num_user, num_title))\n",
    "csr_data"
   ]
  },
  {
   "cell_type": "markdown",
   "metadata": {},
   "source": [
    "## 5. als_model = AlternatingLeastSquares 모델을 직접 구성하여 훈련시켜 봅시다."
   ]
  },
  {
   "cell_type": "code",
   "execution_count": 21,
   "metadata": {},
   "outputs": [],
   "source": [
    "# implicit 라이브러리에서 권장하고 있는 부분입니다. 학습 내용과는 무관합니다.\n",
    "os.environ['OPENBLAS_NUM_THREADS']='1'\n",
    "os.environ['KMP_DUPLICATE_LIB_OK']='True'\n",
    "os.environ['MKL_NUM_THREADS']='1'"
   ]
  },
  {
   "cell_type": "code",
   "execution_count": 22,
   "metadata": {},
   "outputs": [],
   "source": [
    "# Implicit AlternatingLeastSquares 모델의 선언\n",
    "FACTORS = 100\n",
    "ITTER = 30\n",
    "\n",
    "als_model = AlternatingLeastSquares(factors=FACTORS,\n",
    "                                    regularization=0.01,\n",
    "                                    use_gpu=False,\n",
    "                                    iterations=ITTER,\n",
    "                                    dtype=np.float32)"
   ]
  },
  {
   "cell_type": "code",
   "execution_count": 23,
   "metadata": {},
   "outputs": [
    {
     "data": {
      "text/plain": [
       "<3628x6040 sparse matrix of type '<class 'numpy.int64'>'\n",
       "\twith 836483 stored elements in Compressed Sparse Column format>"
      ]
     },
     "execution_count": 23,
     "metadata": {},
     "output_type": "execute_result"
    }
   ],
   "source": [
    "# als 모델은 input으로 (item X user 꼴의 matrix를 받기 때문에 Transpose해줍니다.)\n",
    "csr_data_transpose = csr_data.T\n",
    "csr_data_transpose"
   ]
  },
  {
   "cell_type": "code",
   "execution_count": 24,
   "metadata": {},
   "outputs": [
    {
     "name": "stderr",
     "output_type": "stream",
     "text": [
      "100%|██████████| 30/30 [00:16<00:00,  1.77it/s]\n"
     ]
    }
   ],
   "source": [
    "# 모델 훈련\n",
    "als_model.fit(csr_data_transpose)"
   ]
  },
  {
   "cell_type": "code",
   "execution_count": 31,
   "metadata": {},
   "outputs": [
    {
     "name": "stdout",
     "output_type": "stream",
     "text": [
      "슝=3\n"
     ]
    }
   ],
   "source": [
    "# 모델 학습 후 벡터 생성과 곱 확인\n",
    "jby, matrix = user_to_idx['jby'], movie_to_idx['matrix, the (1999)']\n",
    "jby_vector, matrix_vector = als_model.user_factors[jby], als_model.item_factors[matrix]\n",
    "\n",
    "print('슝=3')"
   ]
  },
  {
   "cell_type": "code",
   "execution_count": 32,
   "metadata": {},
   "outputs": [
    {
     "data": {
      "text/plain": [
       "array([ 0.04512807, -0.64097923,  0.39225993,  0.03780821,  0.16053276,\n",
       "        0.22409485,  0.44845563, -0.6605327 , -0.23602848, -1.0473623 ,\n",
       "       -0.04746384,  0.38587812, -0.15147588,  0.01836262,  0.62070924,\n",
       "        0.42445302, -0.4846172 , -0.24358752, -0.07343699, -0.055594  ,\n",
       "        0.50525486, -0.79153186,  0.56302685,  0.32517037,  0.1991601 ,\n",
       "        0.1701948 , -0.05580804, -0.3493529 ,  0.41086218, -0.01977657,\n",
       "       -0.07523528, -0.16283597, -0.15748914,  0.6087057 , -0.25158232,\n",
       "        0.3827015 ,  0.4831052 , -0.92160654, -0.26556683,  0.11990332,\n",
       "        0.16852069,  0.08369899,  0.19729726, -0.09143362, -0.51526755,\n",
       "        0.6471554 ,  0.04040889,  0.64743984,  0.2802972 ,  0.15040325,\n",
       "        0.01933583,  0.19974548, -0.01609626,  0.07513096,  0.60655993,\n",
       "        0.12955502, -0.5778465 ,  0.13701862,  0.02333194, -0.2031191 ,\n",
       "        0.5855951 , -0.8440647 ,  0.66847897, -0.08179139, -0.550228  ,\n",
       "        0.19647895, -0.40039435, -0.738836  ,  0.6483384 , -0.5499444 ,\n",
       "       -0.11458538,  0.00687714, -0.04665994,  0.06331842, -0.22295792,\n",
       "        1.6165501 ,  0.58533096,  0.6994369 , -0.7904554 ,  0.26533625,\n",
       "       -0.11327913,  0.16659422, -0.26111886,  0.3069994 , -0.47155306,\n",
       "        0.10916155,  0.01444108,  0.81793195,  0.45382893, -0.9198847 ,\n",
       "        0.22088638, -0.8767597 , -0.51874685, -0.00171455, -0.6602145 ,\n",
       "        0.19154054,  0.27359298, -0.5598606 ,  0.15225638,  0.10451247],\n",
       "      dtype=float32)"
      ]
     },
     "execution_count": 32,
     "metadata": {},
     "output_type": "execute_result"
    }
   ],
   "source": [
    "jby_vector"
   ]
  },
  {
   "cell_type": "code",
   "execution_count": 33,
   "metadata": {},
   "outputs": [
    {
     "data": {
      "text/plain": [
       "array([ 0.01040251, -0.03954237,  0.01599171,  0.01699576, -0.00448875,\n",
       "        0.01859375,  0.00770101, -0.01587947,  0.00951681, -0.01476649,\n",
       "        0.01698   ,  0.00115889,  0.01085224,  0.0108203 ,  0.0100208 ,\n",
       "        0.01389251, -0.00948344,  0.00781914,  0.00363766,  0.03018957,\n",
       "        0.01022542, -0.03587609,  0.04729893,  0.01615578,  0.01418382,\n",
       "        0.00580582, -0.00707515, -0.00294035,  0.04275889, -0.01242377,\n",
       "        0.01053252,  0.00074082,  0.00643579,  0.02084895,  0.0019383 ,\n",
       "        0.01837972,  0.00710576, -0.0309607 , -0.03473994,  0.00893925,\n",
       "        0.02060835,  0.01614938, -0.01354734, -0.02631439, -0.01350984,\n",
       "        0.02366926,  0.02203807,  0.02703755, -0.00369651,  0.03816856,\n",
       "       -0.02165268,  0.02220775,  0.02777162,  0.01929121,  0.01651498,\n",
       "        0.00871326,  0.00099825, -0.00581705,  0.02088829, -0.00154535,\n",
       "        0.0250308 ,  0.01164708,  0.05829848, -0.00531552, -0.00466894,\n",
       "       -0.00816062, -0.01717138, -0.00948037,  0.0213059 , -0.04628883,\n",
       "       -0.02631965, -0.02546464,  0.00235146,  0.01728692,  0.0078251 ,\n",
       "        0.04512084,  0.04424415,  0.02421881, -0.00915855, -0.0031587 ,\n",
       "        0.00120592, -0.00534851, -0.00572567, -0.00455181, -0.00797006,\n",
       "        0.01793331,  0.00497498,  0.01239639,  0.01859116, -0.0273956 ,\n",
       "        0.01579894, -0.01754433, -0.01287415,  0.02398997, -0.00960703,\n",
       "        0.00505957, -0.00704744, -0.0284158 ,  0.03488702, -0.01389163],\n",
       "      dtype=float32)"
      ]
     },
     "execution_count": 33,
     "metadata": {},
     "output_type": "execute_result"
    }
   ],
   "source": [
    "matrix_vector"
   ]
  },
  {
   "cell_type": "code",
   "execution_count": 35,
   "metadata": {},
   "outputs": [
    {
     "data": {
      "text/plain": [
       "0.6099028"
      ]
     },
     "execution_count": 35,
     "metadata": {},
     "output_type": "execute_result"
    }
   ],
   "source": [
    "# 두 벡터를 곱해 1에 가까운 수가 나올 수록 학습이 잘 된 것이다.\n",
    "np.dot(jby_vector, matrix_vector)"
   ]
  },
  {
   "cell_type": "code",
   "execution_count": 36,
   "metadata": {},
   "outputs": [],
   "source": [
    "# Implicit AlternatingLeastSquares 모델의 선언\n",
    "FACTORS = 200\n",
    "ITTER = 30\n",
    "\n",
    "als_model = AlternatingLeastSquares(factors=FACTORS,\n",
    "                                    regularization=0.01,\n",
    "                                    use_gpu=False,\n",
    "                                    iterations=ITTER,\n",
    "                                    dtype=np.float32)"
   ]
  },
  {
   "cell_type": "code",
   "execution_count": 37,
   "metadata": {},
   "outputs": [
    {
     "name": "stderr",
     "output_type": "stream",
     "text": [
      "100%|██████████| 30/30 [00:20<00:00,  1.50it/s]\n"
     ]
    }
   ],
   "source": [
    "# 모델 훈련\n",
    "als_model.fit(csr_data_transpose)"
   ]
  },
  {
   "cell_type": "code",
   "execution_count": 43,
   "metadata": {},
   "outputs": [
    {
     "data": {
      "text/plain": [
       "0.6717176"
      ]
     },
     "execution_count": 43,
     "metadata": {},
     "output_type": "execute_result"
    }
   ],
   "source": [
    "# 모델 학습 후 벡터 생성과 곱 확인\n",
    "jby, matrix = user_to_idx['jby'], movie_to_idx['matrix, the (1999)']\n",
    "jby_vector, matrix_vector = als_model.user_factors[jby], als_model.item_factors[matrix]\n",
    "\n",
    "jby_vector\n",
    "matrix_vector\n",
    "np.dot(jby_vector, matrix_vector)"
   ]
  },
  {
   "cell_type": "code",
   "execution_count": 44,
   "metadata": {},
   "outputs": [
    {
     "name": "stderr",
     "output_type": "stream",
     "text": [
      "100%|██████████| 50/50 [00:35<00:00,  1.43it/s]\n"
     ]
    }
   ],
   "source": [
    "# Implicit AlternatingLeastSquares 모델의 선언\n",
    "FACTORS = 200\n",
    "ITTER = 50\n",
    "\n",
    "als_model = AlternatingLeastSquares(factors=FACTORS,\n",
    "                                    regularization=0.01,\n",
    "                                    use_gpu=False,\n",
    "                                    iterations=ITTER,\n",
    "                                    dtype=np.float32)\n",
    "\n",
    "als_model.fit(csr_data_transpose)"
   ]
  },
  {
   "cell_type": "code",
   "execution_count": 45,
   "metadata": {},
   "outputs": [
    {
     "data": {
      "text/plain": [
       "0.6812681"
      ]
     },
     "execution_count": 45,
     "metadata": {},
     "output_type": "execute_result"
    }
   ],
   "source": [
    "# 모델 학습 후 벡터 생성과 곱 확인\n",
    "jby, matrix = user_to_idx['jby'], movie_to_idx['matrix, the (1999)']\n",
    "jby_vector, matrix_vector = als_model.user_factors[jby], als_model.item_factors[matrix]\n",
    "\n",
    "jby_vector\n",
    "matrix_vector\n",
    "np.dot(jby_vector, matrix_vector)"
   ]
  },
  {
   "cell_type": "code",
   "execution_count": 46,
   "metadata": {},
   "outputs": [
    {
     "name": "stderr",
     "output_type": "stream",
     "text": [
      "100%|██████████| 50/50 [00:42<00:00,  1.19it/s]\n"
     ]
    }
   ],
   "source": [
    "# Implicit AlternatingLeastSquares 모델의 선언\n",
    "FACTORS = 400\n",
    "ITTER = 50\n",
    "\n",
    "als_model = AlternatingLeastSquares(factors=FACTORS,\n",
    "                                    regularization=0.01,\n",
    "                                    use_gpu=False,\n",
    "                                    iterations=ITTER,\n",
    "                                    dtype=np.float32)\n",
    "\n",
    "als_model.fit(csr_data_transpose)"
   ]
  },
  {
   "cell_type": "code",
   "execution_count": 47,
   "metadata": {},
   "outputs": [
    {
     "data": {
      "text/plain": [
       "0.89807975"
      ]
     },
     "execution_count": 47,
     "metadata": {},
     "output_type": "execute_result"
    }
   ],
   "source": [
    "# 모델 학습 후 벡터 생성과 곱 확인\n",
    "jby, matrix = user_to_idx['jby'], movie_to_idx['matrix, the (1999)']\n",
    "jby_vector, matrix_vector = als_model.user_factors[jby], als_model.item_factors[matrix]\n",
    "\n",
    "jby_vector\n",
    "matrix_vector\n",
    "np.dot(jby_vector, matrix_vector)"
   ]
  },
  {
   "cell_type": "markdown",
   "metadata": {},
   "source": [
    "FACTORS = 400, ITTER=50에서 0.898까지 상승했다.  \n",
    "FACTORS 값을 크게 줄수록 1에 가까워지나 과적합이 우려되어 0.898 값으로 진행"
   ]
  },
  {
   "cell_type": "markdown",
   "metadata": {},
   "source": [
    "## 6. 내가 선호하는 5가지 영화 중 하나와 그 외의 영화 하나를 골라 훈련된 모델이 예측한 나의 선호도를 파악해 보세요."
   ]
  },
  {
   "cell_type": "markdown",
   "metadata": {},
   "source": [
    "### 6.1 내가 선호하는 영화 중 하나 선호도 파악"
   ]
  },
  {
   "cell_type": "code",
   "execution_count": 57,
   "metadata": {},
   "outputs": [
    {
     "data": {
      "text/plain": [
       "0.9349424"
      ]
     },
     "execution_count": 57,
     "metadata": {},
     "output_type": "execute_result"
    }
   ],
   "source": [
    "# 선호하는 영화 쥬라기 파크에 대한 선호도 파악\n",
    "jp = movie_to_idx['jurassic park (1993)']\n",
    "jp_vector = als_model.item_factors[jp]\n",
    "np.dot(jby_vector, jp_vector)"
   ]
  },
  {
   "cell_type": "markdown",
   "metadata": {},
   "source": [
    "### 6.2 그 외의 영화 선호도 파악"
   ]
  },
  {
   "cell_type": "code",
   "execution_count": 59,
   "metadata": {},
   "outputs": [
    {
     "data": {
      "text/plain": [
       "0.0044613252"
      ]
     },
     "execution_count": 59,
     "metadata": {},
     "output_type": "execute_result"
    }
   ],
   "source": [
    "# pot o' gold 에 대한 선호도 0.004\n",
    "pot = movie_to_idx[\"pot o' gold (1941)\"]\n",
    "pot_vector = als_model.item_factors[pot]\n",
    "np.dot(jby_vector, pot_vector)"
   ]
  },
  {
   "cell_type": "markdown",
   "metadata": {},
   "source": [
    "## 7. 내가 좋아하는 영화와 비슷한 영화를 추천받아 봅시다."
   ]
  },
  {
   "cell_type": "markdown",
   "metadata": {},
   "source": [
    "### 7.1 matrix, the (1999) 와 비슷한 영화 추천"
   ]
  },
  {
   "cell_type": "code",
   "execution_count": 62,
   "metadata": {},
   "outputs": [
    {
     "data": {
      "text/plain": [
       "[(2325, 1.0),\n",
       " (569, 0.24768),\n",
       " (3334, 0.2409196),\n",
       " (1386, 0.24063696),\n",
       " (1004, 0.23742867),\n",
       " (2211, 0.23713905),\n",
       " (2505, 0.23699114),\n",
       " (2569, 0.23624307),\n",
       " (2330, 0.23594928),\n",
       " (2950, 0.23591046),\n",
       " (2385, 0.23574612),\n",
       " (57, 0.23552635),\n",
       " (719, 0.23534372),\n",
       " (609, 0.2344041),\n",
       " (2655, 0.23429614)]"
      ]
     },
     "execution_count": 62,
     "metadata": {},
     "output_type": "execute_result"
    }
   ],
   "source": [
    "favorite_movie = 'matrix, the (1999)'\n",
    "movie_id = movie_to_idx[favorite_movie]\n",
    "similar_movie = als_model.similar_items(movie_id, N=15)\n",
    "similar_movie"
   ]
  },
  {
   "cell_type": "code",
   "execution_count": 63,
   "metadata": {},
   "outputs": [
    {
     "data": {
      "text/plain": [
       "['matrix, the (1999)',\n",
       " 'terminator 2: judgment day (1991)',\n",
       " 'running free (2000)',\n",
       " 'second jungle book: mowgli & baloo, the (1997)',\n",
       " 'search for one-eye jimmy, the (1996)',\n",
       " 'gate ii: trespassers, the (1990)',\n",
       " 'gambler, the (a játékos) (1997)',\n",
       " 'on the ropes (1999)',\n",
       " 'love, etc. (1996)',\n",
       " 'smashing time (1967)',\n",
       " \"mummy's ghost, the (1944)\",\n",
       " 'confessional, the (le confessionnal) (1995)',\n",
       " 'babyfever (1994)',\n",
       " 'theodore rex (1995)',\n",
       " 'molly (1999)']"
      ]
     },
     "execution_count": 63,
     "metadata": {},
     "output_type": "execute_result"
    }
   ],
   "source": [
    "#movie_to_idx 를 뒤집어, index로부터 artist 이름을 얻는 dict를 생성합니다. \n",
    "idx_to_movie = {v:k for k,v in movie_to_idx.items()}\n",
    "[idx_to_movie[i[0]] for i in similar_movie]"
   ]
  },
  {
   "cell_type": "markdown",
   "metadata": {},
   "source": [
    "터미네이터 말고는 모르는 영화들이다."
   ]
  },
  {
   "cell_type": "markdown",
   "metadata": {},
   "source": [
    "### 7.2 jurassic park (1993) 와 비슷한 영화 추천"
   ]
  },
  {
   "cell_type": "code",
   "execution_count": 66,
   "metadata": {},
   "outputs": [
    {
     "name": "stdout",
     "output_type": "stream",
     "text": [
      "슝=3\n"
     ]
    }
   ],
   "source": [
    "def get_similar_movie(movie_name: str):\n",
    "    movie_id = movie_to_idx[movie_name]\n",
    "    similar_movie = als_model.similar_items(movie_id)\n",
    "    similar_movie = [idx_to_movie[i[0]] for i in similar_movie]\n",
    "    return similar_movie\n",
    "\n",
    "print(\"슝=3\")"
   ]
  },
  {
   "cell_type": "code",
   "execution_count": 67,
   "metadata": {},
   "outputs": [
    {
     "data": {
      "text/plain": [
       "['jurassic park (1993)',\n",
       " 'midaq alley (callejón de los milagros, el) (1995)',\n",
       " \"pot o' gold (1941)\",\n",
       " 'reckless (1995)',\n",
       " 'designated mourner, the (1997)',\n",
       " 'schlafes bruder (brother of sleep) (1995)',\n",
       " 'men in black (1997)',\n",
       " 'cabaret balkan (bure baruta) (1998)',\n",
       " 'loser (1991)',\n",
       " 'lost world: jurassic park, the (1997)']"
      ]
     },
     "execution_count": 67,
     "metadata": {},
     "output_type": "execute_result"
    }
   ],
   "source": [
    "get_similar_movie('jurassic park (1993)')"
   ]
  },
  {
   "cell_type": "code",
   "execution_count": 68,
   "metadata": {},
   "outputs": [
    {
     "data": {
      "text/plain": [
       "['sixth sense, the (1999)',\n",
       " 'communion (a.k.a. alice, sweet alice/holy terror) (1977)',\n",
       " 'dry cleaning (nettoyage à sec) (1997)',\n",
       " 'brother minister: the assassination of malcolm x (1994)',\n",
       " \"heaven's burning (1997)\",\n",
       " 'match, the (1999)',\n",
       " 'boys life 2 (1997)',\n",
       " 'skipped parts (2000)',\n",
       " 'heaven (1998)',\n",
       " 'project moon base (1953)']"
      ]
     },
     "execution_count": 68,
     "metadata": {},
     "output_type": "execute_result"
    }
   ],
   "source": [
    "get_similar_movie('sixth sense, the (1999)')"
   ]
  },
  {
   "cell_type": "markdown",
   "metadata": {},
   "source": [
    "## 8. 내가 가장 좋아할 만한 영화들을 추천받아 봅시다.\n",
    "\n",
    "`AlternatingLeastSquares` 클래스에 구현되어 있는 `recommend` 메서드를 통하여 제가 좋아할 만한 아티스트를 추천받습니다. \n",
    "`filter_already_liked_items` 는 유저가 이미 평가한 아이템은 제외하는 Argument입니다."
   ]
  },
  {
   "cell_type": "code",
   "execution_count": 71,
   "metadata": {},
   "outputs": [
    {
     "data": {
      "text/plain": [
       "[(569, 0.19647154),\n",
       " (1419, 0.13882735),\n",
       " (1233, 0.1265754),\n",
       " (1448, 0.11882388),\n",
       " (49, 0.11603098),\n",
       " (1540, 0.10965714),\n",
       " (439, 0.10268031),\n",
       " (513, 0.09996404),\n",
       " (1810, 0.099620655),\n",
       " (2885, 0.09797871),\n",
       " (684, 0.09241292),\n",
       " (2285, 0.09207582),\n",
       " (1097, 0.09064489),\n",
       " (573, 0.08897412),\n",
       " (2037, 0.08860007),\n",
       " (2456, 0.08836229),\n",
       " (2659, 0.084173344),\n",
       " (1024, 0.0841715),\n",
       " (1248, 0.08307285),\n",
       " (1166, 0.08184196)]"
      ]
     },
     "execution_count": 71,
     "metadata": {},
     "output_type": "execute_result"
    }
   ],
   "source": [
    "user = user_to_idx['jby']\n",
    "# recommend에서는 user*item CSR Matrix를 받습니다.\n",
    "movie_recommended = als_model.recommend(user, csr_data, N=20, filter_already_liked_items=True)\n",
    "movie_recommended"
   ]
  },
  {
   "cell_type": "code",
   "execution_count": 72,
   "metadata": {},
   "outputs": [
    {
     "data": {
      "text/plain": [
       "['terminator 2: judgment day (1991)',\n",
       " 'men in black (1997)',\n",
       " 'sling blade (1996)',\n",
       " 'hunt for red october, the (1990)',\n",
       " 'usual suspects, the (1995)',\n",
       " 'titanic (1997)',\n",
       " 'fugitive, the (1993)',\n",
       " 'secret garden, the (1993)',\n",
       " 'saving private ryan (1998)',\n",
       " 'bicentennial man (1999)',\n",
       " 'rock, the (1996)',\n",
       " 'planet of the apes (1968)',\n",
       " 'goodfellas (1990)',\n",
       " 'silence of the lambs, the (1991)',\n",
       " 'rush hour (1998)',\n",
       " 'blair witch project, the (1999)',\n",
       " \"ferris bueller's day off (1986)\",\n",
       " 'return of the pink panther, the (1974)',\n",
       " 'star trek: the wrath of khan (1982)',\n",
       " 'big sleep, the (1946)']"
      ]
     },
     "execution_count": 72,
     "metadata": {},
     "output_type": "execute_result"
    }
   ],
   "source": [
    "[idx_to_movie[i[0]] for i in movie_recommended]"
   ]
  },
  {
   "cell_type": "markdown",
   "metadata": {},
   "source": [
    "### 8.1 왜 해당 영화를 추천했는지 살펴보기"
   ]
  },
  {
   "cell_type": "code",
   "execution_count": 74,
   "metadata": {},
   "outputs": [],
   "source": [
    "mib = movie_to_idx['men in black (1997)']\n",
    "explain = als_model.explain(user, csr_data, itemid=mib)"
   ]
  },
  {
   "cell_type": "code",
   "execution_count": 75,
   "metadata": {},
   "outputs": [
    {
     "data": {
      "text/plain": [
       "[('jurassic park (1993)', 0.07577662833988807),\n",
       " ('braveheart (1995)', 0.02619446964617387),\n",
       " ('matrix, the (1999)', 0.017277678510153067),\n",
       " ('sixth sense, the (1999)', 0.009842197419857989),\n",
       " ('fargo (1996)', 0.008655846244871963)]"
      ]
     },
     "execution_count": 75,
     "metadata": {},
     "output_type": "execute_result"
    }
   ],
   "source": [
    "[(idx_to_movie[i[0]], i[1]) for i in explain[1]]"
   ]
  },
  {
   "cell_type": "code",
   "execution_count": 76,
   "metadata": {},
   "outputs": [
    {
     "data": {
      "text/plain": [
       "[('jurassic park (1993)', 0.02918949783002219),\n",
       " ('fargo (1996)', 0.028031489948308654),\n",
       " ('sixth sense, the (1999)', 0.0246887332133778),\n",
       " ('matrix, the (1999)', 0.020982325414003137),\n",
       " ('braveheart (1995)', 0.006122793809210003)]"
      ]
     },
     "execution_count": 76,
     "metadata": {},
     "output_type": "execute_result"
    }
   ],
   "source": [
    "tanic = movie_to_idx['titanic (1997)']\n",
    "explain = als_model.explain(user, csr_data, itemid=tanic)\n",
    "\n",
    "[(idx_to_movie[i[0]], i[1]) for i in explain[1]]\n"
   ]
  },
  {
   "cell_type": "markdown",
   "metadata": {},
   "source": [
    "## 느낀점\n",
    "\n",
    "* 평소 궁금했던 추천 시스템에 관한 이론과 모델 등을 배우고 실습해 볼 수 있어서 재밌었다.\n",
    "* csv가 두개라 처음에 좀 헤맸다. 엑셀이었다면 당연하게 하나의 sheet로 합쳐서 데이터를 정리했을텐데, 코딩 화면은 아직도 낯설다.\n",
    "* 외국 영화는 유명한 몇 편정도만 챙겨보는 수준이라, 유사도에 대한 결과로 나온 영화들 중 아는 영화가 너무 적어 분석 및 판단하기가 어려웠다.\n",
    "* 로컬에서 노드를 따라할 때 model fit의 결과가 이상해져 오류가 발생했다. `implicit`의 버전을 노드 버전인 0.4.8로 동일하게 맞춰주자 해결됐다.\n",
    "* 모델의 학습이 굉장히 빨라 간만에 시원했던 exp였다. implicit의 gpu옵션은 `True`로 설정하니 오류가 뜨던데 해결하지 못했다.\n",
    "* factors와 itter를 조절해 모델 훈련의 정확도를 계속 높일 수 있었다. 이 모델은 과적합이 발생하는 경우에는 어떤 처리를 하는지 궁금하다."
   ]
  }
 ],
 "metadata": {
  "interpreter": {
   "hash": "a6d479fb901925bf95be03c57f66c8da4656e795ca75e28d88de06b246de9509"
  },
  "kernelspec": {
   "display_name": "Python 3.7.11 ('3.7')",
   "language": "python",
   "name": "python3"
  },
  "language_info": {
   "codemirror_mode": {
    "name": "ipython",
    "version": 3
   },
   "file_extension": ".py",
   "mimetype": "text/x-python",
   "name": "python",
   "nbconvert_exporter": "python",
   "pygments_lexer": "ipython3",
   "version": "3.7.11"
  },
  "orig_nbformat": 4
 },
 "nbformat": 4,
 "nbformat_minor": 2
}
