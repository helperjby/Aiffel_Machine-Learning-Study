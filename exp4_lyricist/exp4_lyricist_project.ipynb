{
 "cells": [
  {
   "cell_type": "markdown",
   "metadata": {},
   "source": [
    "## exp4. 인공지능으로 작사하기\n",
    "\n",
    "커널정보 = base(python. 3.9.7)"
   ]
  },
  {
   "cell_type": "markdown",
   "metadata": {},
   "source": [
    "### 0. 루브릭\n",
    "***\n",
    "\n",
    "|**평가문항**|**상세기준**|\n",
    "|------------|-------------|\n",
    "|1. 가사 텍스트 생성 모델이 정상적으로 동작하는가?|텍스트 제너레이션 결과가 그럴듯한 문장으로 생성되는가?|\n",
    "|2. 데이터의 전처리와 데이터셋 구성 과정이 체계적으로 진행되었는가?|특수문자 제거, 토크나이저 생성, 패딩처리 등의 과정이 빠짐없이 진행되었는가?|\n",
    "|3. 텍스트 생성모델이 안정적으로 학습되었는가?|텍스트 생성모델의 validation loss가 2.2 이하로 낮아졌는가?|"
   ]
  },
  {
   "cell_type": "markdown",
   "metadata": {},
   "source": [
    "### 1. 데이터 다운로드 및 모듈 import"
   ]
  },
  {
   "cell_type": "markdown",
   "metadata": {},
   "source": [
    "### 2. 데이터 읽어오기"
   ]
  },
  {
   "cell_type": "code",
   "execution_count": 8,
   "metadata": {},
   "outputs": [
    {
     "name": "stdout",
     "output_type": "stream",
     "text": [
      "데이터 크기: 187088\n",
      "Examples:\n",
      " ['Looking for some education', 'Made my way into the night', 'All that bullshit conversation']\n"
     ]
    }
   ],
   "source": [
    "import re    \n",
    "import glob\n",
    "import numpy as np         \n",
    "import tensorflow as tf    \n",
    "\n",
    "txt_file_path = 'C:/project/aiffel_exp/exp4_lyricist/song_lyrics/*.txt'\n",
    "\n",
    "txt_list = glob.glob(txt_file_path)\n",
    "\n",
    "raw_corpus = []\n",
    "\n",
    "# 여러개의 txt 파일을 모두 읽어서 raw_corpus 에 담습니다.\n",
    "for txt_file in txt_list:\n",
    "    with open(txt_file, \"r\", encoding=\"UTF-8\") as f:\n",
    "        raw = f.read().splitlines() # 코드를 그대로 사용하니 unicodedecodeerror 발생하여 인코딩 추가\n",
    "        raw_corpus.extend(raw)\n",
    "\n",
    "print(\"데이터 크기:\", len(raw_corpus))\n",
    "print(\"Examples:\\n\", raw_corpus[:3])"
   ]
  },
  {
   "cell_type": "markdown",
   "metadata": {},
   "source": [
    "### 3. 데이터 정제"
   ]
  },
  {
   "cell_type": "code",
   "execution_count": 10,
   "metadata": {},
   "outputs": [
    {
     "name": "stdout",
     "output_type": "stream",
     "text": [
      "Looking for some education\n",
      "Made my way into the night\n",
      "All that bullshit conversation\n",
      "Baby, can't you read the signs? I won't bore you with the details, baby\n",
      "I don't even wanna waste your time\n",
      "Let's just say that maybe\n",
      "You could help me ease my mind\n",
      "I ain't Mr. Right But if you're looking for fast love\n",
      "If that's love in your eyes\n",
      "It's more than enough\n"
     ]
    }
   ],
   "source": [
    "for idx, sentence in enumerate(raw_corpus):\n",
    "    if len(sentence) == 0: continue   # 길이가 0인 문장은 건너뜁니다.\n",
    "\n",
    "    if idx > 9: break   # 일단 문장 10개만 확인해 볼 겁니다.\n",
    "        \n",
    "    print(sentence)"
   ]
  },
  {
   "cell_type": "markdown",
   "metadata": {},
   "source": [
    "#### 문장 전처리"
   ]
  },
  {
   "cell_type": "code",
   "execution_count": 11,
   "metadata": {},
   "outputs": [
    {
     "name": "stdout",
     "output_type": "stream",
     "text": [
      "<start> this is sample sentence . <end>\n"
     ]
    }
   ],
   "source": [
    "# 입력된 문장을\n",
    "def preprocess_sentence(sentence):\n",
    "    sentence = sentence.lower().strip() # 1. 소문자로 바꾸고, 양쪽 공백을 지웁니다\n",
    "    sentence = re.sub(r\"([?.!,¿])\", r\" \\1 \", sentence) # 2. 특수문자 양쪽에 공백을 넣고\n",
    "    sentence = re.sub(r'[\" \"]+', \" \", sentence) # 3. 여러개의 공백은 하나의 공백으로 바꿉니다\n",
    "    sentence = re.sub(r\"[^a-zA-Z?.!,¿]+\", \" \", sentence) # 4 a-zA-Z?.!,¿가 아닌 모든 문자를 하나의 공백으로 바꿉니다\n",
    "    sentence = sentence.strip() # 5. 다시 양쪽 공백을 지웁니다\n",
    "    sentence = '<start> ' + sentence + ' <end>' # 6. 문장 시작에는 <start>, 끝에는 <end>를 추가합니다\n",
    "    return sentence\n",
    "\n",
    "# 이 문장이 어떻게 필터링되는지 확인해 보세요.\n",
    "print(preprocess_sentence(\"This @_is ;;;sample        sentence.\"))"
   ]
  },
  {
   "cell_type": "code",
   "execution_count": 12,
   "metadata": {},
   "outputs": [
    {
     "data": {
      "text/plain": [
       "['<start> looking for some education <end>',\n",
       " '<start> made my way into the night <end>',\n",
       " '<start> all that bullshit conversation <end>',\n",
       " '<start> baby , can t you read the signs ? i won t bore you with the details , baby <end>',\n",
       " '<start> i don t even wanna waste your time <end>',\n",
       " '<start> let s just say that maybe <end>',\n",
       " '<start> you could help me ease my mind <end>',\n",
       " '<start> i ain t mr . right but if you re looking for fast love <end>',\n",
       " '<start> if that s love in your eyes <end>',\n",
       " '<start> it s more than enough <end>']"
      ]
     },
     "execution_count": 12,
     "metadata": {},
     "output_type": "execute_result"
    }
   ],
   "source": [
    "corpus = []\n",
    "\n",
    "for sentence in raw_corpus:\n",
    "    if len(sentence) == 0: continue\n",
    "    if sentence[-1] == \":\": continue\n",
    "        \n",
    "    corpus.append(preprocess_sentence(sentence))\n",
    "        \n",
    "corpus[:10]"
   ]
  },
  {
   "cell_type": "markdown",
   "metadata": {},
   "source": [
    "#### 데이터 토큰화"
   ]
  },
  {
   "cell_type": "code",
   "execution_count": 13,
   "metadata": {},
   "outputs": [
    {
     "name": "stdout",
     "output_type": "stream",
     "text": [
      "[[  2 304  28 ...   0   0   0]\n",
      " [  2 221  13 ...   0   0   0]\n",
      " [  2  24  17 ...   0   0   0]\n",
      " ...\n",
      " [  2  23  77 ...   0   0   0]\n",
      " [  2  42  26 ...   0   0   0]\n",
      " [  2  23  77 ...   0   0   0]] <keras_preprocessing.text.Tokenizer object at 0x0000019BFEDD5610>\n"
     ]
    }
   ],
   "source": [
    "def tokenize(corpus):\n",
    "    # 텐서플로우에서 제공하는 Tokenizer 패키지를 생성\n",
    "    tokenizer = tf.keras.preprocessing.text.Tokenizer(\n",
    "        num_words=7000,  # 전체 단어의 개수 \n",
    "        filters=' ',    # 별도로 전처리 로직을 추가할 수 있습니다. 이번에는 사용하지 않겠습니다.\n",
    "        oov_token=\"<unk>\"  # out-of-vocabulary, 사전에 없었던 단어는 어떤 토큰으로 대체할지\n",
    "    )\n",
    "    tokenizer.fit_on_texts(corpus) # corpus를 이용해 tokenizer 내부의 단어장을 완성합니다\n",
    "\n",
    "    # 이후 tokenizer를 활용하여 모델에 입력할 데이터셋을 구축하게 됩니다.\n",
    "    tensor = tokenizer.texts_to_sequences(corpus)   # tokenizer는 구축한 사전으로부터 corpus를 해석해 Tensor로 변환합니다.\n",
    "\t\n",
    "    total_data_text = list(tensor)\n",
    "    num_tokens = [len(tokens) for tokens in total_data_text]\n",
    "    max_tokens = np.mean(num_tokens) + 2 * np.std(num_tokens)\n",
    "    maxlen = int(max_tokens)\n",
    "    # 입력 데이터의 시퀀스 길이를 일정하게 맞추기 위한 padding  메소드를 제공합니다.\n",
    "    # maxlen의 디폴트값은 None입니다. 이 경우 corpus의 가장 긴 문장을 기준으로 시퀀스 길이가 맞춰집니다.\n",
    "    tensor = tf.keras.preprocessing.sequence.pad_sequences(tensor, \n",
    "                                                           padding='post',\n",
    "                                                           maxlen=maxlen)  \n",
    "\n",
    "    print(tensor,tokenizer)\n",
    "    return tensor, tokenizer\n",
    "\n",
    "tensor, tokenizer = tokenize(corpus)"
   ]
  },
  {
   "cell_type": "code",
   "execution_count": 14,
   "metadata": {},
   "outputs": [
    {
     "name": "stdout",
     "output_type": "stream",
     "text": [
      "1 : <unk>\n",
      "2 : <start>\n",
      "3 : <end>\n",
      "4 : ,\n",
      "5 : i\n",
      "6 : the\n",
      "7 : you\n",
      "8 : and\n",
      "9 : a\n",
      "10 : to\n"
     ]
    }
   ],
   "source": [
    "for idx in tokenizer.index_word:\n",
    "    print(idx, \":\", tokenizer.index_word[idx])\n",
    "\n",
    "    if idx >= 10: break"
   ]
  },
  {
   "cell_type": "code",
   "execution_count": 15,
   "metadata": {},
   "outputs": [
    {
     "name": "stdout",
     "output_type": "stream",
     "text": [
      "[   2  304   28   99 4811    3    0    0    0    0    0    0    0    0\n",
      "    0    0    0    0    0]\n",
      "[ 304   28   99 4811    3    0    0    0    0    0    0    0    0    0\n",
      "    0    0    0    0    0]\n"
     ]
    }
   ],
   "source": [
    "src_input = tensor[:, :-1]  # tensor에서 마지막 토큰을 잘라내서 소스 문장을 생성합니다. 마지막 토큰은 <END>가 아니라 <pad>일 가능성이 높습니다.\n",
    "tgt_input = tensor[:, 1:]    # tensor에서 <START>를 잘라내서 타겟 문장을 생성합니다.\n",
    "\n",
    "print(src_input[0])\n",
    "print(tgt_input[0])"
   ]
  },
  {
   "cell_type": "markdown",
   "metadata": {},
   "source": [
    "### 4. 평가 데이터셋 분리"
   ]
  },
  {
   "cell_type": "code",
   "execution_count": 16,
   "metadata": {},
   "outputs": [
    {
     "data": {
      "text/plain": [
       "<BatchDataset shapes: ((256, 19), (256, 19)), types: (tf.int32, tf.int32)>"
      ]
     },
     "execution_count": 16,
     "metadata": {},
     "output_type": "execute_result"
    }
   ],
   "source": [
    "# 텐서플로우의 `tf.data.Dataset`을 이용해 데이터셋 객체 생성.\n",
    "# 텐서를 사용할 땐 텐서로 생성된 데이터를 이용해 `tf.data.Dataset` 객체 생성을 주로 사용함\n",
    "BUFFER_SIZE = len(src_input)\n",
    "BATCH_SIZE = 256\n",
    "steps_per_epoch = len(src_input) // BATCH_SIZE\n",
    "\n",
    " # tokenizer가 구축한 단어사전 내 7000개와, 여기 포함되지 않은 0:<pad>를 포함하여 7001개\n",
    "VOCAB_SIZE = tokenizer.num_words + 1   \n",
    "\n",
    "# 준비한 데이터 소스로부터 데이터셋을 만듭니다\n",
    "# 데이터셋에 대해서는 아래 문서를 참고하세요\n",
    "# 자세히 알아둘수록 도움이 많이 되는 중요한 문서입니다\n",
    "# https://www.tensorflow.org/api_docs/python/tf/data/Dataset\n",
    "dataset = tf.data.Dataset.from_tensor_slices((src_input, tgt_input))\n",
    "dataset = dataset.shuffle(BUFFER_SIZE)\n",
    "dataset = dataset.batch(BATCH_SIZE, drop_remainder=True)\n",
    "dataset"
   ]
  },
  {
   "cell_type": "markdown",
   "metadata": {},
   "source": [
    "### 5. 인공지능 만들기"
   ]
  },
  {
   "cell_type": "code",
   "execution_count": 17,
   "metadata": {},
   "outputs": [],
   "source": [
    "'''\n",
    "tk.keras.Model을 Subclassing 하는 방식\n",
    "1개의 Embedding 레이어, 2개의 LSTM 레이어, 1개의 Dense 레이어 구성\n",
    "Embedding 레이어는 단어 사전 인덱스 값을 해당 인덱스 번째의 워드 벡터로 바꿔줌. \n",
    "이 워드 벡터는 의미 벡터 공간에서 단어의 추상적 표현(representation)으로 사용됨\n",
    "\n",
    "embedding_size는 워드 벡터의 차원수, 단어가 추상적으로 표현되는 크기.\n",
    "값이 커질수록 단어의 추상적인 특징을 잘 잡아내지만, 충분한 데이터가 없다면 오히려 성능이 나빠진다\n",
    "\n",
    "LSTM레이어의 hidden_size도 같은 맥락\n",
    "'''\n",
    "class TextGenerator(tf.keras.Model):\n",
    "    def __init__(self, vocab_size, embedding_size, hidden_size):\n",
    "        super().__init__()\n",
    "        \n",
    "        self.embedding = tf.keras.layers.Embedding(vocab_size, embedding_size)\n",
    "        self.rnn_1 = tf.keras.layers.LSTM(hidden_size, return_sequences=True)\n",
    "        self.rnn_2 = tf.keras.layers.LSTM(hidden_size, return_sequences=True)\n",
    "        self.linear = tf.keras.layers.Dense(vocab_size)\n",
    "        \n",
    "    def call(self, x):\n",
    "        out = self.embedding(x)\n",
    "        out = self.rnn_1(out)\n",
    "        out = self.rnn_2(out)\n",
    "        out = self.linear(out)\n",
    "        \n",
    "        return out\n",
    "    \n",
    "embedding_size = 256\n",
    "hidden_size = 1024\n",
    "model = TextGenerator(tokenizer.num_words + 1, embedding_size , hidden_size)"
   ]
  },
  {
   "cell_type": "code",
   "execution_count": 18,
   "metadata": {},
   "outputs": [
    {
     "data": {
      "text/plain": [
       "<tf.Tensor: shape=(256, 19, 7001), dtype=float32, numpy=\n",
       "array([[[ 4.03772108e-04, -7.92911596e-05,  2.08476660e-04, ...,\n",
       "         -7.89116311e-05, -1.51083455e-04,  9.79088654e-05],\n",
       "        [ 9.13622382e-04, -4.79631679e-04,  1.73344772e-04, ...,\n",
       "         -1.44497972e-04, -2.64171307e-04,  3.60349659e-04],\n",
       "        [ 1.06809335e-03, -7.29580817e-04,  3.22581647e-04, ...,\n",
       "         -4.49454441e-04, -3.23220098e-04,  2.98170489e-04],\n",
       "        ...,\n",
       "        [ 2.86653475e-03,  1.61306176e-04, -2.74053495e-03, ...,\n",
       "         -1.75624271e-03,  4.78496950e-04, -4.69478575e-04],\n",
       "        [ 3.18243727e-03,  9.12878459e-05, -2.73964740e-03, ...,\n",
       "         -1.94867188e-03,  4.79712151e-04, -3.24973342e-04],\n",
       "        [ 3.46260611e-03,  2.75620732e-05, -2.72574322e-03, ...,\n",
       "         -2.10870733e-03,  4.65457910e-04, -1.75570065e-04]],\n",
       "\n",
       "       [[-2.52522994e-04, -1.44058242e-04,  2.42146954e-04, ...,\n",
       "          7.85455995e-05,  3.71460861e-04, -8.30123972e-05],\n",
       "        [ 3.89929701e-05, -5.50479919e-04,  3.22469976e-04, ...,\n",
       "         -1.24722173e-05,  6.16524660e-04,  3.29270348e-04],\n",
       "        [ 4.04353719e-04, -6.65365951e-04,  5.19758847e-04, ...,\n",
       "         -1.81356023e-04,  9.28860856e-04,  5.12431376e-04],\n",
       "        ...,\n",
       "        [-1.28864136e-04,  1.85308265e-04,  1.10692316e-04, ...,\n",
       "          8.00124137e-04, -8.21077847e-04,  7.80575734e-04],\n",
       "        [ 1.32691392e-04,  5.39740897e-04,  1.10457986e-04, ...,\n",
       "          9.65697516e-04, -1.24672789e-03,  1.09585607e-03],\n",
       "        [ 5.23149793e-04,  1.05483888e-03, -3.74937554e-05, ...,\n",
       "          7.82025163e-04, -1.29834597e-03,  1.28219393e-03]],\n",
       "\n",
       "       [[ 4.03772108e-04, -7.92911596e-05,  2.08476660e-04, ...,\n",
       "         -7.89116311e-05, -1.51083455e-04,  9.79088654e-05],\n",
       "        [ 3.71935224e-04,  1.96972396e-04,  3.70921858e-04, ...,\n",
       "         -1.21602774e-04,  1.12099333e-04,  2.64699076e-04],\n",
       "        [ 1.69179664e-04,  1.42630262e-04,  5.18520130e-04, ...,\n",
       "         -1.63585151e-04,  4.00443299e-04,  1.19635246e-04],\n",
       "        ...,\n",
       "        [ 3.17909475e-03, -3.05565918e-04, -2.63993465e-03, ...,\n",
       "         -1.76613650e-03,  1.15706481e-03, -4.28411906e-04],\n",
       "        [ 3.46050691e-03, -3.03097913e-04, -2.65573501e-03, ...,\n",
       "         -1.93612778e-03,  1.03767938e-03, -2.57847918e-04],\n",
       "        [ 3.70491040e-03, -3.01339693e-04, -2.65548634e-03, ...,\n",
       "         -2.07750755e-03,  9.17232537e-04, -9.40554528e-05]],\n",
       "\n",
       "       ...,\n",
       "\n",
       "       [[ 4.03772108e-04, -7.92911596e-05,  2.08476660e-04, ...,\n",
       "         -7.89116311e-05, -1.51083455e-04,  9.79088654e-05],\n",
       "        [ 2.69623095e-04, -1.86305551e-05,  1.71924214e-04, ...,\n",
       "         -1.77930546e-04, -3.75480711e-04, -9.26725043e-05],\n",
       "        [ 3.54689382e-06,  3.03262379e-04,  6.25168614e-04, ...,\n",
       "          2.32951188e-05, -7.93136482e-04, -2.04291035e-04],\n",
       "        ...,\n",
       "        [ 3.36669676e-04,  3.26806505e-04, -2.02892325e-03, ...,\n",
       "          1.01930869e-04,  1.65154401e-03, -1.03187305e-03],\n",
       "        [ 7.48996856e-04,  2.95262987e-04, -2.33032508e-03, ...,\n",
       "         -3.51486640e-04,  1.60901225e-03, -1.06283661e-03],\n",
       "        [ 1.19488023e-03,  2.52758677e-04, -2.53912108e-03, ...,\n",
       "         -7.70656799e-04,  1.54069369e-03, -1.01873884e-03]],\n",
       "\n",
       "       [[ 2.60493398e-04,  2.02365962e-04,  1.74019777e-04, ...,\n",
       "          7.45794896e-05, -8.31829893e-05,  9.72932103e-05],\n",
       "        [ 1.57830131e-04,  4.60500014e-04,  1.64934841e-04, ...,\n",
       "         -2.97091283e-05, -1.89819577e-04, -9.98379255e-05],\n",
       "        [-3.02374712e-04,  8.59135180e-04,  2.80284148e-04, ...,\n",
       "         -1.43513666e-04, -1.13937582e-04, -1.78891336e-04],\n",
       "        ...,\n",
       "        [-1.91130035e-04, -5.12340688e-04,  9.42488114e-05, ...,\n",
       "         -3.12074379e-04,  1.11879583e-03, -7.09180429e-04],\n",
       "        [-5.15377382e-04, -2.22988820e-04,  3.61002071e-06, ...,\n",
       "          3.03118664e-04,  1.02096389e-03, -7.59679533e-04],\n",
       "        [-5.49936958e-04, -4.59162635e-04, -3.83533101e-04, ...,\n",
       "          2.38411973e-04,  9.02390981e-04, -1.21190760e-03]],\n",
       "\n",
       "       [[ 4.03772108e-04, -7.92911596e-05,  2.08476660e-04, ...,\n",
       "         -7.89116311e-05, -1.51083455e-04,  9.79088654e-05],\n",
       "        [ 9.75858595e-04, -1.62537384e-04,  1.43980360e-04, ...,\n",
       "         -1.07059474e-04,  1.35257695e-04,  5.01387476e-05],\n",
       "        [ 1.12189841e-03, -3.84147599e-04,  7.48511738e-05, ...,\n",
       "         -4.83898621e-04,  5.46403404e-04, -1.37709503e-04],\n",
       "        ...,\n",
       "        [ 3.29027930e-03, -1.99416725e-04, -2.39082798e-03, ...,\n",
       "         -2.64289253e-03,  1.07568060e-03, -2.06803437e-04],\n",
       "        [ 3.57663888e-03, -1.87951897e-04, -2.45667365e-03, ...,\n",
       "         -2.71178363e-03,  9.28662601e-04, -6.09704912e-05],\n",
       "        [ 3.82067845e-03, -1.83968135e-04, -2.50095804e-03, ...,\n",
       "         -2.75876373e-03,  7.93044455e-04,  8.25277530e-05]]],\n",
       "      dtype=float32)>"
      ]
     },
     "execution_count": 18,
     "metadata": {},
     "output_type": "execute_result"
    }
   ],
   "source": [
    "# 데이터셋에서 데이터 한 배치만 불러오는 방법입니다.\n",
    "# 지금은 동작 원리에 너무 빠져들지 마세요~\n",
    "for src_sample, tgt_sample in dataset.take(1): break\n",
    "\n",
    "# 한 배치만 불러온 데이터를 모델에 넣어봅니다\n",
    "model(src_sample)"
   ]
  },
  {
   "cell_type": "code",
   "execution_count": 19,
   "metadata": {},
   "outputs": [
    {
     "name": "stdout",
     "output_type": "stream",
     "text": [
      "Model: \"text_generator\"\n",
      "_________________________________________________________________\n",
      " Layer (type)                Output Shape              Param #   \n",
      "=================================================================\n",
      " embedding (Embedding)       multiple                  1792256   \n",
      "                                                                 \n",
      " lstm (LSTM)                 multiple                  5246976   \n",
      "                                                                 \n",
      " lstm_1 (LSTM)               multiple                  8392704   \n",
      "                                                                 \n",
      " dense (Dense)               multiple                  7176025   \n",
      "                                                                 \n",
      "=================================================================\n",
      "Total params: 22,607,961\n",
      "Trainable params: 22,607,961\n",
      "Non-trainable params: 0\n",
      "_________________________________________________________________\n"
     ]
    }
   ],
   "source": [
    "model.summary()"
   ]
  },
  {
   "cell_type": "code",
   "execution_count": 20,
   "metadata": {},
   "outputs": [
    {
     "name": "stdout",
     "output_type": "stream",
     "text": [
      "Epoch 1/30\n",
      "686/686 [==============================] - 454s 658ms/step - loss: 2.7139\n",
      "Epoch 2/30\n",
      "686/686 [==============================] - 488s 711ms/step - loss: 2.3384\n",
      "Epoch 3/30\n",
      "686/686 [==============================] - 272s 396ms/step - loss: 2.1966\n",
      "Epoch 4/30\n",
      "686/686 [==============================] - 86s 126ms/step - loss: 2.0910\n",
      "Epoch 5/30\n",
      "686/686 [==============================] - 82s 120ms/step - loss: 2.0007\n",
      "Epoch 6/30\n",
      "686/686 [==============================] - 82s 119ms/step - loss: 1.9184\n",
      "Epoch 7/30\n",
      "686/686 [==============================] - 160s 234ms/step - loss: 1.8414\n",
      "Epoch 8/30\n",
      "686/686 [==============================] - 523s 762ms/step - loss: 1.7682\n",
      "Epoch 9/30\n",
      "686/686 [==============================] - 498s 726ms/step - loss: 1.6979\n",
      "Epoch 10/30\n",
      "686/686 [==============================] - 502s 731ms/step - loss: 1.6292\n",
      "Epoch 11/30\n",
      "686/686 [==============================] - 233s 339ms/step - loss: 1.5628\n",
      "Epoch 12/30\n",
      "686/686 [==============================] - 396s 577ms/step - loss: 1.4984\n",
      "Epoch 13/30\n",
      "686/686 [==============================] - 88s 128ms/step - loss: 1.4353\n",
      "Epoch 14/30\n",
      "686/686 [==============================] - 88s 128ms/step - loss: 1.3746\n",
      "Epoch 15/30\n",
      "686/686 [==============================] - 785s 1s/step - loss: 1.3163\n",
      "Epoch 16/30\n",
      "686/686 [==============================] - 372s 542ms/step - loss: 1.2602\n",
      "Epoch 17/30\n",
      "686/686 [==============================] - 108s 157ms/step - loss: 1.2073\n",
      "Epoch 18/30\n",
      "686/686 [==============================] - 763s 1s/step - loss: 1.1572\n",
      "Epoch 19/30\n",
      "686/686 [==============================] - 499s 727ms/step - loss: 1.1100\n",
      "Epoch 20/30\n",
      "686/686 [==============================] - 465s 677ms/step - loss: 1.0659\n",
      "Epoch 21/30\n",
      "686/686 [==============================] - 694s 1s/step - loss: 1.0252\n",
      "Epoch 22/30\n",
      "686/686 [==============================] - 770s 1s/step - loss: 0.9879\n",
      "Epoch 23/30\n",
      "686/686 [==============================] - 848s 1s/step - loss: 0.9533\n",
      "Epoch 24/30\n",
      "686/686 [==============================] - 773s 1s/step - loss: 0.9215\n",
      "Epoch 25/30\n",
      "686/686 [==============================] - 73s 107ms/step - loss: 0.89295s - loss:  \n",
      "Epoch 26/30\n",
      "686/686 [==============================] - 82s 119ms/step - loss: 0.8664\n",
      "Epoch 27/30\n",
      "686/686 [==============================] - 81s 117ms/step - loss: 0.8428\n",
      "Epoch 28/30\n",
      "686/686 [==============================] - 79s 115ms/step - loss: 0.82130s - loss: 0.82\n",
      "Epoch 29/30\n",
      "686/686 [==============================] - 77s 112ms/step - loss: 0.8021\n",
      "Epoch 30/30\n",
      "686/686 [==============================] - 72s 104ms/step - loss: 0.7850\n"
     ]
    },
    {
     "data": {
      "text/plain": [
       "<keras.callbacks.History at 0x19bfc811760>"
      ]
     },
     "execution_count": 20,
     "metadata": {},
     "output_type": "execute_result"
    }
   ],
   "source": [
    "# optimizer와 loss등은 차차 배웁니다\n",
    "# 혹시 미리 알고 싶다면 아래 문서를 참고하세요\n",
    "# https://www.tensorflow.org/api_docs/python/tf/keras/optimizers\n",
    "# https://www.tensorflow.org/api_docs/python/tf/keras/losses\n",
    "# 양이 상당히 많은 편이니 지금 보는 것은 추천하지 않습니다\n",
    "optimizer = tf.keras.optimizers.Adam()\n",
    "loss = tf.keras.losses.SparseCategoricalCrossentropy(\n",
    "    from_logits=True,\n",
    "    reduction='none'\n",
    ")\n",
    "\n",
    "model.compile(loss=loss, optimizer=optimizer)\n",
    "model.fit(dataset, epochs=30)"
   ]
  },
  {
   "cell_type": "code",
   "execution_count": 31,
   "metadata": {},
   "outputs": [],
   "source": [
    "def generate_text(model, tokenizer, init_sentence=\"<start>\", max_len=200):\n",
    "    # 테스트를 위해서 입력받은 init_sentence도 텐서로 변환합니다\n",
    "    test_input = tokenizer.texts_to_sequences([init_sentence])\n",
    "    test_tensor = tf.convert_to_tensor(test_input, dtype=tf.int64)\n",
    "    end_token = tokenizer.word_index[\"<end>\"]\n",
    "\n",
    "    # 단어 하나씩 예측해 문장을 만듭니다\n",
    "    #    1. 입력받은 문장의 텐서를 입력합니다\n",
    "    #    2. 예측된 값 중 가장 높은 확률인 word index를 뽑아냅니다\n",
    "    #    3. 2에서 예측된 word index를 문장 뒤에 붙입니다\n",
    "    #    4. 모델이 <end>를 예측했거나, max_len에 도달했다면 문장 생성을 마칩니다\n",
    "    while True:\n",
    "        # 1\n",
    "        predict = model(test_tensor) \n",
    "        # 2\n",
    "        predict_word = tf.argmax(tf.nn.softmax(predict, axis=-1), axis=-1)[:, -1] \n",
    "        # 3 \n",
    "        test_tensor = tf.concat([test_tensor, tf.expand_dims(predict_word, axis=0)], axis=-1)\n",
    "        # 4\n",
    "        if predict_word.numpy()[0] == end_token: break\n",
    "        if test_tensor.shape[1] >= max_len: break\n",
    "\n",
    "    generated = \"\"\n",
    "    # tokenizer를 이용해 word index를 단어로 하나씩 변환합니다 \n",
    "    for word_index in test_tensor[0].numpy():\n",
    "        generated += tokenizer.index_word[word_index] + \" \"\n",
    "\n",
    "    return generated"
   ]
  },
  {
   "cell_type": "code",
   "execution_count": 45,
   "metadata": {},
   "outputs": [
    {
     "data": {
      "text/plain": [
       "'<start> how many times i gotta tell that ass to come over ? <end> '"
      ]
     },
     "execution_count": 45,
     "metadata": {},
     "output_type": "execute_result"
    }
   ],
   "source": [
    "generate_text(model, tokenizer, init_sentence=\"<start> how\")"
   ]
  },
  {
   "cell_type": "code",
   "execution_count": null,
   "metadata": {},
   "outputs": [],
   "source": []
  }
 ],
 "metadata": {
  "interpreter": {
   "hash": "6a79ad638c2a33e4c200ee9d03a630086321746eff3c6a16fb4371b088891321"
  },
  "kernelspec": {
   "display_name": "Python 3.9.7 64-bit ('base': conda)",
   "language": "python",
   "name": "python3"
  },
  "language_info": {
   "codemirror_mode": {
    "name": "ipython",
    "version": 3
   },
   "file_extension": ".py",
   "mimetype": "text/x-python",
   "name": "python",
   "nbconvert_exporter": "python",
   "pygments_lexer": "ipython3",
   "version": "3.9.7"
  },
  "orig_nbformat": 4
 },
 "nbformat": 4,
 "nbformat_minor": 2
}
