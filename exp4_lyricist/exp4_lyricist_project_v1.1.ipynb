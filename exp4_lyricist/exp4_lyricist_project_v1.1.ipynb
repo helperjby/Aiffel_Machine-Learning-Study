{
 "cells": [
  {
   "cell_type": "markdown",
   "metadata": {},
   "source": [
    "## exp4. 인공지능으로 작사하기\n",
    "\n",
    "커널정보 = base(python. 3.9.7)"
   ]
  },
  {
   "cell_type": "markdown",
   "metadata": {},
   "source": [
    "### 0. 루브릭\n",
    "***\n",
    "\n",
    "|**평가문항**|**상세기준**|\n",
    "|------------|-------------|\n",
    "|1. 가사 텍스트 생성 모델이 정상적으로 동작하는가?|텍스트 제너레이션 결과가 그럴듯한 문장으로 생성되는가?|\n",
    "|2. 데이터의 전처리와 데이터셋 구성 과정이 체계적으로 진행되었는가?|특수문자 제거, 토크나이저 생성, 패딩처리 등의 과정이 빠짐없이 진행되었는가?|\n",
    "|3. 텍스트 생성모델이 안정적으로 학습되었는가?|텍스트 생성모델의 validation loss가 2.2 이하로 낮아졌는가?|"
   ]
  },
  {
   "cell_type": "markdown",
   "metadata": {},
   "source": [
    "### 1. 데이터 읽어오기"
   ]
  },
  {
   "cell_type": "code",
   "execution_count": 60,
   "metadata": {},
   "outputs": [
    {
     "name": "stdout",
     "output_type": "stream",
     "text": [
      "데이터 크기: 187088\n",
      "Examples:\n",
      " ['Looking for some education', 'Made my way into the night', 'All that bullshit conversation']\n"
     ]
    }
   ],
   "source": [
    "import re    \n",
    "import glob\n",
    "import numpy as np         \n",
    "import tensorflow as tf   \n",
    "\n",
    "txt_file_path = 'C:/project/aiffel_exp/exp4_lyricist/song_lyrics/*.txt'\n",
    "\n",
    "txt_list = glob.glob(txt_file_path)\n",
    "\n",
    "raw_corpus = []\n",
    "\n",
    "# 여러개의 txt 파일을 모두 읽어서 raw_corpus 에 담습니다.\n",
    "for txt_file in txt_list:\n",
    "    with open(txt_file, \"r\", encoding=\"UTF-8\") as f:\n",
    "        raw = f.read().splitlines() # 코드를 그대로 사용하니 unicodedecodeerror 발생하여 인코딩 추가\n",
    "        raw_corpus.extend(raw)\n",
    "\n",
    "print(\"데이터 크기:\", len(raw_corpus))\n",
    "print(\"Examples:/n\", raw_corpus[:3])"
   ]
  },
  {
   "cell_type": "markdown",
   "metadata": {},
   "source": [
    "### 2. 데이터 정제"
   ]
  },
  {
   "cell_type": "code",
   "execution_count": 61,
   "metadata": {},
   "outputs": [
    {
     "name": "stdout",
     "output_type": "stream",
     "text": [
      "Looking for some education\n",
      "Made my way into the night\n",
      "All that bullshit conversation\n",
      "Baby, can't you read the signs? I won't bore you with the details, baby\n",
      "I don't even wanna waste your time\n",
      "Let's just say that maybe\n",
      "You could help me ease my mind\n",
      "I ain't Mr. Right But if you're looking for fast love\n",
      "If that's love in your eyes\n",
      "It's more than enough\n"
     ]
    }
   ],
   "source": [
    "for idx, sentence in enumerate(raw_corpus):\n",
    "    if len(sentence) == 0: continue   # 길이가 0인 문장은 건너뜁니다.\n",
    "\n",
    "    if idx > 9: break   # 일단 문장 10개만 확인해 볼 겁니다.\n",
    "        \n",
    "    print(sentence)"
   ]
  },
  {
   "cell_type": "markdown",
   "metadata": {},
   "source": [
    "#### 2.1 문장 전처리"
   ]
  },
  {
   "cell_type": "code",
   "execution_count": 62,
   "metadata": {},
   "outputs": [
    {
     "name": "stdout",
     "output_type": "stream",
     "text": [
      "<start> this is sample sentence . <end>\n"
     ]
    }
   ],
   "source": [
    "# 입력된 문장을\n",
    "def preprocess_sentence(sentence):\n",
    "    sentence = sentence.lower().strip() # 1. 소문자로 바꾸고, 양쪽 공백을 지웁니다\n",
    "    sentence = re.sub(r\"([?.!,¿])\", r\" /1 \", sentence) # 2. 특수문자 양쪽에 공백을 넣고\n",
    "    sentence = re.sub(r'[\" \"]+', \" \", sentence) # 3. 여러개의 공백은 하나의 공백으로 바꿉니다\n",
    "    sentence = re.sub(r\"[^a-zA-Z?.!,¿]+\", \" \", sentence) # 4 a-zA-Z?.!,¿가 아닌 모든 문자를 하나의 공백으로 바꿉니다\n",
    "    sentence = sentence.strip() # 5. 다시 양쪽 공백을 지웁니다\n",
    "    sentence = '<start> ' + sentence + ' <end>' # 6. 문장 시작에는 <start>, 끝에는 <end>를 추가합니다\n",
    "    return sentence\n",
    "\n",
    "# 이 문장이 어떻게 필터링되는지 확인해 보세요.\n",
    "print(preprocess_sentence(\"This @_is ;;;sample        sentence.\"))"
   ]
  },
  {
   "cell_type": "code",
   "execution_count": 63,
   "metadata": {},
   "outputs": [
    {
     "data": {
      "text/plain": [
       "['<start> looking for some education <end>',\n",
       " '<start> made my way into the night <end>',\n",
       " '<start> all that bullshit conversation <end>',\n",
       " '<start> baby , can t you read the signs ? i won t bore you with the details , baby <end>',\n",
       " '<start> i don t even wanna waste your time <end>',\n",
       " '<start> let s just say that maybe <end>',\n",
       " '<start> you could help me ease my mind <end>',\n",
       " '<start> i ain t mr . right but if you re looking for fast love <end>',\n",
       " '<start> if that s love in your eyes <end>',\n",
       " '<start> it s more than enough <end>']"
      ]
     },
     "execution_count": 63,
     "metadata": {},
     "output_type": "execute_result"
    }
   ],
   "source": [
    "corpus = []\n",
    "\n",
    "for sentence in raw_corpus:\n",
    "    if len(sentence) == 0: continue\n",
    "    if sentence[-1] == \":\": continue\n",
    "        \n",
    "    corpus.append(preprocess_sentence(sentence))\n",
    "        \n",
    "corpus[:10]"
   ]
  },
  {
   "cell_type": "markdown",
   "metadata": {},
   "source": [
    "#### 2.2 데이터 토큰화"
   ]
  },
  {
   "cell_type": "code",
   "execution_count": 64,
   "metadata": {},
   "outputs": [
    {
     "name": "stdout",
     "output_type": "stream",
     "text": [
      "[[  2 304  28 ...   0   0   0]\n",
      " [  2 221  13 ...   0   0   0]\n",
      " [  2  24  17 ...   0   0   0]\n",
      " ...\n",
      " [  2  23  77 ...   0   0   0]\n",
      " [  2  42  26 ...   0   0   0]\n",
      " [  2  23  77 ...   0   0   0]] <keras_preprocessing.text.Tokenizer object at 0x000001ED4FF7DD30>\n"
     ]
    }
   ],
   "source": [
    "def tokenize(corpus):\n",
    "    # 텐서플로우에서 제공하는 Tokenizer 패키지를 생성\n",
    "    tokenizer = tf.keras.preprocessing.text.Tokenizer(\n",
    "        num_words=7000,  # 전체 단어의 개수 \n",
    "        filters=' ',    # 별도로 전처리 로직을 추가할 수 있습니다. 이번에는 사용하지 않겠습니다.\n",
    "        oov_token=\"<unk>\"  # out-of-vocabulary, 사전에 없었던 단어는 어떤 토큰으로 대체할지\n",
    "    )\n",
    "    tokenizer.fit_on_texts(corpus) # corpus를 이용해 tokenizer 내부의 단어장을 완성합니다\n",
    "\n",
    "    # 이후 tokenizer를 활용하여 모델에 입력할 데이터셋을 구축하게 됩니다.\n",
    "    tensor = tokenizer.texts_to_sequences(corpus)   # tokenizer는 구축한 사전으로부터 corpus를 해석해 Tensor로 변환합니다.\n",
    "\t\n",
    "    total_data_text = list(tensor)\n",
    "    num_tokens = [len(tokens) for tokens in total_data_text]\n",
    "    max_tokens = np.mean(num_tokens) + 2 * np.std(num_tokens)\n",
    "    maxlen = int(max_tokens)\n",
    "    # 입력 데이터의 시퀀스 길이를 일정하게 맞추기 위한 padding  메소드를 제공합니다.\n",
    "    # maxlen의 디폴트값은 None입니다. 이 경우 corpus의 가장 긴 문장을 기준으로 시퀀스 길이가 맞춰집니다.\n",
    "    tensor = tf.keras.preprocessing.sequence.pad_sequences(tensor, \n",
    "                                                           padding='post',\n",
    "                                                           maxlen=maxlen)  \n",
    "\n",
    "    print(tensor,tokenizer)\n",
    "    return tensor, tokenizer\n",
    "\n",
    "tensor, tokenizer = tokenize(corpus)"
   ]
  },
  {
   "cell_type": "code",
   "execution_count": 65,
   "metadata": {},
   "outputs": [
    {
     "name": "stdout",
     "output_type": "stream",
     "text": [
      "1 : <unk>\n",
      "2 : <start>\n",
      "3 : <end>\n",
      "4 : ,\n",
      "5 : i\n",
      "6 : the\n",
      "7 : you\n",
      "8 : and\n",
      "9 : a\n",
      "10 : to\n"
     ]
    }
   ],
   "source": [
    "for idx in tokenizer.index_word:\n",
    "    print(idx, \":\", tokenizer.index_word[idx])\n",
    "\n",
    "    if idx >= 10: break"
   ]
  },
  {
   "cell_type": "code",
   "execution_count": 66,
   "metadata": {},
   "outputs": [
    {
     "name": "stdout",
     "output_type": "stream",
     "text": [
      "[   2  304   28   99 4811    3    0    0    0    0    0    0    0    0\n",
      "    0    0    0    0    0]\n",
      "[ 304   28   99 4811    3    0    0    0    0    0    0    0    0    0\n",
      "    0    0    0    0    0]\n"
     ]
    }
   ],
   "source": [
    "src_input = tensor[:, :-1]  # tensor에서 마지막 토큰을 잘라내서 소스 문장을 생성합니다. 마지막 토큰은 <END>가 아니라 <pad>일 가능성이 높습니다.\n",
    "tgt_input = tensor[:, 1:]    # tensor에서 <START>를 잘라내서 타겟 문장을 생성합니다.\n",
    "\n",
    "print(src_input[0])\n",
    "print(tgt_input[0])"
   ]
  },
  {
   "cell_type": "markdown",
   "metadata": {},
   "source": [
    "### 3. 평가 데이터셋 분리"
   ]
  },
  {
   "cell_type": "code",
   "execution_count": 67,
   "metadata": {},
   "outputs": [],
   "source": [
    "from sklearn.model_selection import train_test_split\n",
    "x_train, x_val, y_train, y_val = train_test_split(src_input, \n",
    "                                                  tgt_input, \n",
    "                                                  test_size=0.2,\n",
    "                                                  shuffle=True, \n",
    "                                                  random_state=28)"
   ]
  },
  {
   "cell_type": "code",
   "execution_count": 68,
   "metadata": {},
   "outputs": [
    {
     "name": "stdout",
     "output_type": "stream",
     "text": [
      "Source Train:  (140599, 19)\n",
      "Target Train:  (140599, 19)\n"
     ]
    }
   ],
   "source": [
    "print('Source Train: ', x_train.shape)\n",
    "print('Target Train: ', y_train.shape)"
   ]
  },
  {
   "cell_type": "code",
   "execution_count": 69,
   "metadata": {},
   "outputs": [],
   "source": [
    "def plot_curve(epochs, hist, list_of_metrics):\n",
    "    \n",
    "    fig, ax = plt.subplots(1,2,figsize = (12, 8))\n",
    "    \n",
    "    for i in range(len(ax)):\n",
    "        ax[i].set_xlabel('Epochs')\n",
    "        ax[i].set_ylabel('Value')\n",
    "        \n",
    "        for n in range(len(list_of_metrics)):\n",
    "            if i == 0:\n",
    "                y = hist[list_of_metrics[n]]\n",
    "                if n == 0:\n",
    "                    ax[i].plot(epochs, y, label=\"train\")\n",
    "                else:\n",
    "                    ax[i].plot(epochs, y, label=\"val\")\n",
    "                ax[i].set_title('Loss')\n",
    "                ax[i].legend(loc='upper right')\n",
    "                if n == 1:\n",
    "                    break\n",
    "            else:\n",
    "                if n >= 2:\n",
    "                    y = hist[list_of_metrics[n]]\n",
    "                    if n == 2:\n",
    "                        ax[i].plot(epochs, y, label=\"train\")\n",
    "                    else:\n",
    "                        ax[i].plot(epochs, y, label=\"val\")\n",
    "                    ax[i].set_title('Accuracy')\n",
    "                    ax[i].legend(loc='lower right')\n",
    "                    \n",
    "    plt.show()"
   ]
  },
  {
   "cell_type": "markdown",
   "metadata": {},
   "source": [
    "### 4. 인공지능 모델 만들기"
   ]
  },
  {
   "cell_type": "code",
   "execution_count": 70,
   "metadata": {},
   "outputs": [],
   "source": [
    "'''\n",
    "tk.keras.Model을 Subclassing 하는 방식\n",
    "1개의 Embedding 레이어, 2개의 LSTM 레이어, 1개의 Dense 레이어 구성\n",
    "Embedding 레이어는 단어 사전 인덱스 값을 해당 인덱스 번째의 워드 벡터로 바꿔줌. \n",
    "이 워드 벡터는 의미 벡터 공간에서 단어의 추상적 표현(representation)으로 사용됨\n",
    "\n",
    "embedding_size는 워드 벡터의 차원수, 단어가 추상적으로 표현되는 크기.\n",
    "값이 커질수록 단어의 추상적인 특징을 잘 잡아내지만, 충분한 데이터가 없다면 오히려 성능이 나빠진다\n",
    "\n",
    "LSTM레이어의 hidden_size도 같은 맥락\n",
    "'''\n",
    "class TextGenerator(tf.keras.Model):\n",
    "    def __init__(self, vocab_size, embedding_size, hidden_size):\n",
    "        super().__init__()\n",
    "        \n",
    "        self.embedding = tf.keras.layers.Embedding(vocab_size, embedding_size)\n",
    "        self.rnn_1 = tf.keras.layers.LSTM(hidden_size, return_sequences=True)\n",
    "        self.rnn_2 = tf.keras.layers.LSTM(hidden_size, return_sequences=True)\n",
    "        self.linear = tf.keras.layers.Dense(vocab_size)\n",
    "        \n",
    "    def call(self, x):\n",
    "        out = self.embedding(x)\n",
    "        out = self.rnn_1(out)\n",
    "        out = self.rnn_2(out)\n",
    "        out = self.linear(out)\n",
    "        \n",
    "        return out\n",
    "    \n",
    "embedding_size = 128\n",
    "hidden_size = 1024\n",
    "model = TextGenerator(tokenizer.num_words + 1, embedding_size , hidden_size)"
   ]
  },
  {
   "cell_type": "code",
   "execution_count": 72,
   "metadata": {},
   "outputs": [
    {
     "data": {
      "text/plain": [
       "<tf.Tensor: shape=(256, 19, 7001), dtype=float32, numpy=\n",
       "array([[[ 2.40984118e-05, -1.07947213e-04, -1.03680264e-04, ...,\n",
       "          2.66595521e-07, -1.04283645e-04,  2.41109701e-05],\n",
       "        [ 1.79955750e-04,  2.08718066e-05,  8.62319357e-05, ...,\n",
       "          1.88446080e-04,  5.38512868e-05, -1.07840009e-04],\n",
       "        [ 6.90610905e-05,  2.27180368e-04,  4.73558321e-04, ...,\n",
       "          1.90554289e-04,  3.54801705e-05, -4.24237718e-04],\n",
       "        ...,\n",
       "        [ 1.74816453e-03, -1.40232535e-03,  6.48529269e-04, ...,\n",
       "         -1.10207824e-03, -2.23955652e-03, -1.34260650e-03],\n",
       "        [ 1.81755284e-03, -1.47206022e-03,  6.70320704e-04, ...,\n",
       "         -1.09431718e-03, -2.28799763e-03, -1.27019361e-03],\n",
       "        [ 1.87198201e-03, -1.52461650e-03,  6.87184220e-04, ...,\n",
       "         -1.07834034e-03, -2.32337974e-03, -1.20212149e-03]],\n",
       "\n",
       "       [[ 2.40984118e-05, -1.07947213e-04, -1.03680264e-04, ...,\n",
       "          2.66595521e-07, -1.04283645e-04,  2.41109701e-05],\n",
       "        [ 1.44515770e-05, -6.57005221e-05,  9.63638377e-05, ...,\n",
       "          6.58129502e-05, -3.94892530e-04, -1.53921937e-04],\n",
       "        [ 5.81052263e-05,  4.68078470e-05,  2.19002133e-04, ...,\n",
       "          2.32627557e-04, -3.97394906e-04, -4.57140617e-04],\n",
       "        ...,\n",
       "        [ 7.49742103e-05,  4.34424546e-05,  4.18617594e-04, ...,\n",
       "          8.83431756e-04,  2.48895412e-05, -1.24632835e-03],\n",
       "        [ 3.56373115e-04, -2.41519083e-04,  4.05378960e-04, ...,\n",
       "          5.94273210e-04, -2.64247297e-04, -1.29889708e-03],\n",
       "        [ 6.18133170e-04, -5.10515005e-04,  4.10237786e-04, ...,\n",
       "          3.15889280e-04, -5.38548746e-04, -1.32543733e-03]],\n",
       "\n",
       "       [[ 2.40984118e-05, -1.07947213e-04, -1.03680264e-04, ...,\n",
       "          2.66595521e-07, -1.04283645e-04,  2.41109701e-05],\n",
       "        [ 2.57805863e-04, -5.45659161e-04, -1.54211331e-04, ...,\n",
       "         -5.39572284e-05, -2.81031826e-04,  8.51951154e-06],\n",
       "        [ 7.05710961e-04, -7.11899425e-04,  1.16351919e-04, ...,\n",
       "         -7.80989285e-05, -3.80681624e-04, -3.38523605e-05],\n",
       "        ...,\n",
       "        [ 2.05305312e-03, -1.61229994e-03,  6.37717079e-04, ...,\n",
       "         -9.56783944e-04, -1.86350301e-03, -9.95150534e-04],\n",
       "        [ 2.06927396e-03, -1.65519502e-03,  6.53611263e-04, ...,\n",
       "         -9.86142782e-04, -1.96354091e-03, -9.95561597e-04],\n",
       "        [ 2.07651337e-03, -1.68593833e-03,  6.65930391e-04, ...,\n",
       "         -1.00109249e-03, -2.04620743e-03, -9.89184715e-04]],\n",
       "\n",
       "       ...,\n",
       "\n",
       "       [[ 2.40984118e-05, -1.07947213e-04, -1.03680264e-04, ...,\n",
       "          2.66595521e-07, -1.04283645e-04,  2.41109701e-05],\n",
       "        [ 1.86804260e-04, -1.53023517e-04, -3.55426391e-06, ...,\n",
       "         -1.00657060e-04, -2.64538248e-04, -1.74589222e-04],\n",
       "        [ 4.53353772e-04, -1.36769391e-04,  2.82594934e-04, ...,\n",
       "         -1.39961587e-04, -3.51167371e-04, -6.06442394e-04],\n",
       "        ...,\n",
       "        [-7.36372249e-06,  2.33935556e-04,  2.66671964e-06, ...,\n",
       "         -3.09011521e-05,  7.23845442e-04,  5.26616095e-05],\n",
       "        [ 3.31229006e-04, -1.19482072e-04, -1.42086705e-04, ...,\n",
       "         -8.63176465e-05,  6.63842948e-04, -4.42763849e-05],\n",
       "        [ 6.40968792e-04, -4.42293647e-04, -2.30656166e-04, ...,\n",
       "         -2.59202614e-04,  4.63389122e-04, -2.16580302e-04]],\n",
       "\n",
       "       [[ 2.40984118e-05, -1.07947213e-04, -1.03680264e-04, ...,\n",
       "          2.66595521e-07, -1.04283645e-04,  2.41109701e-05],\n",
       "        [-1.29617983e-04, -1.49726096e-04, -1.76160451e-04, ...,\n",
       "          8.45162067e-05, -6.15326571e-05, -2.37989647e-04],\n",
       "        [-2.45655683e-04, -1.88492180e-04, -2.26752909e-05, ...,\n",
       "          2.37438959e-04, -4.19305525e-06, -3.97804019e-04],\n",
       "        ...,\n",
       "        [ 1.74593728e-03, -1.55589334e-03,  5.18089626e-04, ...,\n",
       "         -8.27912765e-04, -1.91157486e-03, -1.09488249e-03],\n",
       "        [ 1.79049198e-03, -1.60254480e-03,  5.38421969e-04, ...,\n",
       "         -8.64612637e-04, -2.00954778e-03, -1.08021987e-03],\n",
       "        [ 1.82342029e-03, -1.63713458e-03,  5.56087703e-04, ...,\n",
       "         -8.83784960e-04, -2.09107087e-03, -1.06150808e-03]],\n",
       "\n",
       "       [[ 2.40984118e-05, -1.07947213e-04, -1.03680264e-04, ...,\n",
       "          2.66595521e-07, -1.04283645e-04,  2.41109701e-05],\n",
       "        [ 1.33893482e-04, -2.45170289e-04, -3.56542732e-04, ...,\n",
       "          1.38485746e-04,  8.73084937e-05,  1.31313849e-04],\n",
       "        [ 2.76041683e-04, -2.58496002e-04, -4.64789016e-04, ...,\n",
       "          3.28202994e-04,  3.02538974e-04, -3.97224685e-05],\n",
       "        ...,\n",
       "        [ 2.01792782e-03, -1.79114530e-03,  6.88208325e-04, ...,\n",
       "         -9.59100958e-04, -2.20165215e-03, -1.31961156e-03],\n",
       "        [ 2.07035430e-03, -1.82773208e-03,  7.14018010e-04, ...,\n",
       "         -1.02621166e-03, -2.28703651e-03, -1.29953120e-03],\n",
       "        [ 2.09819991e-03, -1.85221690e-03,  7.38089497e-04, ...,\n",
       "         -1.06799474e-03, -2.35160766e-03, -1.26551976e-03]]],\n",
       "      dtype=float32)>"
      ]
     },
     "execution_count": 72,
     "metadata": {},
     "output_type": "execute_result"
    }
   ],
   "source": [
    "for src_sample, tgt_sample in dataset.take(1): break\n",
    "\n",
    "# 한 배치만 불러온 데이터를 모델에 넣어봅니다\n",
    "model(src_sample)"
   ]
  },
  {
   "cell_type": "code",
   "execution_count": 73,
   "metadata": {},
   "outputs": [
    {
     "name": "stdout",
     "output_type": "stream",
     "text": [
      "Model: \"text_generator_3\"\n",
      "_________________________________________________________________\n",
      " Layer (type)                Output Shape              Param #   \n",
      "=================================================================\n",
      " embedding_3 (Embedding)     multiple                  896128    \n",
      "                                                                 \n",
      " lstm_6 (LSTM)               multiple                  4722688   \n",
      "                                                                 \n",
      " lstm_7 (LSTM)               multiple                  8392704   \n",
      "                                                                 \n",
      " dense_3 (Dense)             multiple                  7176025   \n",
      "                                                                 \n",
      "=================================================================\n",
      "Total params: 21,187,545\n",
      "Trainable params: 21,187,545\n",
      "Non-trainable params: 0\n",
      "_________________________________________________________________\n"
     ]
    }
   ],
   "source": [
    "model.summary()"
   ]
  },
  {
   "cell_type": "code",
   "execution_count": 74,
   "metadata": {},
   "outputs": [
    {
     "name": "stdout",
     "output_type": "stream",
     "text": [
      "Epoch 1/10\n",
      "550/550 [==============================] - 73s 128ms/step - loss: 2.8574 - val_loss: 2.5750\n",
      "Epoch 2/10\n",
      "550/550 [==============================] - 77s 141ms/step - loss: 2.4606 - val_loss: 2.4109\n",
      "Epoch 3/10\n",
      "550/550 [==============================] - 81s 147ms/step - loss: 2.3239 - val_loss: 2.3045\n",
      "Epoch 4/10\n",
      "550/550 [==============================] - 81s 148ms/step - loss: 2.2219 - val_loss: 2.2361\n",
      "Epoch 5/10\n",
      "550/550 [==============================] - 80s 145ms/step - loss: 2.1436 - val_loss: 2.1824\n",
      "Epoch 6/10\n",
      "550/550 [==============================] - 81s 147ms/step - loss: 2.0760 - val_loss: 2.1430\n",
      "Epoch 7/10\n",
      "550/550 [==============================] - 82s 149ms/step - loss: 2.0152 - val_loss: 2.1045\n",
      "Epoch 8/10\n",
      "550/550 [==============================] - 73s 133ms/step - loss: 1.9578 - val_loss: 2.0751\n",
      "Epoch 9/10\n",
      "550/550 [==============================] - 71s 129ms/step - loss: 1.9036 - val_loss: 2.0479\n",
      "Epoch 10/10\n",
      "550/550 [==============================] - 71s 129ms/step - loss: 1.8503 - val_loss: 2.0250\n"
     ]
    }
   ],
   "source": [
    "history = []\n",
    "epochs = 10\n",
    "\n",
    "optimizer = tf.keras.optimizers.Adam()\n",
    "loss = tf.keras.losses.SparseCategoricalCrossentropy(\n",
    "    from_logits=True,\n",
    "    reduction='none'\n",
    ")\n",
    "\n",
    "model.compile(loss=loss, optimizer=optimizer)\n",
    "\n",
    "history = model.fit(x_train, \n",
    "                    y_train, \n",
    "                    epochs=epochs,\n",
    "                    batch_size=256,\n",
    "                    validation_data=(x_val, y_val),\n",
    "                    verbose=1)"
   ]
  },
  {
   "cell_type": "markdown",
   "metadata": {},
   "source": [
    "에포크를 30회 줬을 때 3시간정도 소요되어 10회로 수정했으나  \n",
    "valid loss가 계속 감소하여, valid loss가 증가하는 지점을 찾기위해 에포크를 좀 더 늘리고 다시 학습하였다"
   ]
  },
  {
   "cell_type": "code",
   "execution_count": 75,
   "metadata": {},
   "outputs": [
    {
     "name": "stdout",
     "output_type": "stream",
     "text": [
      "Epoch 1/20\n",
      "550/550 [==============================] - 84s 149ms/step - loss: 1.8276 - val_loss: 2.0254\n",
      "Epoch 2/20\n",
      "550/550 [==============================] - 82s 149ms/step - loss: 1.7513 - val_loss: 2.0093\n",
      "Epoch 3/20\n",
      "550/550 [==============================] - 81s 148ms/step - loss: 1.6975 - val_loss: 1.9953\n",
      "Epoch 4/20\n",
      "550/550 [==============================] - 85s 154ms/step - loss: 1.6465 - val_loss: 1.9857\n",
      "Epoch 5/20\n",
      "550/550 [==============================] - 83s 150ms/step - loss: 1.5963 - val_loss: 1.9741\n",
      "Epoch 6/20\n",
      "550/550 [==============================] - 72s 131ms/step - loss: 1.5470 - val_loss: 1.9660\n",
      "Epoch 7/20\n",
      "550/550 [==============================] - 80s 145ms/step - loss: 1.4991 - val_loss: 1.9595\n",
      "Epoch 8/20\n",
      "550/550 [==============================] - 72s 130ms/step - loss: 1.4520 - val_loss: 1.9553\n",
      "Epoch 9/20\n",
      "550/550 [==============================] - 81s 148ms/step - loss: 1.4054 - val_loss: 1.9527\n",
      "Epoch 10/20\n",
      "550/550 [==============================] - 81s 147ms/step - loss: 1.3600 - val_loss: 1.9494\n",
      "Epoch 11/20\n",
      "550/550 [==============================] - 82s 149ms/step - loss: 1.3153 - val_loss: 1.9497\n",
      "Epoch 12/20\n",
      "550/550 [==============================] - 71s 130ms/step - loss: 1.2720 - val_loss: 1.9503\n",
      "Epoch 13/20\n",
      "550/550 [==============================] - 70s 127ms/step - loss: 1.2299 - val_loss: 1.9511\n",
      "Epoch 14/20\n",
      "550/550 [==============================] - 69s 126ms/step - loss: 1.1890 - val_loss: 1.9538\n",
      "Epoch 15/20\n",
      "550/550 [==============================] - 70s 127ms/step - loss: 1.1497 - val_loss: 1.9595\n",
      "Epoch 16/20\n",
      "550/550 [==============================] - 67s 122ms/step - loss: 1.1118 - val_loss: 1.9679\n",
      "Epoch 17/20\n",
      "550/550 [==============================] - 74s 135ms/step - loss: 1.0762 - val_loss: 1.9740\n",
      "Epoch 18/20\n",
      "550/550 [==============================] - 75s 136ms/step - loss: 1.0419 - val_loss: 1.9810\n",
      "Epoch 19/20\n",
      "550/550 [==============================] - 76s 137ms/step - loss: 1.0097 - val_loss: 1.9955\n",
      "Epoch 20/20\n",
      "550/550 [==============================] - 73s 132ms/step - loss: 0.9791 - val_loss: 1.9967\n"
     ]
    }
   ],
   "source": [
    "history = []\n",
    "epochs = 20\n",
    "\n",
    "optimizer = tf.keras.optimizers.Adam()\n",
    "loss = tf.keras.losses.SparseCategoricalCrossentropy(\n",
    "    from_logits=True,\n",
    "    reduction='none'\n",
    ")\n",
    "\n",
    "model.compile(loss=loss, optimizer=optimizer)\n",
    "\n",
    "history = model.fit(x_train, \n",
    "                    y_train, \n",
    "                    epochs=epochs,\n",
    "                    batch_size=256,\n",
    "                    validation_data=(x_val, y_val),\n",
    "                    verbose=1)"
   ]
  },
  {
   "cell_type": "code",
   "execution_count": 76,
   "metadata": {},
   "outputs": [
    {
     "data": {
      "image/png": "[encoded data removed]",
      "text/plain": [
       "<Figure size 864x576 with 2 Axes>"
      ]
     },
     "metadata": {
      "needs_background": "light"
     },
     "output_type": "display_data"
    }
   ],
   "source": [
    "plot_curve(history.epoch, history.history, ['loss', 'val_loss'])"
   ]
  },
  {
   "cell_type": "markdown",
   "metadata": {},
   "source": [
    "epoch를 20회로 주자 valid loss의 최적점을 찾았다.\n",
    "train loss는 epoch 회차가 갈수록 점차 감소하여 과적합을 보여준다.\n",
    "\n",
    "`embedding_size = 128`  \n",
    "`hidden_size = 1024`\n",
    "\n",
    "위의 세팅에서는 epoch 10회가 최적으로 보인다."
   ]
  },
  {
   "cell_type": "markdown",
   "metadata": {},
   "source": [
    "### 5. 모델 평가하기"
   ]
  },
  {
   "cell_type": "code",
   "execution_count": 77,
   "metadata": {},
   "outputs": [],
   "source": [
    "def generate_text(model, tokenizer, init_sentence=\"<start>\", max_len=200):\n",
    "    # 테스트를 위해서 입력받은 init_sentence도 텐서로 변환합니다\n",
    "    test_input = tokenizer.texts_to_sequences([init_sentence])\n",
    "    test_tensor = tf.convert_to_tensor(test_input, dtype=tf.int64)\n",
    "    end_token = tokenizer.word_index[\"<end>\"]\n",
    "\n",
    "    # 단어 하나씩 예측해 문장을 만듭니다\n",
    "    #    1. 입력받은 문장의 텐서를 입력합니다\n",
    "    #    2. 예측된 값 중 가장 높은 확률인 word index를 뽑아냅니다\n",
    "    #    3. 2에서 예측된 word index를 문장 뒤에 붙입니다\n",
    "    #    4. 모델이 <end>를 예측했거나, max_len에 도달했다면 문장 생성을 마칩니다\n",
    "    while True:\n",
    "        # 1\n",
    "        predict = model(test_tensor) \n",
    "        # 2\n",
    "        predict_word = tf.argmax(tf.nn.softmax(predict, axis=-1), axis=-1)[:, -1] \n",
    "        # 3 \n",
    "        test_tensor = tf.concat([test_tensor, tf.expand_dims(predict_word, axis=0)], axis=-1)\n",
    "        # 4\n",
    "        if predict_word.numpy()[0] == end_token: break\n",
    "        if test_tensor.shape[1] >= max_len: break\n",
    "\n",
    "    generated = \"\"\n",
    "    # tokenizer를 이용해 word index를 단어로 하나씩 변환합니다 \n",
    "    for word_index in test_tensor[0].numpy():\n",
    "        generated += tokenizer.index_word[word_index] + \" \"\n",
    "\n",
    "    return generated"
   ]
  },
  {
   "cell_type": "code",
   "execution_count": 78,
   "metadata": {},
   "outputs": [
    {
     "data": {
      "text/plain": [
       "'<start> how many times i gotta tell that ass to come over ? <end> '"
      ]
     },
     "execution_count": 78,
     "metadata": {},
     "output_type": "execute_result"
    }
   ],
   "source": [
    "generate_text(model, tokenizer, init_sentence=\"<start> how\")"
   ]
  },
  {
   "cell_type": "code",
   "execution_count": 89,
   "metadata": {},
   "outputs": [
    {
     "data": {
      "text/plain": [
       "'<start> why do you love me <end> '"
      ]
     },
     "execution_count": 89,
     "metadata": {},
     "output_type": "execute_result"
    }
   ],
   "source": [
    "generate_text(model, tokenizer, init_sentence=\"<start> why\")"
   ]
  },
  {
   "cell_type": "markdown",
   "metadata": {},
   "source": [
    "성공적인지는 모르겠으나 어색함없는 문장이 출력된다."
   ]
  },
  {
   "cell_type": "markdown",
   "metadata": {},
   "source": [
    "#### 6. 느낀점"
   ]
  },
  {
   "cell_type": "markdown",
   "metadata": {},
   "source": [
    "1. epoch 횟수의 조절은 과적합을 해결하는 직접적인 수단이기 보단 train loss와 valid loss의 증감 추세를 확인하는데 적합하다고 느꼈다.\n",
    "\n",
    "2. 1의 이유로 다양한 `epoch`와 `embedding_size`, `hidden_size` 조절을 시도하여 정확도를 높여보고 싶었으나 이번 exp는 한번 모델을 fit하는데 엄청난 시간이 필요하여 시도하지 못한게 좀 아쉽다.\n",
    "\n",
    "3. node에서 배운 `tf.data.Dataset`을 활용한 평가 데이터 셋 분리를 수행하지 못해 아쉽다. 아무생각없이 따라했다가 valid data가 없는걸 깨달고 처음부터 다시 했다. `tf.data.Dataset`로 train / valid / test 세가지 분류 하는 방법을 찾지 못해 결국 `train_test_split`으로 진행했다.\n",
    "\n",
    "4. rnn의 개념과 텍스트 데이터를 전처리하는 과정을 배우고 직접 해보면서 재밌었다. 특히 전처리 과정은 과거에 고객데이터를 피벗을 돌리기위해 고민하고 고생했던 기억이 떠올라 여러 감정이 들었다."
   ]
  }
 ],
 "metadata": {
  "interpreter": {
   "hash": "6a79ad638c2a33e4c200ee9d03a630086321746eff3c6a16fb4371b088891321"
  },
  "kernelspec": {
   "display_name": "Python 3.9.7 64-bit ('base': conda)",
   "language": "python",
   "name": "python3"
  },
  "language_info": {
   "codemirror_mode": {
    "name": "ipython",
    "version": 3
   },
   "file_extension": ".py",
   "mimetype": "text/x-python",
   "name": "python",
   "nbconvert_exporter": "python",
   "pygments_lexer": "ipython3",
   "version": "3.9.7"
  },
  "orig_nbformat": 4
 },
 "nbformat": 4,
 "nbformat_minor": 2
}
