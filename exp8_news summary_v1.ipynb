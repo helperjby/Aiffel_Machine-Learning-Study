{
 "cells": [
  {
   "cell_type": "markdown",
   "metadata": {},
   "source": [
    "# exp8. News headlines"
   ]
  },
  {
   "cell_type": "markdown",
   "metadata": {},
   "source": [
    "## 0. 들어가며"
   ]
  },
  {
   "cell_type": "markdown",
   "metadata": {},
   "source": [
    "### 0.1 프로젝트 목표\n",
    "***\n",
    "뉴스 원문과 헤드라인이 있는 데이터셋을 이용해 원문으로부터 헤드라인을 추출하는 모델을 설계하고, 두 가지 기법을 비교한다.\n",
    "\n",
    "* Extractive/Abstractive summarization 이해하기\n",
    "* 단어장 크기를 줄이는 다양한 text normalization 적용해보기\n",
    "* seq2seq의 성능을 Up시키는 Attention Mechanism 적용하기"
   ]
  },
  {
   "cell_type": "markdown",
   "metadata": {},
   "source": [
    "### 0.2 루브릭\n",
    "***\n",
    "\n",
    "|**평가문항**|**상세기준**|\n",
    "|------------|-------------|\n",
    "|1. Abstractive 모델 구성을 위한 텍스트 전처리 단계가 체계적으로 진행되었다.|분석단계, 정제단계, 정규화와 불용어 제거, 데이터셋 분리, 인코딩 과정이 빠짐없이 체계적으로 진행되었다.|\n",
    "|2. 텍스트 요약모델이 성공적으로 학습되었음을 확인하였다.|모델학습이 안정적으로 수렴되었음을 그래프를 통해 확인하였으며, 실제 요약문과 유사한 요약문장을 얻을 수 있었다.|\n",
    "|3. Extractive 요약을 시도해 보고 Abstractive 요약 결과와 함께 비교해 보았다.|두 요약 결과를 문법완성도 측면과 핵심단어 포함 측면으로 나누어 비교분석 결과를 제시하였다.|"
   ]
  },
  {
   "cell_type": "markdown",
   "metadata": {},
   "source": [
    "### 0.3 import"
   ]
  },
  {
   "cell_type": "code",
   "execution_count": 1,
   "metadata": {},
   "outputs": [
    {
     "name": "stderr",
     "output_type": "stream",
     "text": [
      "[nltk_data] Downloading package stopwords to\n",
      "[nltk_data]     C:\\Users\\Helpe\\AppData\\Roaming\\nltk_data...\n",
      "[nltk_data]   Package stopwords is already up-to-date!\n"
     ]
    }
   ],
   "source": [
    "import sys\n",
    "sys.path.append('C:\\\\Users\\\\Helpe\\\\AppData\\\\Local\\\\Programs\\\\Python\\\\Python39\\\\lib\\\\site-packages') # 라이브러리 경로 오류\n",
    "\n",
    "import nltk\n",
    "nltk.download('stopwords')\n",
    "\n",
    "import numpy as np\n",
    "import pandas as pd\n",
    "import os\n",
    "import re\n",
    "import matplotlib.pyplot as plt\n",
    "from nltk.corpus import stopwords\n",
    "from bs4 import BeautifulSoup \n",
    "from tensorflow.keras.preprocessing.text import Tokenizer \n",
    "from tensorflow.keras.preprocessing.sequence import pad_sequences\n",
    "import urllib.request\n",
    "import warnings\n",
    "warnings.filterwarnings(\"ignore\", category=UserWarning, module='bs4')"
   ]
  },
  {
   "cell_type": "markdown",
   "metadata": {},
   "source": [
    "## 1. 데이터 수집하기"
   ]
  },
  {
   "cell_type": "code",
   "execution_count": 2,
   "metadata": {},
   "outputs": [],
   "source": [
    "urllib.request.urlretrieve(\"https://raw.githubusercontent.com/sunnysai12345/News_headlines/master/news_summary_more.csv\", filename=\"news_summary_more.csv\")\n",
    "data = pd.read_csv('news_summary_more.csv', encoding='iso-8859-1')"
   ]
  },
  {
   "cell_type": "code",
   "execution_count": 3,
   "metadata": {},
   "outputs": [
    {
     "data": {
      "text/html": [
       "<div>\n",
       "<style scoped>\n",
       "    .dataframe tbody tr th:only-of-type {\n",
       "        vertical-align: middle;\n",
       "    }\n",
       "\n",
       "    .dataframe tbody tr th {\n",
       "        vertical-align: top;\n",
       "    }\n",
       "\n",
       "    .dataframe thead th {\n",
       "        text-align: right;\n",
       "    }\n",
       "</style>\n",
       "<table border=\"1\" class=\"dataframe\">\n",
       "  <thead>\n",
       "    <tr style=\"text-align: right;\">\n",
       "      <th></th>\n",
       "      <th>headlines</th>\n",
       "      <th>text</th>\n",
       "    </tr>\n",
       "  </thead>\n",
       "  <tbody>\n",
       "    <tr>\n",
       "      <th>48848</th>\n",
       "      <td>Appoint new CM, sack 6 ministers: TTV offers E...</td>\n",
       "      <td>Sidelined AIADMK leader TTV Dhinakaran has sai...</td>\n",
       "    </tr>\n",
       "    <tr>\n",
       "      <th>48389</th>\n",
       "      <td>Had to flush pet as airline didn't let it fly,...</td>\n",
       "      <td>A 21-year-old woman has claimed she had to flu...</td>\n",
       "    </tr>\n",
       "    <tr>\n",
       "      <th>53270</th>\n",
       "      <td>Iran calls for Muslim unity to counter US' div...</td>\n",
       "      <td>The Secretary of Iran's Supreme National Secur...</td>\n",
       "    </tr>\n",
       "    <tr>\n",
       "      <th>92810</th>\n",
       "      <td>Only 1 Indian extradited from UK since treaty ...</td>\n",
       "      <td>Ever since India and the UK signed the Extradi...</td>\n",
       "    </tr>\n",
       "    <tr>\n",
       "      <th>80726</th>\n",
       "      <td>Players change underwear at Wimbledon since it...</td>\n",
       "      <td>Boys' doubles top seeds, Hungary's Zsombor Pir...</td>\n",
       "    </tr>\n",
       "    <tr>\n",
       "      <th>91694</th>\n",
       "      <td>Saina exits Badminton Asia C'ships, Sindhu win...</td>\n",
       "      <td>Saina Nehwal was eliminated from the Badminton...</td>\n",
       "    </tr>\n",
       "    <tr>\n",
       "      <th>58292</th>\n",
       "      <td>Hat-trick of int'l wins when I won Miss Asia P...</td>\n",
       "      <td>Dia Mirza has shared a picture of her winning ...</td>\n",
       "    </tr>\n",
       "    <tr>\n",
       "      <th>90511</th>\n",
       "      <td>Muslim-dominated village sets Ã¢ÂÂ¹2.51L fine...</td>\n",
       "      <td>The panchayat in Uttar Pradesh's Madora villag...</td>\n",
       "    </tr>\n",
       "    <tr>\n",
       "      <th>44675</th>\n",
       "      <td>Bigg Boss contestant Arshi accuses priest of s...</td>\n",
       "      <td>Bigg Boss 11 contestant Arshi Khan has filed a...</td>\n",
       "    </tr>\n",
       "    <tr>\n",
       "      <th>80539</th>\n",
       "      <td>Kejriwal reconstitutes Delhi Minorities Commis...</td>\n",
       "      <td>Delhi Chief Minister Arvind Kejriwal on Friday...</td>\n",
       "    </tr>\n",
       "  </tbody>\n",
       "</table>\n",
       "</div>"
      ],
      "text/plain": [
       "                                               headlines  \\\n",
       "48848  Appoint new CM, sack 6 ministers: TTV offers E...   \n",
       "48389  Had to flush pet as airline didn't let it fly,...   \n",
       "53270  Iran calls for Muslim unity to counter US' div...   \n",
       "92810  Only 1 Indian extradited from UK since treaty ...   \n",
       "80726  Players change underwear at Wimbledon since it...   \n",
       "91694  Saina exits Badminton Asia C'ships, Sindhu win...   \n",
       "58292  Hat-trick of int'l wins when I won Miss Asia P...   \n",
       "90511  Muslim-dominated village sets Ã¢ÂÂ¹2.51L fine...   \n",
       "44675  Bigg Boss contestant Arshi accuses priest of s...   \n",
       "80539  Kejriwal reconstitutes Delhi Minorities Commis...   \n",
       "\n",
       "                                                    text  \n",
       "48848  Sidelined AIADMK leader TTV Dhinakaran has sai...  \n",
       "48389  A 21-year-old woman has claimed she had to flu...  \n",
       "53270  The Secretary of Iran's Supreme National Secur...  \n",
       "92810  Ever since India and the UK signed the Extradi...  \n",
       "80726  Boys' doubles top seeds, Hungary's Zsombor Pir...  \n",
       "91694  Saina Nehwal was eliminated from the Badminton...  \n",
       "58292  Dia Mirza has shared a picture of her winning ...  \n",
       "90511  The panchayat in Uttar Pradesh's Madora villag...  \n",
       "44675  Bigg Boss 11 contestant Arshi Khan has filed a...  \n",
       "80539  Delhi Chief Minister Arvind Kejriwal on Friday...  "
      ]
     },
     "execution_count": 3,
     "metadata": {},
     "output_type": "execute_result"
    }
   ],
   "source": [
    "data.sample(10)"
   ]
  },
  {
   "cell_type": "markdown",
   "metadata": {},
   "source": [
    "## 2. 데이터 전처리하기(추상적 요약)"
   ]
  },
  {
   "cell_type": "markdown",
   "metadata": {},
   "source": [
    "### 2.1 데이터 정리하기"
   ]
  },
  {
   "cell_type": "code",
   "execution_count": 14,
   "metadata": {},
   "outputs": [
    {
     "name": "stdout",
     "output_type": "stream",
     "text": [
      "headlines 열에서 중복을 배제한 유일한 샘플의 수 : 98262\n",
      "text 열에서 중복을 배제한 유일한 샘플의 수 : 98360\n"
     ]
    }
   ],
   "source": [
    "print('headlines 열에서 중복을 배제한 유일한 샘플의 수 :', data['headlines'].nunique())\n",
    "print('text 열에서 중복을 배제한 유일한 샘플의 수 :', data['text'].nunique())"
   ]
  },
  {
   "cell_type": "code",
   "execution_count": 7,
   "metadata": {},
   "outputs": [
    {
     "name": "stdout",
     "output_type": "stream",
     "text": [
      "전체 샘플수 : 98360\n"
     ]
    }
   ],
   "source": [
    "# inplace=True 를 설정하면 DataFrame 타입 값을 return 하지 않고 data 내부를 직접적으로 바꿉니다\n",
    "data.drop_duplicates(subset = ['text'], inplace=True)\n",
    "print('전체 샘플수 :', (len(data)))"
   ]
  },
  {
   "cell_type": "code",
   "execution_count": 8,
   "metadata": {},
   "outputs": [
    {
     "name": "stdout",
     "output_type": "stream",
     "text": [
      "headlines    0\n",
      "text         0\n",
      "dtype: int64\n"
     ]
    }
   ],
   "source": [
    "# 결측치 확인\n",
    "print(data.isnull().sum())"
   ]
  },
  {
   "cell_type": "markdown",
   "metadata": {},
   "source": [
    "텍스트 정규화와 불용어 제거"
   ]
  },
  {
   "cell_type": "code",
   "execution_count": 10,
   "metadata": {},
   "outputs": [
    {
     "name": "stdout",
     "output_type": "stream",
     "text": [
      "정규화 사전의 수:  120\n"
     ]
    }
   ],
   "source": [
    "contractions = {\"ain't\": \"is not\", \"aren't\": \"are not\",\"can't\": \"cannot\", \"'cause\": \"because\", \"could've\": \"could have\", \"couldn't\": \"could not\",\n",
    "                           \"didn't\": \"did not\",  \"doesn't\": \"does not\", \"don't\": \"do not\", \"hadn't\": \"had not\", \"hasn't\": \"has not\", \"haven't\": \"have not\",\n",
    "                           \"he'd\": \"he would\",\"he'll\": \"he will\", \"he's\": \"he is\", \"how'd\": \"how did\", \"how'd'y\": \"how do you\", \"how'll\": \"how will\", \"how's\": \"how is\",\n",
    "                           \"I'd\": \"I would\", \"I'd've\": \"I would have\", \"I'll\": \"I will\", \"I'll've\": \"I will have\",\"I'm\": \"I am\", \"I've\": \"I have\", \"i'd\": \"i would\",\n",
    "                           \"i'd've\": \"i would have\", \"i'll\": \"i will\",  \"i'll've\": \"i will have\",\"i'm\": \"i am\", \"i've\": \"i have\", \"isn't\": \"is not\", \"it'd\": \"it would\",\n",
    "                           \"it'd've\": \"it would have\", \"it'll\": \"it will\", \"it'll've\": \"it will have\",\"it's\": \"it is\", \"let's\": \"let us\", \"ma'am\": \"madam\",\n",
    "                           \"mayn't\": \"may not\", \"might've\": \"might have\",\"mightn't\": \"might not\",\"mightn't've\": \"might not have\", \"must've\": \"must have\",\n",
    "                           \"mustn't\": \"must not\", \"mustn't've\": \"must not have\", \"needn't\": \"need not\", \"needn't've\": \"need not have\",\"o'clock\": \"of the clock\",\n",
    "                           \"oughtn't\": \"ought not\", \"oughtn't've\": \"ought not have\", \"shan't\": \"shall not\", \"sha'n't\": \"shall not\", \"shan't've\": \"shall not have\",\n",
    "                           \"she'd\": \"she would\", \"she'd've\": \"she would have\", \"she'll\": \"she will\", \"she'll've\": \"she will have\", \"she's\": \"she is\",\n",
    "                           \"should've\": \"should have\", \"shouldn't\": \"should not\", \"shouldn't've\": \"should not have\", \"so've\": \"so have\",\"so's\": \"so as\",\n",
    "                           \"this's\": \"this is\",\"that'd\": \"that would\", \"that'd've\": \"that would have\", \"that's\": \"that is\", \"there'd\": \"there would\",\n",
    "                           \"there'd've\": \"there would have\", \"there's\": \"there is\", \"here's\": \"here is\",\"they'd\": \"they would\", \"they'd've\": \"they would have\",\n",
    "                           \"they'll\": \"they will\", \"they'll've\": \"they will have\", \"they're\": \"they are\", \"they've\": \"they have\", \"to've\": \"to have\",\n",
    "                           \"wasn't\": \"was not\", \"we'd\": \"we would\", \"we'd've\": \"we would have\", \"we'll\": \"we will\", \"we'll've\": \"we will have\", \"we're\": \"we are\",\n",
    "                           \"we've\": \"we have\", \"weren't\": \"were not\", \"what'll\": \"what will\", \"what'll've\": \"what will have\", \"what're\": \"what are\",\n",
    "                           \"what's\": \"what is\", \"what've\": \"what have\", \"when's\": \"when is\", \"when've\": \"when have\", \"where'd\": \"where did\", \"where's\": \"where is\",\n",
    "                           \"where've\": \"where have\", \"who'll\": \"who will\", \"who'll've\": \"who will have\", \"who's\": \"who is\", \"who've\": \"who have\",\n",
    "                           \"why's\": \"why is\", \"why've\": \"why have\", \"will've\": \"will have\", \"won't\": \"will not\", \"won't've\": \"will not have\",\n",
    "                           \"would've\": \"would have\", \"wouldn't\": \"would not\", \"wouldn't've\": \"would not have\", \"y'all\": \"you all\",\n",
    "                           \"y'all'd\": \"you all would\",\"y'all'd've\": \"you all would have\",\"y'all're\": \"you all are\",\"y'all've\": \"you all have\",\n",
    "                           \"you'd\": \"you would\", \"you'd've\": \"you would have\", \"you'll\": \"you will\", \"you'll've\": \"you will have\",\n",
    "                           \"you're\": \"you are\", \"you've\": \"you have\"}\n",
    "\n",
    "print(\"정규화 사전의 수: \", len(contractions))"
   ]
  },
  {
   "cell_type": "code",
   "execution_count": 11,
   "metadata": {},
   "outputs": [
    {
     "name": "stdout",
     "output_type": "stream",
     "text": [
      "불용어 개수 : 179\n",
      "['i', 'me', 'my', 'myself', 'we', 'our', 'ours', 'ourselves', 'you', \"you're\", \"you've\", \"you'll\", \"you'd\", 'your', 'yours', 'yourself', 'yourselves', 'he', 'him', 'his', 'himself', 'she', \"she's\", 'her', 'hers', 'herself', 'it', \"it's\", 'its', 'itself', 'they', 'them', 'their', 'theirs', 'themselves', 'what', 'which', 'who', 'whom', 'this', 'that', \"that'll\", 'these', 'those', 'am', 'is', 'are', 'was', 'were', 'be', 'been', 'being', 'have', 'has', 'had', 'having', 'do', 'does', 'did', 'doing', 'a', 'an', 'the', 'and', 'but', 'if', 'or', 'because', 'as', 'until', 'while', 'of', 'at', 'by', 'for', 'with', 'about', 'against', 'between', 'into', 'through', 'during', 'before', 'after', 'above', 'below', 'to', 'from', 'up', 'down', 'in', 'out', 'on', 'off', 'over', 'under', 'again', 'further', 'then', 'once', 'here', 'there', 'when', 'where', 'why', 'how', 'all', 'any', 'both', 'each', 'few', 'more', 'most', 'other', 'some', 'such', 'no', 'nor', 'not', 'only', 'own', 'same', 'so', 'than', 'too', 'very', 's', 't', 'can', 'will', 'just', 'don', \"don't\", 'should', \"should've\", 'now', 'd', 'll', 'm', 'o', 're', 've', 'y', 'ain', 'aren', \"aren't\", 'couldn', \"couldn't\", 'didn', \"didn't\", 'doesn', \"doesn't\", 'hadn', \"hadn't\", 'hasn', \"hasn't\", 'haven', \"haven't\", 'isn', \"isn't\", 'ma', 'mightn', \"mightn't\", 'mustn', \"mustn't\", 'needn', \"needn't\", 'shan', \"shan't\", 'shouldn', \"shouldn't\", 'wasn', \"wasn't\", 'weren', \"weren't\", 'won', \"won't\", 'wouldn', \"wouldn't\"]\n"
     ]
    }
   ],
   "source": [
    "print('불용어 개수 :', len(stopwords.words('english') ))\n",
    "print(stopwords.words('english'))"
   ]
  },
  {
   "cell_type": "code",
   "execution_count": 12,
   "metadata": {},
   "outputs": [
    {
     "name": "stdout",
     "output_type": "stream",
     "text": [
      "=3\n"
     ]
    }
   ],
   "source": [
    "# 데이터 전처리 함수\n",
    "def preprocess_sentence(sentence, remove_stopwords=True):\n",
    "    sentence = sentence.lower() # 텍스트 소문자화\n",
    "    sentence = BeautifulSoup(sentence, \"lxml\").text # <br />, <a href = ...> 등의 html 태그 제거\n",
    "    sentence = re.sub(r'\\([^)]*\\)', '', sentence) # 괄호로 닫힌 문자열 (...) 제거 Ex) my husband (and myself!) for => my husband for\n",
    "    sentence = re.sub('\"','', sentence) # 쌍따옴표 \" 제거\n",
    "    sentence = ' '.join([contractions[t] if t in contractions else t for t in sentence.split(\" \")]) # 약어 정규화\n",
    "    sentence = re.sub(r\"'s\\b\",\"\", sentence) # 소유격 제거. Ex) roland's -> roland\n",
    "    sentence = re.sub(\"[^a-zA-Z]\", \" \", sentence) # 영어 외 문자(숫자, 특수문자 등) 공백으로 변환\n",
    "    sentence = re.sub('[m]{2,}', 'mm', sentence) # m이 3개 이상이면 2개로 변경. Ex) ummmmmmm yeah -> umm yeah\n",
    "    \n",
    "    # 불용어 제거 (Text)\n",
    "    if remove_stopwords:\n",
    "        tokens = ' '.join(word for word in sentence.split() if not word in stopwords.words('english') if len(word) > 1)\n",
    "    # 불용어 미제거 (Summary)\n",
    "    else:\n",
    "        tokens = ' '.join(word for word in sentence.split() if len(word) > 1)\n",
    "    return tokens\n",
    "print('=3')"
   ]
  },
  {
   "cell_type": "code",
   "execution_count": 13,
   "metadata": {},
   "outputs": [
    {
     "name": "stdout",
     "output_type": "stream",
     "text": [
      "text:  everything bought great infact ordered twice third ordered wasfor mother father\n",
      "summary: great way to start the day\n"
     ]
    }
   ],
   "source": [
    "temp_text = 'Everything I bought was great, infact I ordered twice and the third ordered was<br />for my mother and father.'\n",
    "temp_summary = 'Great way to start (or finish) the day!!!'\n",
    "\n",
    "print(\"text: \", preprocess_sentence(temp_text))\n",
    "print(\"summary:\", preprocess_sentence(temp_summary, False))  # 불용어를 제거하지 않습니다."
   ]
  },
  {
   "cell_type": "code",
   "execution_count": 16,
   "metadata": {},
   "outputs": [
    {
     "name": "stdout",
     "output_type": "stream",
     "text": [
      "Text 전처리 후 결과:  ['saurav kant alumnus upgrad iiit pg program machine learning artificial intelligence sr systems engineer infosys almost years work experience program upgrad degree career support helped transition data scientist tech mahindra salary hike upgrad online power learning powered lakh careers', 'kunal shah credit card bill payment platform cred gave users chance win free food swiggy one year pranav kaushik delhi techie bagged reward spending cred coins users get one cred coin per rupee bill paid used avail rewards brands like ixigo bookmyshow ubereats cult fit', 'new zealand defeated india wickets fourth odi hamilton thursday win first match five match odi series india lost international match rohit sharma captaincy consecutive victories dating back march match witnessed india getting seventh lowest total odi cricket history', 'aegon life iterm insurance plan customers enjoy tax benefits premiums paid save taxes plan provides life cover age years also customers options insure critical illnesses disability accidental death benefit rider life cover age years', 'speaking sexual harassment allegations rajkumar hirani sonam kapoor said known hirani many years true metoo movement get derailed metoo movement always believe woman case need reserve judgment added hirani accused assistant worked sanju']\n"
     ]
    }
   ],
   "source": [
    "clean_text = []\n",
    "# 전체 Text 데이터에 대한 전처리 : 10분 이상 시간이 걸릴 수 있습니다. \n",
    "for s in data['text']:\n",
    "    clean_text.append(preprocess_sentence(s))\n",
    "\n",
    "# 전처리 후 출력\n",
    "print(\"Text 전처리 후 결과: \", clean_text[:5])"
   ]
  },
  {
   "cell_type": "code",
   "execution_count": 17,
   "metadata": {},
   "outputs": [
    {
     "name": "stdout",
     "output_type": "stream",
     "text": [
      "headlines 전처리 후 결과:  ['upgrad learner switches to career in ml al with salary hike', 'delhi techie wins free food from swiggy for one year on cred', 'new zealand end rohit sharma led india match winning streak', 'aegon life iterm insurance plan helps customers save tax', 'have known hirani for yrs what if metoo claims are not true sonam']\n"
     ]
    }
   ],
   "source": [
    "clean_headlines = []\n",
    "# 전체 headlines 데이터에 대한 전처리 : 5분 이상 시간이 걸릴 수 있습니다. \n",
    "for s in data['headlines']:\n",
    "    clean_headlines.append(preprocess_sentence(s, False))\n",
    "\n",
    "print(\"headlines 전처리 후 결과: \", clean_headlines[:5])"
   ]
  },
  {
   "cell_type": "code",
   "execution_count": 18,
   "metadata": {},
   "outputs": [
    {
     "name": "stdout",
     "output_type": "stream",
     "text": [
      "=3\n"
     ]
    }
   ],
   "source": [
    "data['text'] = clean_text\n",
    "data['headlines'] = clean_headlines\n",
    "\n",
    "# 빈 값을 Null 값으로 변환\n",
    "data.replace('', np.nan, inplace=True)\n",
    "print('=3')"
   ]
  },
  {
   "cell_type": "code",
   "execution_count": 19,
   "metadata": {},
   "outputs": [
    {
     "data": {
      "text/plain": [
       "headlines    0\n",
       "text         0\n",
       "dtype: int64"
      ]
     },
     "execution_count": 19,
     "metadata": {},
     "output_type": "execute_result"
    }
   ],
   "source": [
    "data.isnull().sum()"
   ]
  },
  {
   "cell_type": "markdown",
   "metadata": {},
   "source": [
    "##  2.2 훈련데이터와 데스트데이터"
   ]
  },
  {
   "cell_type": "code",
   "execution_count": 27,
   "metadata": {},
   "outputs": [
    {
     "name": "stdout",
     "output_type": "stream",
     "text": [
      "텍스트의 최소 길이 : 1\n",
      "텍스트의 최대 길이 : 60\n",
      "텍스트의 평균 길이 : 35.09968483123221\n",
      "요약의 최소 길이 : 1\n",
      "요약의 최대 길이 : 16\n",
      "요약의 평균 길이 : 9.299532330215534\n"
     ]
    },
    {
     "data": {
      "image/png": "[encoded data removed]",
      "text/plain": [
       "<Figure size 432x288 with 2 Axes>"
      ]
     },
     "metadata": {
      "needs_background": "light"
     },
     "output_type": "display_data"
    },
    {
     "data": {
      "image/png": "[encoded data removed]",
      "text/plain": [
       "<Figure size 432x288 with 1 Axes>"
      ]
     },
     "metadata": {
      "needs_background": "light"
     },
     "output_type": "display_data"
    },
    {
     "data": {
      "image/png": "[encoded data removed]",
      "text/plain": [
       "<Figure size 432x288 with 1 Axes>"
      ]
     },
     "metadata": {
      "needs_background": "light"
     },
     "output_type": "display_data"
    }
   ],
   "source": [
    "# 샘플의 최대 길이 정하기\n",
    "\n",
    "# 길이 분포 출력\n",
    "import matplotlib.pyplot as plt\n",
    "\n",
    "text_len = [len(s.split()) for s in data['text']]\n",
    "headlines_len = [len(s.split()) for s in data['headlines']]\n",
    "\n",
    "print('텍스트의 최소 길이 : {}'.format(np.min(text_len)))\n",
    "print('텍스트의 최대 길이 : {}'.format(np.max(text_len)))\n",
    "print('텍스트의 평균 길이 : {}'.format(np.mean(text_len)))\n",
    "print('요약의 최소 길이 : {}'.format(np.min(headlines)))\n",
    "print('요약의 최대 길이 : {}'.format(np.max(headlines)))\n",
    "print('요약의 평균 길이 : {}'.format(np.mean(headlines)))\n",
    "\n",
    "plt.subplot(1,2,1)\n",
    "plt.boxplot(text_len)\n",
    "plt.title('Text')\n",
    "plt.subplot(1,2,2)\n",
    "plt.boxplot(headlines)\n",
    "plt.title('headlines')\n",
    "plt.tight_layout()\n",
    "plt.show()\n",
    "\n",
    "plt.title('Text')\n",
    "plt.hist(text_len, bins = 40)\n",
    "plt.xlabel('length of samples')\n",
    "plt.ylabel('number of samples')\n",
    "plt.show()\n",
    "\n",
    "plt.title('headlines')\n",
    "plt.hist(headlines, bins = 40)\n",
    "plt.xlabel('length of samples')\n",
    "plt.ylabel('number of samples')\n",
    "plt.show()"
   ]
  },
  {
   "cell_type": "code",
   "execution_count": 31,
   "metadata": {},
   "outputs": [
    {
     "name": "stdout",
     "output_type": "stream",
     "text": [
      "=3\n"
     ]
    }
   ],
   "source": [
    "text_max_len = 40\n",
    "headlines_max_len = 10\n",
    "print('=3')"
   ]
  },
  {
   "cell_type": "code",
   "execution_count": 32,
   "metadata": {},
   "outputs": [
    {
     "name": "stdout",
     "output_type": "stream",
     "text": [
      "=3\n"
     ]
    }
   ],
   "source": [
    "# 각각 50과 8로 정했는데 이 길이를 선택했을 때, 얼마나 많은 샘플들을 자르지 않고 포함할 수 있는지 통계로 확인하는 함수\n",
    "def below_threshold_len(max_len, nested_list):\n",
    "  cnt = 0\n",
    "  for s in nested_list:\n",
    "    if(len(s.split()) <= max_len):\n",
    "        cnt = cnt + 1\n",
    "  print('전체 샘플 중 길이가 %s 이하인 샘플의 비율: %s'%(max_len, (cnt / len(nested_list))))\n",
    "print('=3')"
   ]
  },
  {
   "cell_type": "code",
   "execution_count": 33,
   "metadata": {},
   "outputs": [
    {
     "name": "stdout",
     "output_type": "stream",
     "text": [
      "전체 샘플 중 길이가 40 이하인 샘플의 비율: 0.9238714924766165\n",
      "전체 샘플 중 길이가 10 이하인 샘플의 비율: 0.8162972753151687\n"
     ]
    }
   ],
   "source": [
    "# 임의의 길이가 몇%의 샘플까지 포함하는지 확인\n",
    "below_threshold_len(text_max_len, data['text'])\n",
    "below_threshold_len(headlines_max_len,  data['headlines'])"
   ]
  },
  {
   "cell_type": "code",
   "execution_count": 34,
   "metadata": {},
   "outputs": [
    {
     "name": "stdout",
     "output_type": "stream",
     "text": [
      "전체 샘플수 : 74102\n"
     ]
    }
   ],
   "source": [
    "# 데이터가 정해진 길이보다 길면 제외\n",
    "data = data[data['text'].apply(lambda x: len(x.split()) <= text_max_len)]\n",
    "data = data[data['headlines'].apply(lambda x: len(x.split()) <= headlines_max_len)]\n",
    "print('전체 샘플수 :', (len(data)))"
   ]
  },
  {
   "cell_type": "markdown",
   "metadata": {},
   "source": [
    "시작 토큰과 종료 토큰 추가하기"
   ]
  },
  {
   "cell_type": "code",
   "execution_count": 35,
   "metadata": {},
   "outputs": [
    {
     "data": {
      "text/html": [
       "<div>\n",
       "<style scoped>\n",
       "    .dataframe tbody tr th:only-of-type {\n",
       "        vertical-align: middle;\n",
       "    }\n",
       "\n",
       "    .dataframe tbody tr th {\n",
       "        vertical-align: top;\n",
       "    }\n",
       "\n",
       "    .dataframe thead th {\n",
       "        text-align: right;\n",
       "    }\n",
       "</style>\n",
       "<table border=\"1\" class=\"dataframe\">\n",
       "  <thead>\n",
       "    <tr style=\"text-align: right;\">\n",
       "      <th></th>\n",
       "      <th>headlines</th>\n",
       "      <th>text</th>\n",
       "      <th>decoder_input</th>\n",
       "      <th>decoder_target</th>\n",
       "    </tr>\n",
       "  </thead>\n",
       "  <tbody>\n",
       "    <tr>\n",
       "      <th>2</th>\n",
       "      <td>new zealand end rohit sharma led india match w...</td>\n",
       "      <td>new zealand defeated india wickets fourth odi ...</td>\n",
       "      <td>sostoken new zealand end rohit sharma led indi...</td>\n",
       "      <td>new zealand end rohit sharma led india match w...</td>\n",
       "    </tr>\n",
       "    <tr>\n",
       "      <th>3</th>\n",
       "      <td>aegon life iterm insurance plan helps customer...</td>\n",
       "      <td>aegon life iterm insurance plan customers enjo...</td>\n",
       "      <td>sostoken aegon life iterm insurance plan helps...</td>\n",
       "      <td>aegon life iterm insurance plan helps customer...</td>\n",
       "    </tr>\n",
       "    <tr>\n",
       "      <th>5</th>\n",
       "      <td>rahat fateh ali khan denies getting notice for...</td>\n",
       "      <td>pakistani singer rahat fateh ali khan denied r...</td>\n",
       "      <td>sostoken rahat fateh ali khan denies getting n...</td>\n",
       "      <td>rahat fateh ali khan denies getting notice for...</td>\n",
       "    </tr>\n",
       "    <tr>\n",
       "      <th>9</th>\n",
       "      <td>cong wins ramgarh bypoll in rajasthan takes to...</td>\n",
       "      <td>congress candidate shafia zubair ramgarh assem...</td>\n",
       "      <td>sostoken cong wins ramgarh bypoll in rajasthan...</td>\n",
       "      <td>cong wins ramgarh bypoll in rajasthan takes to...</td>\n",
       "    </tr>\n",
       "    <tr>\n",
       "      <th>10</th>\n",
       "      <td>up cousins fed human excreta for friendship wi...</td>\n",
       "      <td>two minor cousins uttar pradesh gorakhpur alle...</td>\n",
       "      <td>sostoken up cousins fed human excreta for frie...</td>\n",
       "      <td>up cousins fed human excreta for friendship wi...</td>\n",
       "    </tr>\n",
       "  </tbody>\n",
       "</table>\n",
       "</div>"
      ],
      "text/plain": [
       "                                            headlines  \\\n",
       "2   new zealand end rohit sharma led india match w...   \n",
       "3   aegon life iterm insurance plan helps customer...   \n",
       "5   rahat fateh ali khan denies getting notice for...   \n",
       "9   cong wins ramgarh bypoll in rajasthan takes to...   \n",
       "10  up cousins fed human excreta for friendship wi...   \n",
       "\n",
       "                                                 text  \\\n",
       "2   new zealand defeated india wickets fourth odi ...   \n",
       "3   aegon life iterm insurance plan customers enjo...   \n",
       "5   pakistani singer rahat fateh ali khan denied r...   \n",
       "9   congress candidate shafia zubair ramgarh assem...   \n",
       "10  two minor cousins uttar pradesh gorakhpur alle...   \n",
       "\n",
       "                                        decoder_input  \\\n",
       "2   sostoken new zealand end rohit sharma led indi...   \n",
       "3   sostoken aegon life iterm insurance plan helps...   \n",
       "5   sostoken rahat fateh ali khan denies getting n...   \n",
       "9   sostoken cong wins ramgarh bypoll in rajasthan...   \n",
       "10  sostoken up cousins fed human excreta for frie...   \n",
       "\n",
       "                                       decoder_target  \n",
       "2   new zealand end rohit sharma led india match w...  \n",
       "3   aegon life iterm insurance plan helps customer...  \n",
       "5   rahat fateh ali khan denies getting notice for...  \n",
       "9   cong wins ramgarh bypoll in rajasthan takes to...  \n",
       "10  up cousins fed human excreta for friendship wi...  "
      ]
     },
     "execution_count": 35,
     "metadata": {},
     "output_type": "execute_result"
    }
   ],
   "source": [
    "# 요약 데이터에는 시작 토큰과 종료 토큰을 추가한다.\n",
    "data['decoder_input'] = data['headlines'].apply(lambda x : 'sostoken '+ x)\n",
    "data['decoder_target'] = data['headlines'].apply(lambda x : x + ' eostoken')\n",
    "data.head()"
   ]
  },
  {
   "cell_type": "code",
   "execution_count": 36,
   "metadata": {},
   "outputs": [
    {
     "name": "stdout",
     "output_type": "stream",
     "text": [
      "=3\n"
     ]
    }
   ],
   "source": [
    "# 인코더의 입력, 디코더의 입력과 레이블을 각각 numpy 타입으로 저장\n",
    "encoder_input = np.array(data['text']) # 인코더의 입력\n",
    "decoder_input = np.array(data['decoder_input']) # 디코더의 입력\n",
    "decoder_target = np.array(data['decoder_target']) # 디코더의 레이블\n",
    "print('=3')"
   ]
  },
  {
   "cell_type": "code",
   "execution_count": 37,
   "metadata": {},
   "outputs": [
    {
     "name": "stdout",
     "output_type": "stream",
     "text": [
      "[22065 55282 35592 ... 27900 25379 38617]\n"
     ]
    }
   ],
   "source": [
    "# encoder_input과 크기와 형태가 같은 순서가 섞인 정수 시퀸스를 만듦\n",
    "indices = np.arange(encoder_input.shape[0])\n",
    "np.random.shuffle(indices)\n",
    "print(indices)"
   ]
  },
  {
   "cell_type": "code",
   "execution_count": 38,
   "metadata": {},
   "outputs": [
    {
     "name": "stdout",
     "output_type": "stream",
     "text": [
      "=3\n"
     ]
    }
   ],
   "source": [
    "# 위에서 만든 정수 시퀸스를 이용해 다시 데이터의 샘플 순서를 정의해 줌 -> 잘 섞인 샘플\n",
    "encoder_input = encoder_input[indices]\n",
    "decoder_input = decoder_input[indices]\n",
    "decoder_target = decoder_target[indices]\n",
    "print('=3')"
   ]
  },
  {
   "cell_type": "code",
   "execution_count": 39,
   "metadata": {},
   "outputs": [
    {
     "name": "stdout",
     "output_type": "stream",
     "text": [
      "테스트 데이터의 수 : 14820\n"
     ]
    }
   ],
   "source": [
    "# 전체 데이터의 크기에서 0.2를 곱해서 테스트 데이터의 크기 정의\n",
    "n_of_val = int(len(encoder_input)*0.2)\n",
    "print('테스트 데이터의 수 :', n_of_val)"
   ]
  },
  {
   "cell_type": "code",
   "execution_count": 40,
   "metadata": {},
   "outputs": [
    {
     "name": "stdout",
     "output_type": "stream",
     "text": [
      "훈련 데이터의 개수 : 59282\n",
      "훈련 레이블의 개수 : 59282\n",
      "테스트 데이터의 개수 : 14820\n",
      "테스트 레이블의 개수 : 14820\n"
     ]
    }
   ],
   "source": [
    "# 위에서 정의한 데트스 데이터의 개수를 이용해 전체 데이터를 앙분. :표시의 위치에 주의\n",
    "encoder_input_train = encoder_input[:-n_of_val]\n",
    "decoder_input_train = decoder_input[:-n_of_val]\n",
    "decoder_target_train = decoder_target[:-n_of_val]\n",
    "\n",
    "encoder_input_test = encoder_input[-n_of_val:]\n",
    "decoder_input_test = decoder_input[-n_of_val:]\n",
    "decoder_target_test = decoder_target[-n_of_val:]\n",
    "\n",
    "print('훈련 데이터의 개수 :', len(encoder_input_train))\n",
    "print('훈련 레이블의 개수 :', len(decoder_input_train))\n",
    "print('테스트 데이터의 개수 :', len(encoder_input_test))\n",
    "print('테스트 레이블의 개수 :', len(decoder_input_test))"
   ]
  },
  {
   "cell_type": "markdown",
   "metadata": {},
   "source": [
    "### 2.3 단어 집합 제작 및 정수 인코딩"
   ]
  },
  {
   "cell_type": "markdown",
   "metadata": {},
   "source": [
    "text 단어집합"
   ]
  },
  {
   "cell_type": "code",
   "execution_count": 41,
   "metadata": {},
   "outputs": [
    {
     "name": "stdout",
     "output_type": "stream",
     "text": [
      "=3\n"
     ]
    }
   ],
   "source": [
    "'''\n",
    "기계가 텍스트를 숫자로 처리할 수 있도록 훈련/테스트 데이터의 단어들을 모두 정수로 변환\n",
    "이를 위해 각 단어에 고유한 정수를 맵핑필요 = 단어 집합(vocabulary)을 만든다\n",
    "keras의 토크나이저를 이용해 encoder_input_train에 대해 단어 집합을 만들기\n",
    "'''\n",
    "src_tokenizer = Tokenizer() # 토크나이저 정의\n",
    "src_tokenizer.fit_on_texts(encoder_input_train) # 입력된 데이터로부터 단어 집합 생성\n",
    "print('=3')"
   ]
  },
  {
   "cell_type": "code",
   "execution_count": 42,
   "metadata": {},
   "outputs": [
    {
     "name": "stdout",
     "output_type": "stream",
     "text": [
      "단어 집합(vocabulary)의 크기 : 61375\n",
      "등장 빈도가 6번 이하인 희귀 단어의 수: 42040\n",
      "단어 집합에서 희귀 단어를 제외시킬 경우의 단어 집합의 크기 19335\n",
      "단어 집합에서 희귀 단어의 비율: 68.4969450101833\n",
      "전체 등장 빈도에서 희귀 단어 등장 빈도 비율: 4.17591723975095\n"
     ]
    }
   ],
   "source": [
    "'''\n",
    "src_tokenizer.word_counts.items()에는 단어와 각 단어의 등장 빈도수가 저장돼 있는데, \n",
    "이를 통해서 통계적인 정보를 얻을 수 있다.\n",
    "'''\n",
    "threshold = 7\n",
    "total_cnt = len(src_tokenizer.word_index) # 단어의 수\n",
    "rare_cnt = 0 # 등장 빈도수가 threshold보다 작은 단어의 개수를 카운트\n",
    "total_freq = 0 # 훈련 데이터의 전체 단어 빈도수 총 합\n",
    "rare_freq = 0 # 등장 빈도수가 threshold보다 작은 단어의 등장 빈도수의 총 합\n",
    "\n",
    "# 단어와 빈도수의 쌍(pair)을 key와 value로 받는다.\n",
    "for key, value in src_tokenizer.word_counts.items():\n",
    "    total_freq = total_freq + value\n",
    "\n",
    "    # 단어의 등장 빈도수가 threshold보다 작으면\n",
    "    if(value < threshold):\n",
    "        rare_cnt = rare_cnt + 1\n",
    "        rare_freq = rare_freq + value\n",
    "\n",
    "print('단어 집합(vocabulary)의 크기 :', total_cnt)\n",
    "print('등장 빈도가 %s번 이하인 희귀 단어의 수: %s'%(threshold - 1, rare_cnt))\n",
    "print('단어 집합에서 희귀 단어를 제외시킬 경우의 단어 집합의 크기 %s'%(total_cnt - rare_cnt))\n",
    "print(\"단어 집합에서 희귀 단어의 비율:\", (rare_cnt / total_cnt)*100)\n",
    "print(\"전체 등장 빈도에서 희귀 단어 등장 빈도 비율:\", (rare_freq / total_freq)*100)"
   ]
  },
  {
   "cell_type": "code",
   "execution_count": 43,
   "metadata": {},
   "outputs": [
    {
     "name": "stdout",
     "output_type": "stream",
     "text": [
      "=3\n"
     ]
    }
   ],
   "source": [
    "'''\n",
    "등장 빈도가 6회 이하인 단어들을 정수 인코딩에서 빼고, 훈련 데이터에서 제외\n",
    "토크나이저를 정의할 때 num_words의 값을 정해주면 단어 집합의 크기를 제한 가능\n",
    "'''\n",
    "src_vocab = 19000\n",
    "src_tokenizer = Tokenizer(num_words=src_vocab) # 단어 집합의 크기를 19,000으로 제한\n",
    "src_tokenizer.fit_on_texts(encoder_input_train) # 단어 집합 재생성\n",
    "print('=3')"
   ]
  },
  {
   "cell_type": "code",
   "execution_count": 44,
   "metadata": {},
   "outputs": [
    {
     "name": "stdout",
     "output_type": "stream",
     "text": [
      "[[98, 6153, 124, 894, 2193, 1506, 424, 4464, 2754, 1303, 1714, 1498, 1090, 1506, 82, 98, 1272, 1715, 2918, 98, 6435, 32, 124, 844, 2015, 124, 82, 1319, 98, 1506, 326], [55, 11756, 94, 206, 1220, 387, 2330, 13746, 3160, 263, 13747, 87, 334, 10962, 13746, 178, 3, 1484, 195, 158, 182, 9, 151, 158, 3038, 3160, 23, 15, 263, 97, 12189], [634, 73, 27, 274, 47, 433, 5258, 360, 192, 46, 34, 36, 139, 397, 270, 328, 39, 4182, 3739, 5589, 133, 3, 261, 52, 397, 4]]\n"
     ]
    }
   ],
   "source": [
    "'''\n",
    "texts_to_sequences()는 생성된 단어 집합에 기반하여 입력으로 주어진 \n",
    "텍스트 데이터의 단어들을 모두 정수로 변환하는 정수 인코딩을 수행함\n",
    "'''\n",
    "# 텍스트 시퀀스를 정수 시퀀스로 변환\n",
    "encoder_input_train = src_tokenizer.texts_to_sequences(encoder_input_train) \n",
    "encoder_input_test = src_tokenizer.texts_to_sequences(encoder_input_test)\n",
    "\n",
    "# 잘 진행되었는지 샘플 출력\n",
    "print(encoder_input_train[:3])"
   ]
  },
  {
   "cell_type": "markdown",
   "metadata": {},
   "source": [
    "headlines 단어집합"
   ]
  },
  {
   "cell_type": "code",
   "execution_count": 45,
   "metadata": {},
   "outputs": [
    {
     "name": "stdout",
     "output_type": "stream",
     "text": [
      "=3\n"
     ]
    }
   ],
   "source": [
    "'''\n",
    "headlines에도 동일한 작업 수행\n",
    "decorder_input_train을 입력으로 전체 단어 집합과 각 단어에 대한 빈도수를 계산\n",
    "'''\n",
    "tar_tokenizer = Tokenizer()\n",
    "tar_tokenizer.fit_on_texts(decoder_input_train)\n",
    "print('=3')"
   ]
  },
  {
   "cell_type": "code",
   "execution_count": 46,
   "metadata": {},
   "outputs": [
    {
     "name": "stdout",
     "output_type": "stream",
     "text": [
      "단어 집합(vocabulary)의 크기 : 27277\n",
      "등장 빈도가 5번 이하인 희귀 단어의 수: 18228\n",
      "단어 집합에서 희귀 단어를 제외시킬 경우의 단어 집합의 크기 9049\n",
      "단어 집합에서 희귀 단어의 비율: 66.82553066686219\n",
      "전체 등장 빈도에서 희귀 단어 등장 빈도 비율: 5.977635793716461\n"
     ]
    }
   ],
   "source": [
    "\n",
    "threshold = 6\n",
    "total_cnt = len(tar_tokenizer.word_index) # 단어의 수\n",
    "rare_cnt = 0 # 등장 빈도수가 threshold보다 작은 단어의 개수를 카운트\n",
    "total_freq = 0 # 훈련 데이터의 전체 단어 빈도수 총 합\n",
    "rare_freq = 0 # 등장 빈도수가 threshold보다 작은 단어의 등장 빈도수의 총 합\n",
    "\n",
    "# 단어와 빈도수의 쌍(pair)을 key와 value로 받는다.\n",
    "for key, value in tar_tokenizer.word_counts.items():\n",
    "    total_freq = total_freq + value\n",
    "\n",
    "    # 단어의 등장 빈도수가 threshold보다 작으면\n",
    "    if(value < threshold):\n",
    "        rare_cnt = rare_cnt + 1\n",
    "        rare_freq = rare_freq + value\n",
    "\n",
    "print('단어 집합(vocabulary)의 크기 :', total_cnt)\n",
    "print('등장 빈도가 %s번 이하인 희귀 단어의 수: %s'%(threshold - 1, rare_cnt))\n",
    "print('단어 집합에서 희귀 단어를 제외시킬 경우의 단어 집합의 크기 %s'%(total_cnt - rare_cnt))\n",
    "print(\"단어 집합에서 희귀 단어의 비율:\", (rare_cnt / total_cnt)*100)\n",
    "print(\"전체 등장 빈도에서 희귀 단어 등장 빈도 비율:\", (rare_freq / total_freq)*100)"
   ]
  },
  {
   "cell_type": "code",
   "execution_count": 47,
   "metadata": {},
   "outputs": [
    {
     "name": "stdout",
     "output_type": "stream",
     "text": [
      "input\n",
      "input  [[1, 388, 986, 5, 5126, 1788, 183, 330, 45, 1789, 879], [1, 4470, 194, 8225, 2934, 5, 2858, 280], [1, 2083, 116, 5, 1922, 260, 145, 4, 23], [1, 663, 3, 200, 4, 680, 308, 3119, 6, 4471, 30], [1, 2253, 4864, 5743, 75, 4, 50]]\n",
      "target\n",
      "decoder  [[388, 986, 5, 5126, 1788, 183, 330, 45, 1789, 879, 2], [4470, 194, 8225, 2934, 5, 2858, 280, 2], [2083, 116, 5, 1922, 260, 145, 4, 23, 2], [663, 3, 200, 4, 680, 308, 3119, 6, 4471, 30, 2], [2253, 4864, 5743, 75, 4, 50, 2]]\n"
     ]
    }
   ],
   "source": [
    "tar_vocab = 9000\n",
    "tar_tokenizer = Tokenizer(num_words=tar_vocab) \n",
    "tar_tokenizer.fit_on_texts(decoder_input_train)\n",
    "tar_tokenizer.fit_on_texts(decoder_target_train)\n",
    "\n",
    "# 텍스트 시퀀스를 정수 시퀀스로 변환\n",
    "decoder_input_train = tar_tokenizer.texts_to_sequences(decoder_input_train) \n",
    "decoder_target_train = tar_tokenizer.texts_to_sequences(decoder_target_train)\n",
    "decoder_input_test = tar_tokenizer.texts_to_sequences(decoder_input_test)\n",
    "decoder_target_test = tar_tokenizer.texts_to_sequences(decoder_target_test)\n",
    "\n",
    "# 잘 변환되었는지 확인\n",
    "print('input')\n",
    "print('input ',decoder_input_train[:5])\n",
    "print('target')\n",
    "print('decoder ',decoder_target_train[:5])"
   ]
  },
  {
   "cell_type": "code",
   "execution_count": 48,
   "metadata": {},
   "outputs": [
    {
     "name": "stdout",
     "output_type": "stream",
     "text": [
      "삭제할 훈련 데이터의 개수 : 0\n",
      "삭제할 테스트 데이터의 개수 : 0\n",
      "훈련 데이터의 개수 : 59282\n",
      "훈련 레이블의 개수 : 59282\n",
      "테스트 데이터의 개수 : 14820\n",
      "테스트 레이블의 개수 : 14820\n"
     ]
    }
   ],
   "source": [
    "'''\n",
    "실제 길이가 1인 경우 제거\n",
    "정수 인코딩 과정에서 빈도수가 낮은 단어를 삭제했고, 빈도수가 낮은 단어로만 구성된 샘플은 비었을 가능성이 높아짐\n",
    "길이가 0인 샘플들이 발생했을 수 있으나, 토큰이 추가된 상태기 때문에 실제 길이는 1로 나옴\n",
    "'''\n",
    "drop_train = [index for index, sentence in enumerate(decoder_input_train) if len(sentence) == 1]\n",
    "drop_test = [index for index, sentence in enumerate(decoder_input_test) if len(sentence) == 1]\n",
    "\n",
    "print('삭제할 훈련 데이터의 개수 :', len(drop_train))\n",
    "print('삭제할 테스트 데이터의 개수 :', len(drop_test))\n",
    "\n",
    "encoder_input_train = [sentence for index, sentence in enumerate(encoder_input_train) if index not in drop_train]\n",
    "decoder_input_train = [sentence for index, sentence in enumerate(decoder_input_train) if index not in drop_train]\n",
    "decoder_target_train = [sentence for index, sentence in enumerate(decoder_target_train) if index not in drop_train]\n",
    "\n",
    "encoder_input_test = [sentence for index, sentence in enumerate(encoder_input_test) if index not in drop_test]\n",
    "decoder_input_test = [sentence for index, sentence in enumerate(decoder_input_test) if index not in drop_test]\n",
    "decoder_target_test = [sentence for index, sentence in enumerate(decoder_target_test) if index not in drop_test]\n",
    "\n",
    "print('훈련 데이터의 개수 :', len(encoder_input_train))\n",
    "print('훈련 레이블의 개수 :', len(decoder_input_train))\n",
    "print('테스트 데이터의 개수 :', len(encoder_input_test))\n",
    "print('테스트 레이블의 개수 :', len(decoder_input_test))"
   ]
  },
  {
   "cell_type": "markdown",
   "metadata": {},
   "source": [
    "패딩하기"
   ]
  },
  {
   "cell_type": "code",
   "execution_count": 49,
   "metadata": {},
   "outputs": [
    {
     "name": "stdout",
     "output_type": "stream",
     "text": [
      "=3\n"
     ]
    }
   ],
   "source": [
    "# 아까 정해주었던 최디 길이로 패딩 진행. 짧은 데이터들은 뒤의 공간에 숫자 0을 넣어서 진행함\n",
    "encoder_input_train = pad_sequences(encoder_input_train, maxlen=text_max_len, padding='post')\n",
    "encoder_input_test = pad_sequences(encoder_input_test, maxlen=text_max_len, padding='post')\n",
    "decoder_input_train = pad_sequences(decoder_input_train, maxlen=headlines_max_len, padding='post')\n",
    "decoder_target_train = pad_sequences(decoder_target_train, maxlen=headlines_max_len, padding='post')\n",
    "decoder_input_test = pad_sequences(decoder_input_test, maxlen=headlines_max_len, padding='post')\n",
    "decoder_target_test = pad_sequences(decoder_target_test, maxlen=headlines_max_len, padding='post')\n",
    "print('=3')"
   ]
  },
  {
   "cell_type": "markdown",
   "metadata": {},
   "source": [
    "### 2.4 모델 설계하기"
   ]
  },
  {
   "cell_type": "code",
   "execution_count": 50,
   "metadata": {},
   "outputs": [],
   "source": [
    "# 함수형 api를 이용하여 인코더를 설계\n",
    "from tensorflow.keras.layers import Input, LSTM, Embedding, Dense, Concatenate, TimeDistributed\n",
    "from tensorflow.keras.models import Model\n",
    "from tensorflow.keras.callbacks import EarlyStopping, ModelCheckpoint"
   ]
  },
  {
   "cell_type": "code",
   "execution_count": 51,
   "metadata": {},
   "outputs": [
    {
     "name": "stdout",
     "output_type": "stream",
     "text": [
      "WARNING:tensorflow:Layer lstm will not use cuDNN kernels since it doesn't meet the criteria. It will use a generic GPU kernel as fallback when running on GPU.\n",
      "WARNING:tensorflow:Layer lstm_1 will not use cuDNN kernels since it doesn't meet the criteria. It will use a generic GPU kernel as fallback when running on GPU.\n",
      "WARNING:tensorflow:Layer lstm_2 will not use cuDNN kernels since it doesn't meet the criteria. It will use a generic GPU kernel as fallback when running on GPU.\n"
     ]
    }
   ],
   "source": [
    "'''\n",
    "dropout = 레이어의 weight를 랜덤으로 생략하여 모델의 과적합을 해결하는 방법\n",
    "recurrent dropout = dropout을 레이어가 아닌 time step마다 해주는 방식. time step의 입력을 랜덤으로 생략함\n",
    "                    regularization을 해주는 효과와 과적합을 방지함\n",
    "dropout과 recurrent dropout을 모두 사용한 것을 Variational Dropout이라고 함.\n",
    "'''\n",
    "\n",
    "# 인코더 설계 시작\n",
    "embedding_dim = 128 # 임베딩 벡터의 차원\n",
    "hidden_size = 256 # LSTM에서 얼만큼의 수용력(capacity)를 가질지 정함\n",
    "\n",
    "# 인코더\n",
    "encoder_inputs = Input(shape=(text_max_len,))\n",
    "\n",
    "# 인코더의 임베딩 층\n",
    "enc_emb = Embedding(src_vocab, embedding_dim)(encoder_inputs)\n",
    "\n",
    "# 인코더의 LSTM 1\n",
    "encoder_lstm1 = LSTM(hidden_size, return_sequences=True, return_state=True ,dropout = 0.4, recurrent_dropout = 0.4)\n",
    "encoder_output1, state_h1, state_c1 = encoder_lstm1(enc_emb)\n",
    "\n",
    "# 인코더의 LSTM 2\n",
    "encoder_lstm2 = LSTM(hidden_size, return_sequences=True, return_state=True, dropout=0.4, recurrent_dropout=0.4)\n",
    "encoder_output2, state_h2, state_c2 = encoder_lstm2(encoder_output1)\n",
    "\n",
    "# 인코더의 LSTM 3\n",
    "encoder_lstm3 = LSTM(hidden_size, return_state=True, return_sequences=True, dropout=0.4, recurrent_dropout=0.4)\n",
    "encoder_outputs, state_h, state_c= encoder_lstm3(encoder_output2)"
   ]
  },
  {
   "cell_type": "code",
   "execution_count": 52,
   "metadata": {},
   "outputs": [
    {
     "name": "stdout",
     "output_type": "stream",
     "text": [
      "WARNING:tensorflow:Layer lstm_3 will not use cuDNN kernels since it doesn't meet the criteria. It will use a generic GPU kernel as fallback when running on GPU.\n"
     ]
    }
   ],
   "source": [
    "'''\n",
    "initial_state의 인자값으로 인코더의 hidden state와 cell state 값을 넣어줘야 함\n",
    "'''\n",
    "# 디코더 설계\n",
    "decoder_inputs = Input(shape=(None,))\n",
    "\n",
    "# 디코더의 임베딩 층\n",
    "dec_emb_layer = Embedding(tar_vocab, embedding_dim)\n",
    "dec_emb = dec_emb_layer(decoder_inputs)\n",
    "\n",
    "# 디코더의 LSTM\n",
    "decoder_lstm = LSTM(hidden_size, return_sequences=True, return_state=True, dropout=0.4, recurrent_dropout=0.2)\n",
    "decoder_outputs, _, _ = decoder_lstm(dec_emb, initial_state=[state_h, state_c])"
   ]
  },
  {
   "cell_type": "code",
   "execution_count": 53,
   "metadata": {},
   "outputs": [
    {
     "name": "stdout",
     "output_type": "stream",
     "text": [
      "Model: \"model\"\n",
      "__________________________________________________________________________________________________\n",
      " Layer (type)                   Output Shape         Param #     Connected to                     \n",
      "==================================================================================================\n",
      " input_1 (InputLayer)           [(None, 40)]         0           []                               \n",
      "                                                                                                  \n",
      " embedding (Embedding)          (None, 40, 128)      2432000     ['input_1[0][0]']                \n",
      "                                                                                                  \n",
      " lstm (LSTM)                    [(None, 40, 256),    394240      ['embedding[0][0]']              \n",
      "                                 (None, 256),                                                     \n",
      "                                 (None, 256)]                                                     \n",
      "                                                                                                  \n",
      " input_2 (InputLayer)           [(None, None)]       0           []                               \n",
      "                                                                                                  \n",
      " lstm_1 (LSTM)                  [(None, 40, 256),    525312      ['lstm[0][0]']                   \n",
      "                                 (None, 256),                                                     \n",
      "                                 (None, 256)]                                                     \n",
      "                                                                                                  \n",
      " embedding_1 (Embedding)        (None, None, 128)    1152000     ['input_2[0][0]']                \n",
      "                                                                                                  \n",
      " lstm_2 (LSTM)                  [(None, 40, 256),    525312      ['lstm_1[0][0]']                 \n",
      "                                 (None, 256),                                                     \n",
      "                                 (None, 256)]                                                     \n",
      "                                                                                                  \n",
      " lstm_3 (LSTM)                  [(None, None, 256),  394240      ['embedding_1[0][0]',            \n",
      "                                 (None, 256),                     'lstm_2[0][1]',                 \n",
      "                                 (None, 256)]                     'lstm_2[0][2]']                 \n",
      "                                                                                                  \n",
      " dense (Dense)                  (None, None, 9000)   2313000     ['lstm_3[0][0]']                 \n",
      "                                                                                                  \n",
      "==================================================================================================\n",
      "Total params: 7,736,104\n",
      "Trainable params: 7,736,104\n",
      "Non-trainable params: 0\n",
      "__________________________________________________________________________________________________\n"
     ]
    }
   ],
   "source": [
    "'''\n",
    "디코더의 출력층에서는 summary의 단어장인 tar_vocab의 수많은 선택지 중 하나의 단어를 선택하는 다중 클래스 분류 수행\n",
    "그래서 Dense의 인자로 tar_vocab을 주고 활성화 함수로 softmax 사용\n",
    "'''\n",
    "\n",
    "# 디코더의 출력층\n",
    "decoder_softmax_layer = Dense(tar_vocab, activation='softmax')\n",
    "decoder_softmax_outputs = decoder_softmax_layer(decoder_outputs) \n",
    "\n",
    "# 모델 정의\n",
    "model = Model([encoder_inputs, decoder_inputs], decoder_softmax_outputs)\n",
    "model.summary()"
   ]
  },
  {
   "cell_type": "markdown",
   "metadata": {},
   "source": [
    "## 3. 어텐션 메커니즘 사용하기(추상적 요약)"
   ]
  },
  {
   "cell_type": "code",
   "execution_count": 54,
   "metadata": {},
   "outputs": [
    {
     "name": "stdout",
     "output_type": "stream",
     "text": [
      "Model: \"model_1\"\n",
      "__________________________________________________________________________________________________\n",
      " Layer (type)                   Output Shape         Param #     Connected to                     \n",
      "==================================================================================================\n",
      " input_1 (InputLayer)           [(None, 40)]         0           []                               \n",
      "                                                                                                  \n",
      " embedding (Embedding)          (None, 40, 128)      2432000     ['input_1[0][0]']                \n",
      "                                                                                                  \n",
      " lstm (LSTM)                    [(None, 40, 256),    394240      ['embedding[0][0]']              \n",
      "                                 (None, 256),                                                     \n",
      "                                 (None, 256)]                                                     \n",
      "                                                                                                  \n",
      " input_2 (InputLayer)           [(None, None)]       0           []                               \n",
      "                                                                                                  \n",
      " lstm_1 (LSTM)                  [(None, 40, 256),    525312      ['lstm[0][0]']                   \n",
      "                                 (None, 256),                                                     \n",
      "                                 (None, 256)]                                                     \n",
      "                                                                                                  \n",
      " embedding_1 (Embedding)        (None, None, 128)    1152000     ['input_2[0][0]']                \n",
      "                                                                                                  \n",
      " lstm_2 (LSTM)                  [(None, 40, 256),    525312      ['lstm_1[0][0]']                 \n",
      "                                 (None, 256),                                                     \n",
      "                                 (None, 256)]                                                     \n",
      "                                                                                                  \n",
      " lstm_3 (LSTM)                  [(None, None, 256),  394240      ['embedding_1[0][0]',            \n",
      "                                 (None, 256),                     'lstm_2[0][1]',                 \n",
      "                                 (None, 256)]                     'lstm_2[0][2]']                 \n",
      "                                                                                                  \n",
      " attention_layer (AdditiveAtten  (None, None, 256)   256         ['lstm_3[0][0]',                 \n",
      " tion)                                                            'lstm_2[0][0]']                 \n",
      "                                                                                                  \n",
      " concat_layer (Concatenate)     (None, None, 512)    0           ['lstm_3[0][0]',                 \n",
      "                                                                  'attention_layer[0][0]']        \n",
      "                                                                                                  \n",
      " dense_1 (Dense)                (None, None, 9000)   4617000     ['concat_layer[0][0]']           \n",
      "                                                                                                  \n",
      "==================================================================================================\n",
      "Total params: 10,040,360\n",
      "Trainable params: 10,040,360\n",
      "Non-trainable params: 0\n",
      "__________________________________________________________________________________________________\n"
     ]
    }
   ],
   "source": [
    "from tensorflow.keras.layers import AdditiveAttention\n",
    "\n",
    "'''\n",
    "인코더의 hidden state들과 디코더의 hidden state들을 어텐션 함수의 입력으로 사용\n",
    "어텐션 함수가 리턴한 값을 예측 시에 디코더의 hidden state와 함께 활용하는 형태로 작동\n",
    "'''\n",
    "\n",
    "# 어텐션 층(어텐션 함수)\n",
    "attn_layer = AdditiveAttention(name='attention_layer')\n",
    "\n",
    "# 인코더와 디코더의 모든 time step의 hidden state를 어텐션 층에 전달하고 결과를 리턴\n",
    "attn_out = attn_layer([decoder_outputs, encoder_outputs])\n",
    "\n",
    "\n",
    "# 어텐션의 결과와 디코더의 hidden state들을 연결\n",
    "decoder_concat_input = Concatenate(axis=-1, name='concat_layer')([decoder_outputs, attn_out])\n",
    "\n",
    "# 디코더의 출력층\n",
    "decoder_softmax_layer = Dense(tar_vocab, activation='softmax')\n",
    "decoder_softmax_outputs = decoder_softmax_layer(decoder_concat_input)\n",
    "\n",
    "# 모델 정의\n",
    "model = Model([encoder_inputs, decoder_inputs], decoder_softmax_outputs)\n",
    "model.summary()"
   ]
  },
  {
   "cell_type": "markdown",
   "metadata": {},
   "source": [
    "## 4. 실제 결과와 요약문 비교하기(추상적 요약)"
   ]
  },
  {
   "cell_type": "markdown",
   "metadata": {},
   "source": [
    "### 4.1 모델 훈련하기"
   ]
  },
  {
   "cell_type": "code",
   "execution_count": 55,
   "metadata": {},
   "outputs": [
    {
     "name": "stdout",
     "output_type": "stream",
     "text": [
      "Epoch 1/50\n",
      "232/232 [==============================] - 428s 2s/step - loss: 6.3013 - val_loss: 5.8540\n",
      "Epoch 2/50\n",
      "232/232 [==============================] - 412s 2s/step - loss: 5.7655 - val_loss: 5.5165\n",
      "Epoch 3/50\n",
      "232/232 [==============================] - 383s 2s/step - loss: 5.4407 - val_loss: 5.2823\n",
      "Epoch 4/50\n",
      "232/232 [==============================] - 396s 2s/step - loss: 5.1670 - val_loss: 5.0572\n",
      "Epoch 5/50\n",
      "232/232 [==============================] - 340s 1s/step - loss: 4.9306 - val_loss: 4.8883\n",
      "Epoch 6/50\n",
      "232/232 [==============================] - 338s 1s/step - loss: 4.7286 - val_loss: 4.7610\n",
      "Epoch 7/50\n",
      "232/232 [==============================] - 346s 1s/step - loss: 4.5543 - val_loss: 4.6664\n",
      "Epoch 8/50\n",
      "232/232 [==============================] - 354s 2s/step - loss: 4.4017 - val_loss: 4.5783\n",
      "Epoch 9/50\n",
      "232/232 [==============================] - 369s 2s/step - loss: 4.2675 - val_loss: 4.4981\n",
      "Epoch 10/50\n",
      "232/232 [==============================] - 366s 2s/step - loss: 4.1429 - val_loss: 4.4437\n",
      "Epoch 11/50\n",
      "232/232 [==============================] - 351s 2s/step - loss: 4.0307 - val_loss: 4.4051\n",
      "Epoch 12/50\n",
      "232/232 [==============================] - 359s 2s/step - loss: 3.9265 - val_loss: 4.3599\n",
      "Epoch 13/50\n",
      "232/232 [==============================] - 360s 2s/step - loss: 3.8366 - val_loss: 4.3365\n",
      "Epoch 14/50\n",
      "232/232 [==============================] - 362s 2s/step - loss: 3.7525 - val_loss: 4.3042\n",
      "Epoch 15/50\n",
      "232/232 [==============================] - 359s 2s/step - loss: 3.6711 - val_loss: 4.2826\n",
      "Epoch 16/50\n",
      "232/232 [==============================] - 364s 2s/step - loss: 3.5954 - val_loss: 4.2633\n",
      "Epoch 17/50\n",
      "232/232 [==============================] - 356s 2s/step - loss: 3.5254 - val_loss: 4.2526\n",
      "Epoch 18/50\n",
      "232/232 [==============================] - 356s 2s/step - loss: 3.4590 - val_loss: 4.2301\n",
      "Epoch 19/50\n",
      "232/232 [==============================] - 371s 2s/step - loss: 3.4009 - val_loss: 4.2302\n",
      "Epoch 20/50\n",
      "232/232 [==============================] - 385s 2s/step - loss: 3.3428 - val_loss: 4.2112\n",
      "Epoch 21/50\n",
      "232/232 [==============================] - 396s 2s/step - loss: 3.2889 - val_loss: 4.2069\n",
      "Epoch 22/50\n",
      "232/232 [==============================] - 376s 2s/step - loss: 3.2378 - val_loss: 4.1991\n",
      "Epoch 23/50\n",
      "232/232 [==============================] - 367s 2s/step - loss: 3.1864 - val_loss: 4.1917\n",
      "Epoch 24/50\n",
      "232/232 [==============================] - 368s 2s/step - loss: 3.1377 - val_loss: 4.2023\n",
      "Epoch 25/50\n",
      "232/232 [==============================] - 361s 2s/step - loss: 3.0910 - val_loss: 4.1958\n",
      "Epoch 00025: early stopping\n"
     ]
    }
   ],
   "source": [
    "model.compile(optimizer='rmsprop', loss='sparse_categorical_crossentropy')\n",
    "es = EarlyStopping(monitor='val_loss', patience=2, verbose=1)\n",
    "history = model.fit(x=[encoder_input_train, decoder_input_train], y=decoder_target_train, \\\n",
    "          validation_data=([encoder_input_test, decoder_input_test], decoder_target_test), \\\n",
    "          batch_size=256, callbacks=[es], epochs=50)"
   ]
  },
  {
   "cell_type": "code",
   "execution_count": 56,
   "metadata": {},
   "outputs": [
    {
     "data": {
      "image/png": "[encoded data removed]",
      "text/plain": [
       "<Figure size 432x288 with 1 Axes>"
      ]
     },
     "metadata": {
      "needs_background": "light"
     },
     "output_type": "display_data"
    }
   ],
   "source": [
    "# 훈련 데이터의 손실과 검증 데이터의 손실 시각화\n",
    "plt.plot(history.history['loss'], label='train')\n",
    "plt.plot(history.history['val_loss'], label='test')\n",
    "plt.legend()\n",
    "plt.show()"
   ]
  },
  {
   "cell_type": "markdown",
   "metadata": {},
   "source": [
    "### 4.2 인퍼런스 모델 구현"
   ]
  },
  {
   "cell_type": "code",
   "execution_count": 57,
   "metadata": {},
   "outputs": [
    {
     "name": "stdout",
     "output_type": "stream",
     "text": [
      "=3\n"
     ]
    }
   ],
   "source": [
    "# 정수 인덱스 행렬로 존재하던 텍스트 데이터를 실제 데이터로 복원해야함 -> 필요한 3개의, 사전을 미리 준비\n",
    "src_index_to_word = src_tokenizer.index_word # 원문 단어 집합에서 정수 -> 단어를 얻음\n",
    "tar_word_to_index = tar_tokenizer.word_index # 요약 단어 집합에서 단어 -> 정수를 얻음\n",
    "tar_index_to_word = tar_tokenizer.index_word # 요약 단어 집합에서 정수 -> 단어를 얻음\n",
    "\n",
    "print('=3')"
   ]
  },
  {
   "cell_type": "code",
   "execution_count": 58,
   "metadata": {},
   "outputs": [
    {
     "name": "stdout",
     "output_type": "stream",
     "text": [
      "=3\n"
     ]
    }
   ],
   "source": [
    "# 인코더 설계\n",
    "encoder_model = Model(inputs=encoder_inputs, outputs=[encoder_outputs, state_h, state_c])\n",
    "\n",
    "# 이전 시점의 상태들을 저장하는 텐서\n",
    "decoder_state_input_h = Input(shape=(hidden_size,))\n",
    "decoder_state_input_c = Input(shape=(hidden_size,))\n",
    "\n",
    "dec_emb2 = dec_emb_layer(decoder_inputs)\n",
    "\n",
    "# 문장의 다음 단어를 예측하기 위해서 초기 상태(initial_state)를 이전 시점의 상태로 사용. 이는 뒤의 함수 decode_sequence()에 구현\n",
    "# 훈련 과정에서와 달리 LSTM의 리턴하는 은닉 상태와 셀 상태인 state_h와 state_c를 버리지 않음.\n",
    "decoder_outputs2, state_h2, state_c2 = decoder_lstm(dec_emb2, initial_state=[decoder_state_input_h, decoder_state_input_c])\n",
    "\n",
    "print('=3')"
   ]
  },
  {
   "cell_type": "code",
   "execution_count": 59,
   "metadata": {},
   "outputs": [
    {
     "name": "stdout",
     "output_type": "stream",
     "text": [
      "=3\n"
     ]
    }
   ],
   "source": [
    "# 어텐션 함수\n",
    "decoder_hidden_state_input = Input(shape=(text_max_len, hidden_size))\n",
    "attn_out_inf = attn_layer([decoder_outputs2, decoder_hidden_state_input])\n",
    "decoder_inf_concat = Concatenate(axis=-1, name='concat')([decoder_outputs2, attn_out_inf])\n",
    "\n",
    "# 디코더의 출력층\n",
    "decoder_outputs2 = decoder_softmax_layer(decoder_inf_concat) \n",
    "\n",
    "# 최종 디코더 모델\n",
    "decoder_model = Model(\n",
    "    [decoder_inputs] + [decoder_hidden_state_input,decoder_state_input_h, decoder_state_input_c],\n",
    "    [decoder_outputs2] + [state_h2, state_c2])\n",
    "\n",
    "print('=3')"
   ]
  },
  {
   "cell_type": "code",
   "execution_count": 60,
   "metadata": {},
   "outputs": [
    {
     "name": "stdout",
     "output_type": "stream",
     "text": [
      "=3\n"
     ]
    }
   ],
   "source": [
    "def decode_sequence(input_seq):\n",
    "    # 입력으로부터 인코더의 상태를 얻음\n",
    "    e_out, e_h, e_c = encoder_model.predict(input_seq)\n",
    "\n",
    "     # <SOS>에 해당하는 토큰 생성\n",
    "    target_seq = np.zeros((1,1))\n",
    "    target_seq[0, 0] = tar_word_to_index['sostoken']\n",
    "\n",
    "    stop_condition = False\n",
    "    decoded_sentence = ''\n",
    "    while not stop_condition: # stop_condition이 True가 될 때까지 루프 반복\n",
    "\n",
    "        output_tokens, h, c = decoder_model.predict([target_seq] + [e_out, e_h, e_c])\n",
    "        sampled_token_index = np.argmax(output_tokens[0, -1, :])\n",
    "        sampled_token = tar_index_to_word[sampled_token_index]\n",
    "\n",
    "        if (sampled_token!='eostoken'):\n",
    "            decoded_sentence += ' '+sampled_token\n",
    "\n",
    "        #  <eos>에 도달하거나 최대 길이를 넘으면 중단.\n",
    "        if (sampled_token == 'eostoken'  or len(decoded_sentence.split()) >= (summary_max_len-1)):\n",
    "            stop_condition = True\n",
    "\n",
    "        # 길이가 1인 타겟 시퀀스를 업데이트\n",
    "        target_seq = np.zeros((1,1))\n",
    "        target_seq[0, 0] = sampled_token_index\n",
    "\n",
    "        # 상태를 업데이트 합니다.\n",
    "        e_h, e_c = h, c\n",
    "\n",
    "    return decoded_sentence\n",
    "print('=3')"
   ]
  },
  {
   "cell_type": "markdown",
   "metadata": {},
   "source": [
    "### 4.3 모델 테스트"
   ]
  },
  {
   "cell_type": "code",
   "execution_count": 71,
   "metadata": {},
   "outputs": [
    {
     "name": "stdout",
     "output_type": "stream",
     "text": [
      "=3\n"
     ]
    }
   ],
   "source": [
    "# 원문의 정수 시퀀스를 텍스트 시퀀스로 변환\n",
    "def seq2text(input_seq):\n",
    "    temp=''\n",
    "    for i in input_seq:\n",
    "        if (i!=0):\n",
    "            temp = temp + src_index_to_word[i]+' '\n",
    "    return temp\n",
    "\n",
    "# 요약문의 정수 시퀀스를 텍스트 시퀀스로 변환\n",
    "def seq2headlines(input_seq):\n",
    "    temp=''\n",
    "    for i in input_seq:\n",
    "        if ((i!=0 and i!=tar_word_to_index['sostoken']) and i!=tar_word_to_index['eostoken']):\n",
    "            temp = temp + tar_index_to_word[i] + ' '\n",
    "    return temp\n",
    "\n",
    "print('=3')"
   ]
  },
  {
   "cell_type": "code",
   "execution_count": 80,
   "metadata": {},
   "outputs": [
    {
     "name": "stdout",
     "output_type": "stream",
     "text": [
      "원문 : total pubs bars gurugram given clean chit metre liquor ban near state national highways include caf delhi heights hard rock caf punjabi nature vapour bar exchange meanwhile status pubs hotels remain scrutiny \n",
      "실제 요약 : bars near highways escape alcohol ban in gurugram \n",
      "예측 요약 :  gurugram civic body to get liquor shops\n",
      "\n",
      "\n",
      "원문 : rti queries revealed brihanmumbai municipal corporation issued notices amitabh bachchan seven others alleged illegal constructions changed main maps make illegal constructions goregaon bungalows rti activist anil said reportedly written letters state cm devendra fadnavis seeking demolition illegal constructions \n",
      "실제 요약 : amitabh bachchan served notice for illegal construction rti \n",
      "예측 요약 :  delhi govt orders probe on strike against\n",
      "\n",
      "\n",
      "원문 : pakistani lashkar taiba terrorist jat escaped police custody tuesday reportedly gunmen started firing outside srinagar hospital taken medical check policeman martyred another injured firing srinagar deputy inspector general ghulam hassan bhat claimed planned militant attack \n",
      "실제 요약 : pakistani militant escapes during srinagar hospital firing \n",
      "예측 요약 :  two terrorists killed in jammu and kashmir\n",
      "\n",
      "\n",
      "원문 : police monday said two modules militant outfit jaish mohammad busted pulwama district jammu kashmir persons arrested huge quantity incriminating material recovered terror module added incriminating material taken case records probe terror crimes said \n",
      "실제 요약 : two jem busted arrested in pulwama police \n",
      "예측 요약 :  police attacks on terror attacks in kashmir\n",
      "\n",
      "\n",
      "원문 : driven former chelsea striker lukaku goal assist manchester united defeated defending champions chelsea premier league sunday lukaku scored united th minute assisting jesse th minute winner manchester united second premier league points behind leaders manchester city \n",
      "실제 요약 : ex chelsea player goal assist helps man utd beat chelsea \n",
      "예측 요약 :  chelsea score in barcelona league league\n",
      "\n",
      "\n",
      "원문 : external affairs minister sushma swaraj thursday assured help group indians stranded china lost group visa please expedite tweeted embassy india china man named bansal tweeted requesting process facilitated faster month old infant group nn \n",
      "실제 요약 : sushma swaraj assures help to indians stranded in china \n",
      "예측 요약 :  sushma swaraj visits sushma swaraj for doklam\n",
      "\n",
      "\n",
      "원문 : indian rupee tanked paise close lifetime low us dollar tuesday rupee opened lower previous close inter bank foreign exchange market domestic currency pressure recent past backdrop surging global crude prices sustained capital \n",
      "실제 요약 : rupee closes at lifetime low of against us dollar \n",
      "예측 요약 :  rupee of rupee low of rupee hits\n",
      "\n",
      "\n",
      "원문 : pakistan army spokesperson major general asif admitted associations terrorist groups country top intelligence agency inter services intelligence however added links necessarily mean support terror organisations added government discussing ways integrate militant linked groups country mainstream politics \n",
      "실제 요약 : pakistan army admits to links between isi terrorist groups \n",
      "예측 요약 :  pak army chief warns of terrorism\n",
      "\n",
      "\n",
      "원문 : plastic surgeons us army centre successfully transplanted new ear year old soldier lost left ear car accident two years ago total ear reconstruction first kind army involved harvesting patient ribs ear placed skin grow \n",
      "실제 요약 : soldier receives transplant from grown on her arm \n",
      "예측 요약 :  tourist who killed in london after days\n",
      "\n",
      "\n",
      "원문 : censor board member ashoke pandit twitter slammed indian cricket team playing pakistan ongoing champions trophy sunday called boycotting match tweeted match insult lost lives pakistan also accused bcci government letting team play \n",
      "실제 요약 : cbfc member slams indian cricket team for playing with pak \n",
      "예측 요약 :  dhoni apologises for playing in pak match\n",
      "\n",
      "\n",
      "원문 : flipkart co founder sachin bansal wanted increase stake alongside bigger operating role commerce startup talks sell majority stake walmart reports claimed however flipkart board members believed bansal led startup collapse following discussion bansal pushed exit \n",
      "실제 요약 : flipkart sachin wanted bigger role but was ousted report \n",
      "예측 요약 :  flipkart to sell flipkart stake in flipkart\n",
      "\n",
      "\n",
      "원문 : islamic state thursday released new audio recording leader abu bakr al baghdadi first communication leader almost year message baghdadi referred north korean threats us japan comes russia claimed june baghdadi may killed russian \n",
      "실제 요약 : isis releases new audio message from leader baghdadi \n",
      "예측 요약 :  venezuela releases footage of isis personnel\n",
      "\n",
      "\n",
      "원문 : indian reported dead injured new york terror attack near world trade center memorial tuesday pm narendra modi also condemned attack shared condolences deceased notably least people killed truck ran pedestrians cyclists bike path \n",
      "실제 요약 : no indian injured in new york terror attack \n",
      "예측 요약 :  killed injured in shooting at us in\n",
      "\n",
      "\n",
      "원문 : shiv sena friday criticised government air india asking government cannot run national carrier going run country slamming selling airline due debt said tomorrow saying cannot afford expenses providing kashmir security administrators may even go sell kashmir \n",
      "실제 요약 : after air india will govt sell kashmir asks shiv sena \n",
      "예측 요약 :  air india will not allow air india\n",
      "\n",
      "\n",
      "원문 : us house representatives tuesday voted approve new sanctions russia interference presidential elections despite president donald trump objecting legislation bill would also levy new sanctions north korea iran nations ballistic missile programs white house officials said reviewing bill \n",
      "실제 요약 : us house approves new sanctions against russia \n",
      "예측 요약 :  us imposes sanctions against trump sanctions\n",
      "\n",
      "\n",
      "원문 : indian women hockey team registered third consecutive win defeating malaysia women hockey asia cup tuesday india kaur found back net win india quarterfinals table toppers nine points \n",
      "실제 요약 : indian women hockey team registers rd straight win \n",
      "예측 요약 :  indian women hockey team wins women in\n",
      "\n",
      "\n",
      "원문 : medical students serving maharashtra remote areas awarded marks entrance tests post graduation courses next academic year marks depend type area served difficult working conditions would mean marks authorities said notably state governments hold power award incentive marks \n",
      "실제 요약 : bonus marks for students serving in maha remote areas \n",
      "예측 요약 :  haryana to start national anthem in schools\n",
      "\n",
      "\n",
      "원문 : indian sprinter johnson broke year old national record fifth place winning performance men sprint cwg saturday year old earlier record margin milliseconds india three medals athletics cwg including neeraj chopra gold javelin throw \n",
      "실제 요약 : india johnson breaks yr old record in cwg final \n",
      "예측 요약 :  boxer wins olympic gold gold in at\n",
      "\n",
      "\n",
      "원문 : length three football pitches blocking section sewage network london metre long ball fat comprising wet oil weighs tonnes weight two airbus aircraft removing one biggest found uk expected take three weeks \n",
      "실제 요약 : the size of football fields blocks london sewer \n",
      "예측 요약 :  video shows banned from plane for\n",
      "\n",
      "\n",
      "원문 : saudi cleric said women deserve drive quarter brain banned religious activity including head fatwas sheikh saad al said women half brain left quarter went shopping matter good muslims \n",
      "실제 요약 : saudi cleric who said women have quarter of brain banned \n",
      "예측 요약 :  saudi arabia bans women from\n",
      "\n",
      "\n",
      "원문 : third committee united nations general assembly monday adopted world body first resolution combat sexual harassment resolution urges countries address discrimination faced women makes vulnerable exploitation violence abuse also encourages states adopt measures eliminate violence sexual harassment digital \n",
      "실제 요약 : un general assembly adopts st resolution on sexual harassment \n",
      "예측 요약 :  un holds first ever religious rights leader\n",
      "\n",
      "\n",
      "원문 : pakistani groom spent nearly lakh pakistani rupees reception outfit outfit included suit worth pakistani rupees gold shoes worth lakh pakistani rupees gold tie worth lakh pakistani rupees discussing gold shoes said wanted tell people wealth like dirt feet \n",
      "실제 요약 : pak groom wears gold shoes spends lakh on entire outfit \n",
      "예측 요약 :  pak arrests pak couple for cr in\n",
      "\n",
      "\n",
      "원문 : comedian vir das appearance american talk show said indian best brown indians white people brown people also gave reasons white women date indians go brown colours let added \n",
      "실제 요약 : indians are the white people of brown people das \n",
      "예측 요약 :  was not to be at after years\n",
      "\n",
      "\n",
      "원문 : abu saad head islamic state afghanistan killed air strike nangarhar province saturday afghan government said strike part operation carried afghan foreign forces targeted two isis per us military estimates nearly isis fighters afghanistan \n",
      "실제 요약 : islamic state afghanistan chief killed in air strike \n",
      "예측 요약 :  killed in saudi led air strike in\n",
      "\n",
      "\n",
      "원문 : trap jaw ants snap spring loaded speeds kmph times faster eye ants hold open degree angle storing elastic energy released trigger muscle snapped half cannot perceived naked eye \n",
      "실제 요약 : ants shut at kmph times faster than eye \n",
      "예측 요약 :  man makes lakh into space\n",
      "\n",
      "\n",
      "원문 : first uk based scientists put precise timings history patient cancer different stages disease research help understand time taken tumours develop spread another site body become doctors said \n",
      "실제 요약 : scientists track st of cancer in patient \n",
      "예측 요약 :  scientists develop brain that can be made\n",
      "\n",
      "\n",
      "원문 : police booked crpf personnel rash driving ran three stone pelting youth one succumbed injuries saturday police also filed case attempt murder rioting unidentified persons crpf said driver trying escape violent mob wanted lynch \n",
      "실제 요약 : fir against crpf driver after jeep runs over kashmiri youth \n",
      "예측 요약 :  police arrest speeding car with accident near\n",
      "\n",
      "\n",
      "원문 : wedding invitation couple madhya pradesh printed format aadhaar card along details wedding invite also messages get aadhaar card made dowry free india campaign card designed bride father wanted raise awareness document importance \n",
      "실제 요약 : mp couple wedding invite after aadhaar card \n",
      "예측 요약 :  wedding in law to be allowed to\n",
      "\n",
      "\n",
      "원문 : private airline pilot go trial allegedly unnatural sex former air hostess carrier delhi high court said rape charges according woman pilot approached months quit court said occasion establish physical relations using position \n",
      "실제 요약 : pilot to face trial in unnatural sex case delhi hc \n",
      "예측 요약 :  united airlines sued for forcing air hostess\n",
      "\n",
      "\n",
      "원문 : cricketer gautam gambhir said one say delhi people abuse others looking virat kohli comes naturally culture way brought competitive edge nothing wrong long kept field said gambhir \n",
      "실제 요약 : looking at me virat can say abuse more gambhir \n",
      "예측 요약 :  bcci to pay for bcci sharma\n",
      "\n",
      "\n",
      "원문 : demand payments platform co founder said company verge shutting earlier year dead broke call kalaari bail us said founded startup allows individuals businesses collect online payments sharing link audience \n",
      "실제 요약 : company was on the of shutting down founder \n",
      "예측 요약 :  snapdeal ceo tim cook to be\n",
      "\n",
      "\n",
      "원문 : canadian smart lighting startup aurora developed triangle shaped led lighting panels let users change colour app add module called plays music also attached panels move light sync music panels also allow users control brightness light \n",
      "실제 요약 : panels to let users change colour via app made \n",
      "예측 요약 :  startup makes smart that can make users\n",
      "\n",
      "\n",
      "원문 : employees markets regulator sebi reportedly written finance ministry opposing transfer surplus funds government claimed move impact regulator autonomy economic affairs secretary sc garg said government expecting crore sebi help increase government non tax revenue \n",
      "실제 요약 : sebi staff oppose transfer of funds to government \n",
      "예측 요약 :  sebi seeks to hike in new york\n",
      "\n",
      "\n",
      "원문 : south korean aircraft carrying passengers escorted stuttgart airport two german military jets saturday evening losing radio contact problem radio equipment switzerland bound flight police said meanwhile passengers forced spend night airport terminal enough hotel beds available \n",
      "실제 요약 : flight loses radio contact by german fighter jets \n",
      "예측 요약 :  air india flight crashes in nepal\n",
      "\n",
      "\n",
      "원문 : brazilian aviation company ceo paulo de souza said network electric aircraft developing uber likely launch commercially souza said engineers projecting one tonne vehicles transport four passengers altitude feet aircraft batteries chargeable five minutes flights souza added \n",
      "실제 요약 : uber electric aircraft likely to launch in \n",
      "예측 요약 :  softbank unveils new ceo car car\n",
      "\n",
      "\n",
      "원문 : manchester united year old attacker marcus scored two goals hand side win rivals liverpool english premier league saturday youngster scored goals within ten minutes first half win united moved five points clear liverpool second place premier league table \n",
      "실제 요약 : yr old scores goals as man utd beat liverpool \n",
      "예측 요약 :  chelsea thrash chelsea to win man utd\n",
      "\n",
      "\n",
      "원문 : former allahabad bank director dinesh dubey said opposed granting crore loan gitanjali gems owned mehul choksi unless repaid earlier loan crore also urged take preventive action companies linked choksi firm dubey added resigned pressurised approve loan \n",
      "실제 요약 : had warned against mehul choksi ex allahabad bank director \n",
      "예측 요약 :  rbi imposes crore loan fraud worth crore\n",
      "\n",
      "\n",
      "원문 : delhi metro rail corporation planning add coaches existing fleet phase iii expansion tackle rush passengers coaches joined make new trains majority used convert coach trains dwarka gurgaon lines coach trains \n",
      "실제 요약 : delhi metro lines to add new coaches to combat \n",
      "예측 요약 :  delhi metro to install sanitary stations to\n",
      "\n",
      "\n",
      "원문 : north carolina lawmakers passed bill repealing state law restricted use public transgender people sex specified birth certificates law resulted businesses boycotting state due discriminatory measure would cost billion losses next years according reports \n",
      "실제 요약 : north its bathroom bill \n",
      "예측 요약 :  us passes bill to allow abortion to\n",
      "\n",
      "\n",
      "원문 : former indian hockey team captain sardar singh registered score points yo yo test score higher reported scores members indian cricket team sardar recently called national team upcoming asian games score points higher virat kohli \n",
      "실제 요약 : sardar yo yo test score higher than team india cricketers \n",
      "예측 요약 :  sachin tendulkar has become youngest to score\n",
      "\n",
      "\n",
      "원문 : india discuss take decision favoured nation status given pakistan mos commerce industry nirmala sitharaman said wednesday earlier day mea spokesperson gopal baglay said status obligation world trade organisation members expected extend \n",
      "실제 요약 : india to most nation status to pak \n",
      "예측 요약 :  india rejects india dialogue to resolve issue\n",
      "\n",
      "\n",
      "원문 : securities appellate tribunal dismissed vijay mallya appeal sebi interim order barred accessing capital markets sebi barred mallya alleged violations listing agreement diversion funds fraud mallya approached sat directive alleging sebi based order two forensic audit reports without investigations \n",
      "실제 요약 : vijay mallya appeal against sebi ban dismissed \n",
      "예측 요약 :  sebi imposes sebi order on mallya idbi\n",
      "\n",
      "\n",
      "원문 : ford deployed golden nose experts smell materials go inside cars sold china remove new car smells car seats stored cloth bags avoid new smell china chemical smells comes society grown air pollution said parts manufacturer \n",
      "실제 요약 : ford hires golden to remove new car \n",
      "예측 요약 :  world smallest highway unveiled\n",
      "\n",
      "\n",
      "원문 : actress aditi rao hydari talking feminism said every human feminist something wrong aditi added feminist upbringing looked upon something unusual said every normal person today feminist feminist considered normal \n",
      "실제 요약 : something wrong with people who are not aditi \n",
      "예측 요약 :  am not to be called by sushant\n",
      "\n",
      "\n",
      "원문 : vicky kaushal said wants responsibility audiences expectations times adding would never want pressure come want go vicky said wants people keep expecting good sign proves concerned affected work said \n",
      "실제 요약 : would never want pressure of to come down vicky \n",
      "예측 요약 :  am not just just about being vicky\n",
      "\n",
      "\n",
      "원문 : india largest drugmaker sun pharmaceutical added crore market capitalisation friday us health regulator recommend action company plant gujarat company shares surged taking total market valuation lakh crore drugmaker faced regulatory scrutiny manufacturing standards violations plant \n",
      "실제 요약 : sun pharma adds crore in market cap in one day \n",
      "예측 요약 :  india largest indian firm adds crore in\n",
      "\n",
      "\n",
      "원문 : facebook planning include video ads messenger app automatically start playing users scroll messages company confirmed ads start rolling june select users company spokesperson said earlier facebook admitted running places run ads news feed \n",
      "실제 요약 : facebook to include video ads in messenger app \n",
      "예측 요약 :  facebook tests feature to prevent ads on\n",
      "\n",
      "\n",
      "원문 : raj wheelchair bound international para athlete claimed slept floor train getting lower berth nagpur delhi garib rath suffers disability allotted upper berth coach reserved handicapped people approached authorities denied request forcing sleep floor \n",
      "실제 요약 : para athlete denied lower sleeps on train floor \n",
      "예측 요약 :  delhi metro coach halted after being stopped\n",
      "\n",
      "\n",
      "원문 : undisclosed assets worth crore detected foreign black money law enacted government said one time compliance opportunity provided foreign assets previously disclosed compliance window closed september declarations involving undisclosed foreign assets worth crore made \n",
      "실제 요약 : assets worth cr detected under foreign black money law \n",
      "예측 요약 :  how much money have lost crore\n",
      "\n",
      "\n",
      "원문 : microsoft announced long standing basic graphics editing program ms paint longer available next windows update called autumn creators update program first released first version windows ms paint removal part microsoft plan shut programs active development \n",
      "실제 요약 : microsoft to shut down ms years after its launch \n",
      "예측 요약 :  microsoft to replace windows phones with microsoft\n",
      "\n",
      "\n",
      "원문 : many block education officers across karnataka issued transfer orders department public instruction list transferred officers released last week put hold mlas alleged corruption process none officials facing allegations corruption list said education minister sait \n",
      "실제 요약 : karnataka education officers transferred \n",
      "예측 요약 :  taka govt to release of padmaavat\n",
      "\n",
      "\n",
      "원문 : china friday threatened impose import tariffs billion worth us goods retaliation tariffs imposed goods us tariffs would target us goods range chinese commerce ministry said imposing tariffs subject actions us \n",
      "실제 요약 : china threatens tariffs on bn us imports amid trade war \n",
      "예측 요약 :  china trade deal with china trade tariffs\n",
      "\n",
      "\n",
      "원문 : hong kong based group agreed buy life insurance unit australia largest bank commonwealth bank australia billion deal would make biggest life insurer australia new zealand million customers team commonwealth bank years deal provide life insurance products \n",
      "실제 요약 : largest australian bank to sell life insurance unit for bn \n",
      "예측 요약 :  sells for ipo to buy sky\n",
      "\n",
      "\n",
      "원문 : video emerged russia shows circus bear made hand match ball referee russian third division football match video also shows bear forced clap standing hind legs handing ball bear use slammed animal welfare organisations \n",
      "실제 요약 : circus bear delivers ball to referee in football match \n",
      "예측 요약 :  russian fans fight with russian fans for\n",
      "\n",
      "\n",
      "원문 : niti aayog ceo amitabh kant said india grow three decades consistently promoting women entrepreneurship key strategy women contribute india gdp worldwide average close added said women well society faces inter cycle malnutrition infant mortality \n",
      "실제 요약 : women entrepreneurs must for india to grow at niti aayog \n",
      "예측 요약 :  india should be among india niti aayog\n",
      "\n",
      "\n",
      "원문 : baaghi director ahmed khan said want shoot film syria iraq requires kind terrain added since shooting places difficult check possibility first start shooting sometime mid next year ahmed said \n",
      "실제 요약 : want to shoot baaghi in syria iraq director ahmed khan \n",
      "예측 요약 :  was not weapons to combat isis weapons\n",
      "\n",
      "\n",
      "원문 : indian army released video warning whatsapp users chinese hackers targeting messaging app extract personal data chinese numbers starting groups video army said last year army warned soldiers posted along line actual control using several applications including whatsapp \n",
      "실제 요약 : chinese hackers targeting whatsapp indian army \n",
      "예측 요약 :  pak launches its own video of its\n",
      "\n",
      "\n",
      "원문 : winter olympics gold silver medal winning figure skating canada france respectively share coach practise rink canada coach trained teams also coached american pair finished th event notably second placed french figure skating duo suffered wardrobe malfunction event \n",
      "실제 요약 : olympic teams with same coach win gold silver medals \n",
      "예측 요약 :  india st cwg champion to win asian\n",
      "\n",
      "\n",
      "원문 : new poster sanjay dutt biopic titled sanju features actor vicky kaushal sanjay best friend released meet vicky kaushal refined actor pure joy work plays sanju best buddy wrote film director rajkumar hirani sharing poster trailer sanju released may \n",
      "실제 요약 : poster of sanju featuring vicky as dutt best friend out \n",
      "예측 요약 :  sanjay dutt to star in sanju poster\n",
      "\n",
      "\n",
      "원문 : us ambassador israel david referred situation palestinian territories alleged occupation israel break us foreign policy israel occupied palestinian territories west bank east jerusalem six day war legal status israeli occupation recognised united nations nnnn \n",
      "실제 요약 : us envoy casts doubt over israeli of palestine \n",
      "예측 요약 :  us to withdraw from jerusalem for jerusalem\n",
      "\n",
      "\n",
      "원문 : china tuesday announced tariffs us goods worth billion retaliation import tariffs imposed products us tariffs levied types us goods take effect september date us tariffs chinese goods come force \n",
      "실제 요약 : china imposes tariffs on bn of us imports \n",
      "예측 요약 :  china trade war with us tariffs\n",
      "\n",
      "\n",
      "원문 : doctors hyderabad government general hospital wearing helmets duty protest unsafe old hospital building could collapse moment constantly worried said hospital joint action committee chairman blocks ceiling patient ward fallen last months injuring patients \n",
      "실제 요약 : doctors wear helmets at unsafe hyderabad hospital building \n",
      "예측 요약 :  hospital doctors go on strike in protest\n",
      "\n",
      "\n",
      "원문 : congress spokesperson randeep surjewala today accused pm narendra modi led government treating issue instant triple talaq political football matter justice muslim women surjewala said government congress request provision attach property men provide compensation affected women following divorce \n",
      "실제 요약 : triple talaq issue is political football for govt congress \n",
      "예측 요약 :  pm modi calls triple talaq bill against\n",
      "\n",
      "\n",
      "원문 : number deaths swine flu mumbai risen cases reported far year according reports notably swine flu deaths reported mumbai meanwhile cases swine flu deaths reported across maharashtra year \n",
      "실제 요약 : swine flu causes deaths in mumbai this year \n",
      "예측 요약 :  killed in due to floods in\n",
      "\n",
      "\n",
      "원문 : first draft national register citizens assam recognised crore people indian citizens verification process rest crore applicants still registrar general india said sunday assam witnessed influx migrants bangladesh became state nrc \n",
      "실제 요약 : assam recognises cr legal citizens in first nrc draft \n",
      "예측 요약 :  govt to spend crore to families of\n",
      "\n",
      "\n",
      "원문 : rbi sell least additional billion support rupee sbi estimated based intervention patterns since india forex reserves fallen peak billion april billion september notably rupee closed fresh low dollar tuesday \n",
      "실제 요약 : rbi can sell another billion to defend rupee sbi \n",
      "예측 요약 :  rbi shares hit bn after merger with\n",
      "\n",
      "\n",
      "원문 : pakistan planning seize financial assets charities run mastermind lashkar taiba founder hafiz saeed according reuters report government plans take jamaat ud dawa charity wing foundation reports added crackdown comes amid us demands pakistan act terrorists \n",
      "실제 요약 : pak plans to seize hafiz saeed financial assets report \n",
      "예측 요약 :  hafiz saeed hafiz saeed to hafiz saeed\n",
      "\n",
      "\n",
      "원문 : ajay devgn whose upcoming film sons based battle saragarhi said salman khan making film subject making film sure made big scale added devgn said need least two years complete film \n",
      "실제 요약 : salman khan is not making battle of ajay devgn \n",
      "예측 요약 :  was not part of ajay devgn film\n",
      "\n",
      "\n",
      "원문 : online sale purchase firecrackers also come supreme court ban sale purchase firecrackers delhi national capital region till november police said temporary licenses sale firecrackers issued every year delhi police also automatically suspended new order delhi police spokesperson madhur verma said \n",
      "실제 요약 : sc ban also applies to online sale of firecrackers police \n",
      "예측 요약 :  ban on sale of vehicles in air\n",
      "\n",
      "\n",
      "원문 : former maharashtra chief minister narayan rane sunday announced formation new political party maharashtra rane quit congress last week said political outfit work towards overall inclusive development state setting party shall decide future course including nda rane added \n",
      "실제 요약 : former congress leader narayan new party \n",
      "예측 요약 :  will not contest new york cm dy\n",
      "\n",
      "\n",
      "원문 : ancient mammals started becoming active daytime around million years ago years dinosaurs went extinct uk based study genetic data present day mammals probably among first come dark dinosaurs absence however transition lifestyle would taken millions years others \n",
      "실제 요약 : dinosaur extinction made mammals more active in day study \n",
      "예측 요약 :  years since years ago\n",
      "\n",
      "\n",
      "원문 : passengers rescued saturday bus broke due waterlogging bridge near hanuman mandir delhi yamuna bazar rescue operations conducted local administration police fire service officials pumped water street waterlogging reported several areas delhi following heavy rainfall \n",
      "실제 요약 : rescued after delhi bus breaks down due to \n",
      "예측 요약 :  injured as bus falls into gorge in\n",
      "\n",
      "\n",
      "원문 : passenger travelling first class kicked recent american airlines flight attempting free drinks friends economy class air hostess tried intervene passenger continued trying drinks friends following manager intervened stating customer caused disruption boarding process \n",
      "실제 요약 : first class flyer kicked off for drinks to economy \n",
      "예측 요약 :  passenger flight found inside delhi airport\n",
      "\n",
      "\n",
      "원문 : underworld dawood ibrahim suffering depression son nawaz kaskar chosen become maulana police officials said understood deadly father illegal activities thane anti extortion cell head pradeep sharma said dawood younger brother revealed worried handle underworld empire future \n",
      "실제 요약 : dawood depressed over only son becoming police \n",
      "예측 요약 :  dawood ibrahim brother to be held in\n",
      "\n",
      "\n",
      "원문 : actor said feels deliberately sidelined mainstream filmmakers adding know feel ignored talk filmmakers especially mainstream ones ask give work added said got time film \n",
      "실제 요약 : feel deliberately by directors \n",
      "예측 요약 :  do not need to do films films\n",
      "\n",
      "\n",
      "원문 : makers hollywood film apologised indian culture film trailer deeply regret caused trailer movie american going abroad solve india problems said statement comes trailer criticised social media indian culture \n",
      "실제 요약 : makers apologise for india \n",
      "예측 요약 :  not part of the indian film says\n",
      "\n",
      "\n",
      "원문 : turkish president recep tayyip erdo warned us recognising jerusalem israel capital would red line muslims comes reports suggested us would relocate embassy tel aviv jerusalem move would formally recognise jerusalem capital israel palestine claim jerusalem capital \n",
      "실제 요약 : jerusalem recognition red line for muslims turkey warns us \n",
      "예측 요약 :  turkish prez calls for jerusalem move to\n",
      "\n",
      "\n",
      "원문 : lynching deputy sp mohammed srinagar captured video bought destroyed state government fear public repercussions top state official reportedly said official added video content violent deputy arms legs bent broken like someone breaks sugarcane eating \n",
      "실제 요약 : govt bought and destroyed cop lynching video report \n",
      "예측 요약 :  army plans to stop guns from\n",
      "\n",
      "\n",
      "원문 : cast lipstick burkha including ratna shah konkona sen sharma shared pictures showing middle finger lipstick promote film film initially refused certification censor board lady oriented later passed support film directed alankrita shrivastava \n",
      "실제 요약 : cast show middle finger to promote lipstick under my burkha \n",
      "예측 요약 :  kangana to play cannes in film festival\n",
      "\n",
      "\n",
      "원문 : japanese carmaker nissan asked staff avoid contact ousted chairman carlos ghosn former director greg kelly currently facing probe allegedly reporting ghosn compensation million automaker also directed staff report attempted contact company legal department \n",
      "실제 요약 : nissan asks staff to not contact fired chairman carlos ghosn \n",
      "예측 요약 :  infosys chief resigns from court for\n",
      "\n",
      "\n",
      "원문 : legendary australian batsman donald bradman scored test runs average came bat last time august bradman bowled duck googly english spinner last innings finished four short runs record average \n",
      "실제 요약 : bradman before last test ended with \n",
      "예측 요약 :  player scores in innings innings still runs\n",
      "\n",
      "\n",
      "원문 : freedom fighter designer indian flag born august saffron green flag design received inputs mahatma gandhi lala hansraj suggested white strip dharma chakra respectively notably postage stamp issued honour contributions freedom struggle \n",
      "실제 요약 : designer of the indian flag was born on this day \n",
      "예측 요약 :  what are the honorary honorary honorary honorary\n",
      "\n",
      "\n",
      "원문 : income tax department detected high value transactions amounting lakh crore fiscal according reports value transactions increased six times compared crore number transactions detected stood lakh three times higher transactions \n",
      "실제 요약 : detects lakh cr high value transactions \n",
      "예측 요약 :  government hikes crore cap in fy\n",
      "\n",
      "\n",
      "원문 : us jury agreed count gif deadly weapon case man tweeted seizure causing flashing image journalist epilepsy man john charged aggravated assault deadly weapon tweet sent december also text deserve seizure post \n",
      "실제 요약 : gif decided to be weapon by us jury \n",
      "예측 요약 :  russia suspends journo over murder of suspects\n",
      "\n",
      "\n",
      "원문 : slamming rahul gandhi calling gst gabbar singh tax union minister giriraj singh friday said gandhi making mistake body language resembled character gabbar singh behind closed doors finance ministers extend support gst outside term gabbar singh tax double standards added \n",
      "실제 요약 : rahul body language like singh union minister \n",
      "예측 요약 :  gst will be used to be sonia\n",
      "\n",
      "\n",
      "원문 : former finance minister congress leader chidambaram said indian economy bomb jobless growth calling farm output jobs infant mortality literacy exports real indicators health economy said afraid indicators good \n",
      "실제 요약 : growth is bomb says chidambaram \n",
      "예측 요약 :  chidambaram has not rupee of the economy\n",
      "\n",
      "\n",
      "원문 : real madrid playing without suspended cristiano ronaldo registered win real la liga sunday win defending champions real came consecutive league draws notably los scored every match played last months last failing score manchester city april \n",
      "실제 요약 : ronaldo less real madrid register victory \n",
      "예측 요약 :  ronaldo scores as real madrid madrid draw\n",
      "\n",
      "\n",
      "원문 : talking half sister janhvi kapoor upcoming debut film dhadak actor arjun kapoor said hope expectations dhadak adding janhvi wants good work arjun said someone passionate wants entertain audience work \n",
      "실제 요약 : hope janhvi from her for dhadak arjun \n",
      "예측 요약 :  janhvi is like janhvi on janhvi debut\n",
      "\n",
      "\n",
      "원문 : south korean electronics company lg filed trademark application three names flexi could possibly used upcoming smartphones ceo earlier said company working foldable smartphone comes samsung recently unveiled first ever foldable smartphone prototype small tablet \n",
      "실제 요약 : after samsung foldable phone lg \n",
      "예측 요약 :  us files patent for foldable foldable smartphone\n",
      "\n",
      "\n",
      "원문 : hundreds third year bachelor arts students university mumbai complained marked absent exams appeared april results withheld almost every city college received complaints ba psychology ba literature students university officials reportedly blamed error technical glitch \n",
      "실제 요약 : several students who gave mumbai varsity exams \n",
      "예측 요약 :  students fail to be made in exams\n",
      "\n",
      "\n",
      "원문 : united breweries limited reported year year jump standalone net profit crore march quarter compared crore quarter last fiscal company revenue operations increased crore quarter shares united breweries surged nearly morning trade friday \n",
      "실제 요약 : united profit up to cr in march quarter \n",
      "예측 요약 :  profit rises to crore in june quarter\n",
      "\n",
      "\n",
      "원문 : google reportedly confirmed system human voice tell users call recorded booking appointments online earlier company also clarified digital assistant identify humans calls comes concerns raised ethical implications technology developed \n",
      "실제 요약 : google human ai may warn users of call recording \n",
      "예측 요약 :  google admits to let users report\n",
      "\n",
      "\n",
      "원문 : bjp mp subramanian swamy friday withdrew cow protection bill sought capital punishment cow slaughter agriculture minister singh urged swamy withdraw bill stating government working towards protection promotion cows swamy proposed voluntary cess ensure cows protected even stop providing milk \n",
      "실제 요약 : swamy withdraws bill seeking death penalty for cow slaughter \n",
      "예측 요약 :  govt to provide citizenship to cow slaughter\n",
      "\n",
      "\n",
      "원문 : cctv footage revealed year old man standing platform pushed local train two people mumbai government railway police official said man argument duo following pushed onto railway tracks run train \n",
      "실제 요약 : man standing on mumbai platform pushed to death before train \n",
      "예측 요약 :  man stabs neighbour for train accident in\n",
      "\n",
      "\n",
      "원문 : actress tanushree dutta said wants bollywood come forward say work actor nana patekar understood agreed people believe next hashtag work nana patekar added tanushree said bollywood also work three others including choreographer ganesh acharya \n",
      "실제 요약 : next hashtag should be will not work with nana tanushree \n",
      "예측 요약 :  twinkle defends nana patekar for nana khanna\n",
      "\n",
      "\n",
      "원문 : italian footballer antonio announced retirement second time week joining newly promoted side two weeks back year old joined july announced retirement week reversing hours later retired monday said priority close wife children \n",
      "실제 요약 : italian footballer retires returns retires again in week \n",
      "예측 요약 :  ex footballer who retired grand slam\n",
      "\n",
      "\n",
      "원문 : congress president rahul gandhi friday slammed prime minister narendra modi increase indian money deposited swiss bank said bring back black money said demonetisation cure india black money says jump swiss bank deposits indians white money rahul tweeted \n",
      "실제 요약 : rahul slams pm modi over rise in swiss bank deposits \n",
      "예측 요약 :  pm modi did not want to rahul\n",
      "\n",
      "\n",
      "원문 : shiv sena mp sanjay raut tuesday said even though bjp coming power gujarat real winner congress may lost defeated bjp added bjp deprived poor pockets demonetisation result seen gujarat raut told media \n",
      "실제 요약 : congress is real winner in gujarat shiv sena mp \n",
      "예측 요약 :  bjp has become biggest of in india\n",
      "\n",
      "\n",
      "원문 : lionel messi scored hat trick also creating two goals side win la liga sunday messi first hat trick season st hat trick la liga messi collect record fifth golden shoe trophy europe highest goal scorer monday \n",
      "실제 요약 : messi scores hat trick and creates goals in barca win \n",
      "예측 요약 :  ronaldo equals hat trick as real madrid\n",
      "\n",
      "\n",
      "원문 : us based retail giant walmart advanced talks buy significant minority stake indian commerce giant flipkart according reports walmart could buy stake startup walmart ceo doug mcmillon led delegation visited flipkart bengaluru office last week deal could finalised march reports suggested \n",
      "실제 요약 : walmart planning to buy stake in flipkart report \n",
      "예측 요약 :  walmart to buy flipkart stake in flipkart\n",
      "\n",
      "\n"
     ]
    }
   ],
   "source": [
    "for i in range(0, 100):\n",
    "    print(\"원문 :\", seq2text(encoder_input_test[i]))\n",
    "    print(\"실제 요약 :\", seq2headlines(decoder_input_test[i]))\n",
    "    print(\"예측 요약 :\", decode_sequence(encoder_input_test[i].reshape(1, text_max_len)))\n",
    "    print(\"\\n\")"
   ]
  },
  {
   "cell_type": "markdown",
   "metadata": {},
   "source": [
    "## 5. Summa을 이용해서 추출적 요약해보기"
   ]
  },
  {
   "cell_type": "code",
   "execution_count": 63,
   "metadata": {},
   "outputs": [],
   "source": [
    "# 데이터 다운로드 하기\n",
    "import requests\n",
    "from summa.summarizer import summarize"
   ]
  },
  {
   "cell_type": "code",
   "execution_count": 64,
   "metadata": {},
   "outputs": [],
   "source": [
    "# 매트릭스 시놉시스 다운로드\n",
    "text = requests.get('http://rare-technologies.com/the_matrix_synopsis.txt').text"
   ]
  },
  {
   "cell_type": "code",
   "execution_count": 65,
   "metadata": {},
   "outputs": [
    {
     "name": "stdout",
     "output_type": "stream",
     "text": [
      "The screen is filled with green, cascading code which gives way to the title, The Matrix.\n",
      "\n",
      "A phone rings and text appears on the screen: \"Call trans opt: received. 2-19-98 13:24:18 REC: Log>\" As a conversation takes place between Trinity (Carrie-Anne Moss) and Cypher (Joe Pantoliano), two free humans, a table of random green numbers are being scanned and individual numbers selected, creating a series of digits not unlike an ordinary phone number, as if a code is being deciphered or a call is being traced.\n",
      "\n",
      "Trinity discusses some unknown person. Cypher taunts Trinity, suggesting she enjoys watching him. Trinity counters that \"Morpheus (Laurence Fishburne) says he may be 'the One',\" just as the sound of a number being selected alerts Trinity that someone may be tracing their call. She ends the call.\n",
      "\n",
      "Armed policemen move down a darkened, decrepit hallway in the Heart O' the City Hotel, their flashlight beam bouncing just ahead of them. They come to room 303, kick down the door and find a woman dressed in black, facing away from them. It's Trinity. She brings her hands up from the laptop she's working on at their command.\n",
      "\n",
      "Outside the hotel a car drives up and three agents appear in neatly pressed black suits. They are Agent Smith (Hugo Weaving), Agent Brown (Paul Goddard), and Agent Jones (Robert Taylor). Agent Smith and the presiding police lieutenant argue. Agent Smith admonishes the policeman that they were given specific orders to contact the agents first, for their\n"
     ]
    }
   ],
   "source": [
    "# 일부만 출력하여 상태확인\n",
    "print(text[:1500])"
   ]
  },
  {
   "cell_type": "code",
   "execution_count": 69,
   "metadata": {},
   "outputs": [
    {
     "name": "stdout",
     "output_type": "stream",
     "text": [
      "Summary:\n",
      "Morpheus, Trinity, Neo, Apoc, Switch, Mouse and Cypher are jacked into the Matrix.\n",
      "Trinity brings the helicopter down to the floor that Morpheus is on and Neo opens fire on the three Agents.\n"
     ]
    }
   ],
   "source": [
    "'''\n",
    "summa의 summarize는 내부적으로 문장 토큰화를 수행함. \n",
    "그렇기 때문에 문장 구분이 되어있지 않은 원문을 바로 입력으로 넣을 수 있음\n",
    "원문의 0.005%만을 출력하도록 비율을 적게 주어서 요약문으로 선택되는 문장의 개수를 줄임\n",
    "'''\n",
    "print('Summary:')\n",
    "print(summarize(text, ratio=0.005))"
   ]
  },
  {
   "cell_type": "code",
   "execution_count": 67,
   "metadata": {},
   "outputs": [
    {
     "name": "stdout",
     "output_type": "stream",
     "text": [
      "Summary:\n",
      "['Morpheus, Trinity, Neo, Apoc, Switch, Mouse and Cypher are jacked into the Matrix.', 'Trinity brings the helicopter down to the floor that Morpheus is on and Neo opens fire on the three Agents.']\n"
     ]
    }
   ],
   "source": [
    "# 리스트로 출력 결과를 받고 싶다면 split 인자의 값을 True로 설정\n",
    "print('Summary:')\n",
    "print(summarize(text, ratio=0.005, split=True))"
   ]
  },
  {
   "cell_type": "code",
   "execution_count": 70,
   "metadata": {},
   "outputs": [
    {
     "name": "stdout",
     "output_type": "stream",
     "text": [
      "Summary:\n",
      "Trinity takes Neo to Morpheus.\n",
      "Morpheus, Trinity, Neo, Apoc, Switch, Mouse and Cypher are jacked into the Matrix.\n",
      "Trinity brings the helicopter down to the floor that Morpheus is on and Neo opens fire on the three Agents.\n"
     ]
    }
   ],
   "source": [
    "# 단어의 수로 요약문의 크기 조절도 가능함\n",
    "print('Summary:')\n",
    "print(summarize(text, words=50))"
   ]
  },
  {
   "cell_type": "code",
   "execution_count": 77,
   "metadata": {},
   "outputs": [],
   "source": [
    "org_data = pd.read_csv('news_summary_more.csv', encoding='iso-8859-1')"
   ]
  },
  {
   "cell_type": "code",
   "execution_count": 78,
   "metadata": {},
   "outputs": [
    {
     "name": "stdout",
     "output_type": "stream",
     "text": [
      "원문 : Saurav Kant, an alumnus of upGrad and IIIT-B's PG Program in Machine learning and Artificial Intelligence, was a Sr Systems Engineer at Infosys with almost 5 years of work experience. The program and upGrad's 360-degree career support helped him transition to a Data Scientist at Tech Mahindra with 90% salary hike. upGrad's Online Power Learning has powered 3 lakh+ careers.\n",
      "실제 요약 : upGrad learner switches to career in ML & Al with 90% salary hike\n",
      "예측 요약 : upGrad's Online Power Learning has powered 3 lakh+ careers.\n",
      "\n",
      "\n",
      "원문 : Kunal Shah's credit card bill payment platform, CRED, gave users a chance to win free food from Swiggy for one year. Pranav Kaushik, a Delhi techie, bagged this reward after spending 2000 CRED coins. Users get one CRED coin per rupee of bill paid, which can be used to avail rewards from brands like Ixigo, BookMyShow, UberEats, Cult.Fit and more.\n",
      "실제 요약 : Delhi techie wins free food from Swiggy for one year on CRED\n",
      "예측 요약 : Users get one CRED coin per rupee of bill paid, which can be used to avail rewards from brands like Ixigo, BookMyShow, UberEats, Cult.Fit and more.\n",
      "\n",
      "\n",
      "원문 : New Zealand defeated India by 8 wickets in the fourth ODI at Hamilton on Thursday to win their first match of the five-match ODI series. India lost an international match under Rohit Sharma's captaincy after 12 consecutive victories dating back to March 2018. The match witnessed India getting all out for 92, their seventh lowest total in ODI cricket history.\n",
      "실제 요약 : New Zealand end Rohit Sharma-led India's 12-match winning streak\n",
      "예측 요약 : The match witnessed India getting all out for 92, their seventh lowest total in ODI cricket history.\n",
      "\n",
      "\n",
      "원문 : With Aegon Life iTerm Insurance plan, customers can enjoy tax benefits on your premiums paid and save up to Ã¢ÂÂ¹46,800^ on taxes. The plan provides life cover up to the age of 100 years. Also, customers have options to insure against Critical Illnesses, Disability and Accidental Death Benefit Rider with a life cover up to the age of 80 years.\n",
      "실제 요약 : Aegon life iTerm insurance plan helps customers save tax\n",
      "예측 요약 : Also, customers have options to insure against Critical Illnesses, Disability and Accidental Death Benefit Rider with a life cover up to the age of 80 years.\n",
      "\n",
      "\n",
      "원문 : Speaking about the sexual harassment allegations against Rajkumar Hirani, Sonam Kapoor said, \"I've known Hirani for many years...What if it's not true, the [#MeToo] movement will get derailed.\" \"In the #MeToo movement, I always believe a woman. But in this case, we need to reserve our judgment,\" she added. Hirani has been accused by an assistant who worked in 'Sanju'.\n",
      "실제 요약 : Have known Hirani for yrs, what if MeToo claims are not true: Sonam\n",
      "예측 요약 : Speaking about the sexual harassment allegations against Rajkumar Hirani, Sonam Kapoor said, \"I've known Hirani for many years...What if it's not true, the [#MeToo] movement will get derailed.\" \"In the #MeToo movement, I always believe a woman.\n",
      "\n",
      "\n",
      "원문 : Pakistani singer Rahat Fateh Ali Khan has denied receiving any notice from the Enforcement Directorate over allegedly smuggling foreign currency out of India. \"It would have been better if the authorities would have served the notice first if any and then publicised this,\" reads a press release issued on behalf of Rahat. The statement further called the allegation \"bizarre\".\n",
      "실제 요약 : Rahat Fateh Ali Khan denies getting notice for smuggling currency\n",
      "예측 요약 : Pakistani singer Rahat Fateh Ali Khan has denied receiving any notice from the Enforcement Directorate over allegedly smuggling foreign currency out of India.\n",
      "\n",
      "\n",
      "원문 : India recorded their lowest ODI total in New Zealand after getting all out for 92 runs in 30.5 overs in the fourth ODI at Hamilton on Thursday. Seven of India's batsmen were dismissed for single-digit scores, while their number ten batsman Yuzvendra Chahal top-scored with 18*(37). India's previous lowest ODI total in New Zealand was 108.\n",
      "실제 요약 : India get all out for 92, their lowest ODI total in New Zealand\n",
      "예측 요약 : India's previous lowest ODI total in New Zealand was 108.\n",
      "\n",
      "\n",
      "원문 : Weeks after ex-CBI Director Alok Verma told the Department of Personnel and Training to consider him retired, the Home Ministry asked him to join work on the last day of his fixed tenure as Director on Thursday. The ministry directed him to immediately join as DG, Fire Services, the post he was transferred to after his removal as CBI chief.\n",
      "실제 요약 : Govt directs Alok Verma to join work 1 day before his retirement\n",
      "예측 요약 : \n",
      "\n",
      "\n",
      "원문 : Andhra Pradesh CM N Chandrababu Naidu has said, \"When I met then US President Bill Clinton, I addressed him as Mr Clinton, not as 'sir'. (PM Narendra) Modi is my junior in politics...I addressed him as sir 10 times.\" \"I did this...to satisfy his ego in the hope that he will do justice to the state,\" he added.\n",
      "실제 요약 : Called PM Modi 'sir' 10 times to satisfy his ego: Andhra CM\n",
      "예측 요약 : \n",
      "\n",
      "\n",
      "원문 : Congress candidate Shafia Zubair won the Ramgarh Assembly seat in Rajasthan, by defeating BJP's Sukhwant Singh with a margin of 12,228 votes in the bypoll. With this victory, Congress has taken its total to 100 seats in the 200-member assembly. The election to the Ramgarh seat was delayed due to the death of sitting MLA and BSP candidate Laxman Singh.\n",
      "실제 요약 : Cong wins Ramgarh bypoll in Rajasthan, takes total to 100 seats\n",
      "예측 요약 : Congress candidate Shafia Zubair won the Ramgarh Assembly seat in Rajasthan, by defeating BJP's Sukhwant Singh with a margin of 12,228 votes in the bypoll.\n",
      "\n",
      "\n",
      "원문 : Two minor cousins in Uttar Pradesh's Gorakhpur were allegedly repeatedly burnt with tongs and forced to eat human excreta by their family for being friends with two boys from the same school. The cousins revealed their ordeal to the police and Child Welfare Committee after being brought back to Gorakhpur from Nepal, where they had fled to escape the torture.\n",
      "실제 요약 : UP cousins fed human excreta for friendship with boys\n",
      "예측 요약 : \n",
      "\n",
      "\n",
      "원문 : Isha Ghosh, an 81-year-old member of Bharat Scouts and Guides (BSG), has been imparting physical and mental training to schoolchildren in Jharkhand for several decades. Chaibasa-based Ghosh reportedly walks seven kilometres daily and spends eight hours conducting physical training, apart from climbing and yoga sessions. She says, \"One should do something for society till one's last breath.\"\n",
      "실제 요약 : 81-yr-old woman conducts physical training in J'khand schools\n",
      "예측 요약 : Isha Ghosh, an 81-year-old member of Bharat Scouts and Guides (BSG), has been imparting physical and mental training to schoolchildren in Jharkhand for several decades.\n",
      "\n",
      "\n",
      "원문 : Urging saints and seers at the Kumbh Mela to quit smoking, Yoga guru Ramdev said, \"We follow Ram and Krishna who never smoked in their life then why should we?\" Making them take a pledge to quit tobacco, he collected chillum (clay pipe) from several sadhus. He said he will deposit the chillums for display at a museum he'll build.\n",
      "실제 요약 : Ram, Krishna didn't smoke, why should we: Ramdev to sadhus at Kumbh\n",
      "예측 요약 : \n",
      "\n",
      "\n",
      "원문 : Former stripper and regional sales director of a pharmaceutical company, Sunrise Lee, gave a doctor a lap dance in a nightclub to persuade him to prescribe an addictive fentanyl spray in 2012, the company's sales representative told a US court. She said she saw Lee \"sitting on [doctor's] lap, kind of bouncing around.\" Lee has been accused of bribing doctors.\n",
      "실제 요약 : Pharma exec gave doctor a lap dance to sell medicine in US: Witness\n",
      "예측 요약 : \n",
      "\n",
      "\n",
      "원문 : Reliance Industries' Chairman Mukesh Ambani's daughter Isha Ambani, who got married last month, said she only cried at her 'bidaai' because she felt peer pressure as everyone was crying, especially her parents. \"I was emotional too but everyone around me would cry all the time,\" she added. \"It was a very emotional affair for everyone in my family,\" said Isha.\n",
      "실제 요약 :  I only cried at my 'bidaai' as I felt peer pressure: Isha Ambani\n",
      "예측 요약 : \"It was a very emotional affair for everyone in my family,\" said Isha.\n",
      "\n",
      "\n",
      "원문 : Louis Vuitton owner LVMH, which makes high-end beverages like MoÃÂ«t & Chandon champagne and Hennessy cognac, said it's stockpiling four months' worth of wine and spirits in UK in preparation for Brexit. \"We're ready for worst case scenario if there are difficulties with deliveries,\" the French luxury giant said. The UK is scheduled to leave the EU on March 29.\n",
      "실제 요약 : Louis Vuitton owner to stockpile 4 months of wine, spirits in UK\n",
      "예측 요약 : Louis Vuitton owner LVMH, which makes high-end beverages like MoÃÂ«t & Chandon champagne and Hennessy cognac, said it's stockpiling four months' worth of wine and spirits in UK in preparation for Brexit.\n",
      "\n",
      "\n",
      "원문 : Filmmaker Karan Johar and actress Tabu turned showstoppers for Gaurav Gupta on the opening night of LakmÃÂ© Fashion Week Summer/ Resort 2019. While Johar wore a red sequinned jacket with black pants, Tabu walked the ramp in a grey embellished gown. The fashion show, which began on January 29, will continue till February 3.\n",
      "실제 요약 : Karan Johar, Tabu turn showstoppers on opening night of LFW\n",
      "예측 요약 : Filmmaker Karan Johar and actress Tabu turned showstoppers for Gaurav Gupta on the opening night of LakmÃÂ© Fashion Week Summer/ Resort 2019.\n",
      "\n",
      "\n",
      "원문 : In a jibe at Congress President Rahul Gandhi, PM Narendra Modi on Wednesday said those on \"bail will have to go to jail.\" PM Modi added, \"He is out on bail and his associates too are facing charges...I know they will be convicted one day.\" The PM claimed he'd waged a war on corruption because he's from a common household. \n",
      "실제 요약 : Those on bail will go to jail: PM Modi takes jibe at Rahul\n",
      "예측 요약 : \n",
      "\n",
      "\n",
      "원문 : Days after he threatened to step down from his post if Congress MLAs continue \"crossing the line,\" Karnataka Chief Minister HD Kumaraswamy accused them of taking potshots and asked, \"How many more days can I tolerate such stuff?\" Kumaraswamy, who made the statements after a Congress MLA demanded that Siddaramaiah be made CM again, said, \"Power is ephemeral.\"\n",
      "실제 요약 : How long can I tolerate Congress leaders' potshots: K'taka CM\n",
      "예측 요약 : \n",
      "\n",
      "\n",
      "원문 : Union Minister Dharmendra Pradhan on Wednesday claimed the illegal mining mafia in Odisha operates under the control of CM Naveen Patnaik and state Congress chief Niranjan Patnaik. He added, \"The time has come for the people of Odisha to put a full stop to their activities...The time has come for us to ask for an explanation from this corrupt government.\"\n",
      "실제 요약 : Odisha CM Patnaik controls mining mafia: Union Minister\n",
      "예측 요약 : \n",
      "\n",
      "\n",
      "원문 : Claiming there is a dearth of ideas among opposition parties, Prime Minister Narendra Modi on Wednesday said, \"The opposition talks only about Modi the whole day, I suspect they even dream about me.\" PM Modi, who was addressing the New India Youth Conclave inÃ¢ÂÂ Surat, added that the opposition parties have only one agenda which is \"Modi\". \n",
      "실제 요약 : I think the opposition even dreams about me: PM Modi\n",
      "예측 요약 : \n",
      "\n",
      "\n",
      "원문 : The Indian Space Research Organisation on Wednesday unveiled Human Space Flight Centre in Bengaluru for its Ã¢ÂÂ¹10,000-crore manned space mission 'Gaganyaan' scheduled for 2021. ISRO said the centre will be responsible for development of engineering systems for crew survival in space and crew selection and training. It'll also pursue activities for sustained human space flight missions, ISRO added.\n",
      "실제 요약 : ISRO unveils Bengaluru centre for manned space mission \n",
      "예측 요약 : It'll also pursue activities for sustained human space flight missions, ISRO added.\n",
      "\n",
      "\n",
      "원문 : At least 12 people have been killed and 170 others have been injured in Saudi Arabia this week due to flooding from heavy rain. The emergency services rescued 271 people from the flooded areas, more than half of them in Tabuk. Heavy rains hit mainly western and northwestern parts of Saudi Arabia, near its border with Jordan.\n",
      "실제 요약 : 12 killed, 170 injured in Saudi Arabia floods\n",
      "예측 요약 : At least 12 people have been killed and 170 others have been injured in Saudi Arabia this week due to flooding from heavy rain.\n",
      "\n",
      "\n",
      "원문 : Reliance Industries' Chairman Mukesh Ambani's daughter Isha Ambani has featured on the cover of the February edition of Vogue India. She's dressed in a white shirt dress and black ruffled skirt by Australian designer Toni Maticevski, while accessorising her look with a Misho ring. In the cover story on her, Isha has spoken about her work and life after marriage.\n",
      " \n",
      "실제 요약 : Isha Ambani features on February cover of Vogue magazine\n",
      "예측 요약 : Reliance Industries' Chairman Mukesh Ambani's daughter Isha Ambani has featured on the cover of the February edition of Vogue India.\n",
      "\n",
      "\n",
      "원문 : Indian Oil Corporation on Wednesday said it's looking for an annual deal to buy US crude as it seeks to broaden oil purchasing options. This comes amid uncertainties over Iran imports. The US had in November granted a six-month waiver to India from sanctions against Iran and restricted the country's monthly intake of Iranian oil to 3,00,000 barrels per day.\n",
      "\n",
      "\n",
      "실제 요약 : Indian Oil looking for annual deal to buy crude from US\n",
      "예측 요약 : The US had in November granted a six-month waiver to India from sanctions against Iran and restricted the country's monthly intake of Iranian oil to 3,00,000 barrels per day.\n",
      "\n",
      "\n",
      "원문 : Former Windies fast bowler Curtly Ambrose dismissed seven Australian batsmen within a span of 32 balls giving away just one run, in a Test match on January 30, 1993. Ambrose's spell helped his team bowl out Australia for 119 in the first innings, after being 85 for 2 at one point. Ambrose ended with first-innings figures of 18-9-25-7.\n",
      "실제 요약 : Pacer once took 7 wickets for just 1 run in 32 balls in a Test\n",
      "예측 요약 : Ambrose ended with first-innings figures of 18-9-25-7.\n",
      "\n",
      "\n",
      "원문 : A London zoo is offering people to name a cockroach after their exes on Valentine's Day for ÃÂ£1.50 (nearly Ã¢ÂÂ¹140). \"For those that don't quite require revenge, there's another way to make you feel better about getting back at your ex,\" the zoo said in a statement. The names will appear on zoo's 'roach board' on February 14. \n",
      "실제 요약 : UK zoo offers people to name cockroach after their ex on Valentine's\n",
      "예측 요약 : The names will appear on zoo's 'roach board' on February 14.\n",
      "\n",
      "\n",
      "원문 : Stand-in captain Rohit Sharma has become the 14th Indian cricketer to play 200 ODIs, achieving the feat after taking the field against New Zealand in fourth ODI at Hamilton on Thursday. The 31-year-old had made his ODI debut on June 23, 2007, against Ireland in Belfast. Rohit scored 7,799 runs in his first 199 ODIs at an average of 48.14.\n",
      "실제 요약 : Rohit Sharma becomes 14th Indian cricketer to play 200 ODIs\n",
      "예측 요약 : Rohit scored 7,799 runs in his first 199 ODIs at an average of 48.14.\n",
      "\n",
      "\n",
      "원문 : Batsman Shubman Gill has become the 227th cricketer to represent India in ODI cricket, achieving the feat against New Zealand in the fourth ODI at Hamilton on Thursday. The 19-year-old received his maiden ODI cap from former captain MS Dhoni. Notably, Shubman was named Player of the Under-19 World Cup in New Zealand last year.\n",
      "실제 요약 : 19-year-old Shubman Gill becomes India's 227th ODI cricketer\n",
      "예측 요약 : Notably, Shubman was named Player of the Under-19 World Cup in New Zealand last year.\n",
      "\n",
      "\n",
      "원문 : Investigators searching for a lost plane carrying Argentine forward Emiliano Sala found two seat cushions on French coast that \"likely\" belonged to the aircraft. The investigators said they'll now launch an underwater seabed search for aircraft wreckage. The Cardiff City footballer was travelling from France's Nantes to Wales' Cardiff when his plane disappeared over English Channel on January 21.\n",
      "실제 요약 : 2 seat cushions from 'missing plane carrying footballer' found\n",
      "예측 요약 : Investigators searching for a lost plane carrying Argentine forward Emiliano Sala found two seat cushions on French coast that \"likely\" belonged to the aircraft.\n",
      "\n",
      "\n",
      "원문 : Italian third division football side Lucchese's head coach Giancarlo Favarin has been banned for five months for headbutting Alessandria's assistant coach Gaetano Mancino during a brawl following the teams' 2-2 draw on Sunday. Mancino was caught off-balance and knocked to the ground after the headbutt. Earlier in the match, Favarin had told his own player to break an opponent's legs.\n",
      "실제 요약 : Italian coach knocks rival down with headbutt, banned for 5 months\n",
      "예측 요약 : Italian third division football side Lucchese's head coach Giancarlo Favarin has been banned for five months for headbutting Alessandria's assistant coach Gaetano Mancino during a brawl following the teams' 2-2 draw on Sunday.\n",
      "\n",
      "\n",
      "원문 : Cyclists taking part in National Track Cycling Championship in Jaipur opted to sleep on the floor inside the stadium instead of hotels over expensive cycles. The organisers had booked hotels but they didn't have the provision for cyclists to keep their bikes inside. A national gold medallist said their cycles cost between Ã¢ÂÂ¹5-9 lakh and once damaged, they become non-repairable. \n",
      "실제 요약 : Cyclists sleep on stadium floor instead of hotel over costly cycles\n",
      "예측 요약 : Cyclists taking part in National Track Cycling Championship in Jaipur opted to sleep on the floor inside the stadium instead of hotels over expensive cycles.\n",
      "\n",
      "\n",
      "원문 : Silvia Grecco, a 56-year-old Brazilian mother narrates her local football team Palmeiras' matches live to her 12-year-old blind and autistic son Nickollas from the stands. \"I describe details: this player is wearing short sleeves...colour of...football boots, hair colour...Everything I see and feel, I tell him, even when I need to curse the referee!\" Grecco said after a recent match.\n",
      "실제 요약 : Brazilian mother narrates football matches to blind son from stands\n",
      "예측 요약 : \n",
      "\n",
      "\n",
      "원문 : A TechCrunch report has claimed that IndiaÃ¢ÂÂs largest bank SBI secured a passwordless server \"overnight\" on being alerted it allowed anyone to access phone numbers, bank balances, and transactions of millions of its customers. The Mumbai-based server was containing two months of data from SBI Quick, an SMS and call-based system used to request basic information about accounts, TechCrunch revealed.\n",
      "실제 요약 : SBI left account data of millions of users unprotected: Report\n",
      "예측 요약 : \n",
      "\n",
      "\n",
      "원문 : Rahul Gandhi has replied to Goa CM Manohar Parrikar's letter, which accused the Congress President of using his \"visit to an ailing man for political gains\". \"He's under immense pressure from the PM after our meeting and needs to demonstrate his loyalty by attacking me,\" Gandhi wrote in his letter. Parrikar had clarified he didn't discuss Rafale deal with Rahul.\n",
      "실제 요약 : CM Parrikar under pressure from PM after our Goa meet: Rahul\n",
      "예측 요약 : Rahul Gandhi has replied to Goa CM Manohar Parrikar's letter, which accused the Congress President of using his \"visit to an ailing man for political gains\".\n",
      "\n",
      "\n",
      "원문 : Twenty-seven-year-old Mohammed Mahuwala was arrested in Indore on Wednesday for allegedly cheating e-commerce giant Amazon of nearly Ã¢ÂÂ¹30 lakh. Mahuwala was a member of a gang who ordered costly gadgets from Amazon. \"[They] used to get refund of the amount paid...by saying the parcel...was empty. In reality, these devices were taken out from parcel and sold...to local shopkeepers,\" said police.\n",
      "실제 요약 : Man arrested for cheating Amazon of Ã¢ÂÂ¹30 lakh by taking refunds\n",
      "예측 요약 : Mahuwala was a member of a gang who ordered costly gadgets from Amazon.\n",
      "\n",
      "\n",
      "원문 : AgustaWestland chopper scam co-accused Rajiv Saxena was extradited to India from UAE on Wednesday. He had been evading the Enforcement Directorate's summons claiming he was suffering from leukaemia but had moved an anti-money laundering court for anticipatory bail in December, stating he had never been summoned at his Dubai address. Saxena's lawyers alleged he had been \"illegally extradited\". \n",
      "실제 요약 : AgustaWestland scam accused Rajiv Saxena extradited to India\n",
      "예측 요약 : AgustaWestland chopper scam co-accused Rajiv Saxena was extradited to India from UAE on Wednesday.\n",
      "\n",
      "\n",
      "원문 : Afghan President Ashraf Ghani has said the \"keys to war\" are in Pakistan's Islamabad, Quetta and Rawalpindi, accusing the country of providing safe havens to militants, including those belonging to the Taliban. Ghani added the \"key to peace was in Afghanistan\". His comments came amid the talks between the US and the Taliban to end the 17-year war in Afghanistan.\n",
      "실제 요약 : Pakistan holds 'keys to war': Afghanistan\n",
      "예측 요약 : Afghan President Ashraf Ghani has said the \"keys to war\" are in Pakistan's Islamabad, Quetta and Rawalpindi, accusing the country of providing safe havens to militants, including those belonging to the Taliban.\n",
      "\n",
      "\n",
      "원문 : A Singapore-based insurance agent has been jailed for two years and five months for threatening to harm his clients unless they paid him in bitcoins. The 36-year-old set up an email account, and signed the messages as 'Lord Voldemort', a fictional character from the Harry Potter series. Ye Lin Myint targeted about 33 people, including those who cancelled insurance policies.\n",
      "실제 요약 : Insurance agent 'Lord Voldemort' jailed for threatening clients\n",
      "예측 요약 : A Singapore-based insurance agent has been jailed for two years and five months for threatening to harm his clients unless they paid him in bitcoins.\n",
      "\n",
      "\n",
      "원문 : Gabrielle Reilly, a 22-year-old US woman, created earrings for her Apple AirPods and put it up for sale online for $20 (about Ã¢ÂÂ¹1,500). \"I absolutely refuse to lose them (AirPods)...So I made earrings,\" she explained. The earrings, which took her over an hour to make, debuted in a video on Twitter that has since garnered over three million views.\n",
      "실제 요약 : Woman turns Apple AirPods into earrings to avoid losing them\n",
      "예측 요약 : \"I absolutely refuse to lose them (AirPods)...So I made earrings,\" she explained.\n",
      "\n",
      "\n",
      "원문 : Ex-ICICI Bank CEO Chanda Kochhar said she's \"utterly disappointed, hurt and shocked\" by the bank's decision to terminate her. Kochhar said she served ICICI for 34 years with utmost honesty and integrity and that ultimately truth will prevail. Adding that she hasn't been given a copy of the independent probe report, Kochhar said none of ICICI's credit decisions are unilateral\n",
      "실제 요약 : Shocked, hurt by ICICI's decision, truth will prevail: Kochhar\n",
      "예측 요약 : Adding that she hasn't been given a copy of the independent probe report, Kochhar said none of ICICI's credit decisions are unilateral\n",
      "\n",
      "\n",
      "원문 : Swedish multinational fast-fashion brand Hennes & Mauritz AB (H&M) has hired Christopher Wylie, the whistleblower who exposed Facebook's Cambridge Analytica data scandal. WylieÃ¢ÂÂs focus will be to help get better insights on customers, products and markets and support work on sustainable and ethical artificial intelligence, H&M spokesperson said. Wylie is a former employee of Cambridge Analytica.\n",
      "실제 요약 : Fashion brand H&M hires Facebook data scandal whistleblower\n",
      "예측 요약 : Swedish multinational fast-fashion brand Hennes & Mauritz AB (H&M) has hired Christopher Wylie, the whistleblower who exposed Facebook's Cambridge Analytica data scandal.\n",
      "\n",
      "\n",
      "원문 : Micro-blogging platform Twitter is testing a new feature on Android to put news on the top of a user's timeline. \"With this update, weÃ¢ÂÂre making it easier for people to see news and stories their followers have been discussing,\" Product Manager Walter Gurzynski said. The feature comes alongside a prompt saying, \"Catch up on what's happened while you were away.\"\n",
      "실제 요약 : Twitter testing news-first timeline feature on Android\n",
      "예측 요약 : Micro-blogging platform Twitter is testing a new feature on Android to put news on the top of a user's timeline.\n",
      "\n",
      "\n",
      "원문 : Samsung has started mass producing its one terabyte 'embedded Universal Flash Storage (eUFS) 2.1' technology for \"use in next-generation mobile applications\", which it claims is the industry's first such eUFS. The company added the new eUFS will let smartphones store 260 10-minute videos shot in 4K UHD format. It'll be sized the same as the previous 512GB version, Samsung said.\n",
      "실제 요약 : Samsung builds world's first 1TB storage chip for smartphones \n",
      "예측 요약 : Samsung has started mass producing its one terabyte 'embedded Universal Flash Storage (eUFS) 2.1' technology for \"use in next-generation mobile applications\", which it claims is the industry's first such eUFS.\n",
      "\n",
      "\n",
      "원문 : Prime Minister Narendra Modi on Wednesday said the people with 'negative mindset' are questioning him and his government for floating pro-poor schemes. He added negative mindset people are raising doubts about schemes such as building toilets and providing free gas connections to the poor. He further said that negative mentality laced with a vested interest still exists in the country.\n",
      "실제 요약 : People with 'negative mindset' quizzing pro-poor schemes: PM\n",
      "예측 요약 : Prime Minister Narendra Modi on Wednesday said the people with 'negative mindset' are questioning him and his government for floating pro-poor schemes.\n",
      "\n",
      "\n",
      "원문 : Union Minister Anantkumar Hegde took a dig at Congress President Rahul Gandhi by calling him a \"hybrid specimen\" who has no clue about religion. \"A father who's...Muslim, a mother who's...Christian and the son is supposed to be...Brahmin. How is that even possible?\" he said. He added such \"hybrid specimen\" cannot be found in any laboratory in the world.\n",
      "실제 요약 : Rahul is hybrid specimen, has no clue about religion: Hegde\n",
      "예측 요약 : Union Minister Anantkumar Hegde took a dig at Congress President Rahul Gandhi by calling him a \"hybrid specimen\" who has no clue about religion.\n",
      "\n",
      "\n",
      "원문 : Several parts of the US are set to experience record low temperatures as the polar vortex hit the Upper Midwest, with more than 200 million people expected to experience below-freezing temperatures this week. Temperatures throughout the Upper Midwest are expected to be at least 20-40Ã¢ÂÂ below zero. Government offices and schools have been closed in several areas.\n",
      "실제 요약 : Extreme cold to affect 200 million people as polar vortex hits US\n",
      "예측 요약 : Several parts of the US are set to experience record low temperatures as the polar vortex hit the Upper Midwest, with more than 200 million people expected to experience below-freezing temperatures this week.\n",
      "\n",
      "\n",
      "원문 : The police on Wednesday registered cases against 13 persons, including a woman leader of Hindu Mahasabha, in Aligarh for firing at an effigy of Mahatma Gandhi with an air pistol. \"The incident took place in a house in Naurangabad locality of the city,\" Senior Superintendent of Police said. The video of the event went viral on social media, he added.\n",
      "실제 요약 : 13 booked for firing air shots at Mahatma Gandhi's effigy\n",
      "예측 요약 : The police on Wednesday registered cases against 13 persons, including a woman leader of Hindu Mahasabha, in Aligarh for firing at an effigy of Mahatma Gandhi with an air pistol.\n",
      "\n",
      "\n",
      "원문 : Railway police has rescued a woman travelling on a train in Chennai who got her leg stuck inside the commode of a toilet. After being caught inside the commode hole, she struggled to remove her leg and following failed attempts, she shouted for help, reports said. Railway police used a cutter to pry open the commode and freed her leg.\n",
      "실제 요약 : Railway police rescues woman with leg stuck in train toilet\n",
      "예측 요약 : Railway police has rescued a woman travelling on a train in Chennai who got her leg stuck inside the commode of a toilet.\n",
      "\n",
      "\n",
      "원문 : The US on Tuesday began returning asylum seekers to Mexico, sending back a migrant from a Central American nation and called the move a \"response to the illegal migration crisis\" faced by it. Under its Migrant Protection Protocols policy, the US will return certain migrants who cross into the country illegally back to Mexico while their asylum requests are processed.\n",
      "실제 요약 : US begins sending back asylum seekers to Mexico\n",
      "예측 요약 : \n",
      "\n",
      "\n"
     ]
    }
   ],
   "source": [
    "for i in range(0, 50):\n",
    "    print(\"원문 :\", org_data['text'][i])\n",
    "    print(\"실제 요약 :\", org_data['headlines'][i])\n",
    "    print(\"예측 요약 :\", summarize(org_data['text'][i], ratio=0.4))\n",
    "    \n",
    "    print(\"\\n\")"
   ]
  },
  {
   "cell_type": "markdown",
   "metadata": {},
   "source": [
    "### 5.1 추상적 요약과 추출적 요약 비교 \n",
    "\n",
    "원문 : congress spokesperson randeep surjewala today accused pm narendra modi led government treating issue instant triple talaq political football matter justice muslim women surjewala said government congress request provision attach property men provide compensation affected women following divorce  \n",
    "실제 요약 : triple talaq issue is political football for govt congress  \n",
    "예측 요약 :  `pm modi` calls `triple talaq` bill `against`  \n",
    "\n",
    "**평가 : 문법과 내용이 모두 어색하지 않음**\n",
    "\n",
    "원문 : number deaths swine flu mumbai risen cases reported far year according reports notably swine flu deaths reported mumbai meanwhile cases swine flu deaths reported across maharashtra year  \n",
    "실제 요약 : swine flu causes deaths in mumbai this year  \n",
    "예측 요약 :  `killed` in due to `floods` in   \n",
    "\n",
    "**평가 : flu / flood가 잘못 구분된듯 함**\n",
    "\n",
    "원문 : first draft national register citizens assam recognised crore people indian citizens verification process rest crore applicants still registrar general india said sunday assam witnessed influx migrants bangladesh became state nrc  \n",
    "실제 요약 : assam recognises cr legal citizens in first nrc draft  \n",
    "예측 요약 :  govt to spend crore to families of   \n",
    "\n",
    "**평가 : 의미를 알 수 없는 문장**\n",
    "\n",
    "원문 : rbi sell least additional billion support rupee sbi estimated based intervention patterns since india forex reserves fallen peak billion april billion september notably rupee closed fresh low dollar tuesday  \n",
    "실제 요약 : rbi can sell another billion to defend rupee sbi  \n",
    "예측 요약 :  `rbi` shares hit bn after merger with  \n",
    "\n",
    "**평가 : rbi 외에는 전혀 다른 의미의 문장**\n",
    "\n",
    "원문 : pakistan planning seize financial assets charities run mastermind lashkar taiba founder hafiz saeed according reuters report government plans take jamaat ud dawa charity wing foundation reports added crackdown comes amid us demands pakistan act terrorists  \n",
    "실제 요약 : pak plans to seize hafiz saeed financial assets report  \n",
    "예측 요약 :  hafiz saeed hafiz saeed to hafiz saeed   \n",
    "\n",
    "**평가 : 멍청함**\n",
    "\n",
    "***\n",
    "\n",
    "원문 : Former Windies fast bowler Curtly Ambrose dismissed seven Australian batsmen within a span of 32 balls giving away just one run, in a Test match on January 30, 1993. Ambrose's spell helped his team bowl out Australia for 119 in the first innings, after being 85 for 2 at one point. `Ambrose ended with first-innings figures of 18-9-25-7.`  \n",
    "실제 요약 : Pacer once took 7 wickets for just 1 run in 32 balls in a Test  \n",
    "예측 요약 : `Ambrose ended with first-innings figures of 18-9-25-7.`  \n",
    "\n",
    "\n",
    "원문 : A London zoo is offering people to name a cockroach after their exes on Valentine's Day for ÃÂ£1.50 (nearly Ã¢ÂÂ¹140). \"For those that don't quite require revenge, there's another way to make you feel better about getting back at your ex,\" the zoo said in a statement. `The names will appear on zoo's 'roach board' on February 14.`  \n",
    "실제 요약 : UK zoo offers people to name cockroach after their ex on Valentine's  \n",
    "예측 요약 : `The names will appear on zoo's 'roach board' on February 14.`  \n",
    "\n",
    "\n",
    "원문 : Stand-in captain Rohit Sharma has become the 14th Indian cricketer to play 200 ODIs, achieving the feat after taking the field against New Zealand in fourth ODI at Hamilton on Thursday. The 31-year-old had made his ODI debut on June 23, 2007, against Ireland in Belfast. `Rohit scored 7,799 runs in his first 199 ODIs at an average of 48.14.`  \n",
    "실제 요약 : Rohit Sharma becomes 14th Indian cricketer to play 200 ODIs  \n",
    "예측 요약 : `Rohit scored 7,799 runs in his first 199 ODIs at an average of 48.14.`  \n",
    "\n",
    "\n",
    "원문 : Batsman Shubman Gill has become the 227th cricketer to represent India in ODI cricket, achieving the feat against New Zealand in the fourth ODI at Hamilton on Thursday. The 19-year-old received his maiden ODI cap from former captain MS Dhoni. `Notably, Shubman was named Player of the Under-19 World Cup in New Zealand last year.`  \n",
    "실제 요약 : 19-year-old Shubman Gill becomes India's 227th ODI cricketer  \n",
    "예측 요약 : `Notably, Shubman was named Player of the Under-19 World Cup in New Zealand last year.`  \n",
    "\n",
    "\n",
    "원문 : `Investigators searching for a lost plane carrying Argentine forward Emiliano Sala found two seat cushions on French coast that \"likely\" belonged to the aircraft.` The investigators said they'll now launch an underwater seabed search for aircraft wreckage. The Cardiff City footballer was travelling from France's Nantes to Wales' Cardiff when his plane disappeared over English Channel on January 21.  \n",
    "실제 요약 : 2 seat cushions from 'missing plane carrying footballer' found  \n",
    "예측 요약 : `Investigators searching for a lost plane carrying Argentine forward Emiliano Sala found two seat cushions on French coast that \"likely\" belonged to the aircraft.`  "
   ]
  },
  {
   "cell_type": "markdown",
   "metadata": {},
   "source": [
    "## 느낀점\n",
    "\n",
    "1. 추출적 요약의 경우 특정 문장을 통째로 가져오는 경우가 매우 많았다. 문장을 그대로 가져오니 내용이 어느정도 일치하고 문법상 어색함은 없으나, 단 하나의 문장이 해당 text 전체를 나타낼 수는 없는 한계점이 있다.\n",
    "2. 추상적 요약의 경우 예측 결과가 본 text의 내용을 충분히 요약하거나 맥락을 이어가지 못했다. 소수의 훌륭한 예측 결과들은 본 text의 핵심을 비슷하게 표현하는 경우도 있어, 모델의 성능 여부가 중요한 것으로 보인다.\n",
    "3. 추상적 요약을 진행하면서 최종 결과물 앞에 전부 `스페이스바` 한 칸이 입력된 채로 출력되었다.  \n",
    "exp8 프로젝트는 exp8 노드를 진행하면서 정리한 코드를 그대로 사용했는데, 노드를 정리하는 과정 어딘가에서 코드를 잘못 입력한 것 같다. 어느 부분인지는 찾아내지 못했다..\n",
    "4. 이전에 진행했던 nlp 관련 exp에서 패딩을 앞에 붙이는지 뒤에 붙이는 지에 따라 모델 성능에 유의미한 변화가 있다고 했었는데, 이번 exp에서도 적용되는 내용인지 궁금점이 들었지만 모델 훈련하는데 많은 시간이 소요되어 시도해보지 못했다."
   ]
  }
 ],
 "metadata": {
  "interpreter": {
   "hash": "6a79ad638c2a33e4c200ee9d03a630086321746eff3c6a16fb4371b088891321"
  },
  "kernelspec": {
   "display_name": "Python 3.9.7 ('base')",
   "language": "python",
   "name": "python3"
  },
  "language_info": {
   "codemirror_mode": {
    "name": "ipython",
    "version": 3
   },
   "file_extension": ".py",
   "mimetype": "text/x-python",
   "name": "python",
   "nbconvert_exporter": "python",
   "pygments_lexer": "ipython3",
   "version": "3.9.7"
  },
  "orig_nbformat": 4
 },
 "nbformat": 4,
 "nbformat_minor": 2
}
